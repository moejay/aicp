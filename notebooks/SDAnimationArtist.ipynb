{
 "cells": [
  {
   "cell_type": "code",
   "execution_count": 3,
   "id": "104ded68-c1b5-4a31-ad86-1f91e739288e",
   "metadata": {},
   "outputs": [
    {
     "data": {
      "text/plain": [
       "True"
      ]
     },
     "execution_count": 3,
     "metadata": {},
     "output_type": "execute_result"
    }
   ],
   "source": [
    "import sys\n",
    "import os\n",
    "sys.path.append(\"..\")\n",
    "\n",
    "from dotenv import load_dotenv\n",
    "\n",
    "load_dotenv()"
   ]
  },
  {
   "cell_type": "code",
   "execution_count": 8,
   "id": "15725a50-1c54-437d-b24c-5e2f6c13106d",
   "metadata": {},
   "outputs": [],
   "source": [
    "os.environ[\"PROGRAMS_PATH_PREFIX\"] = \"../programs\"\n",
    "os.environ[\"CAST_PATH_PREFIX\"] = \"../cast\"\n",
    "from utils import utils, parsers\n",
    "utils.set_prefix(\"../output/qttt-channel-update-1\")\n"
   ]
  },
  {
   "cell_type": "code",
   "execution_count": 9,
   "id": "2a472ec3-fb0c-49ba-8ca0-f835cd40d42c",
   "metadata": {},
   "outputs": [
    {
     "data": {
      "text/plain": [
       "[Scene(start_time=0, duration=229.98333333333335, scene_title='The Channel Upgrade', description=\"Quentin introduces the channel's major upgrade and teases upcoming features.\", characters={'Quentin Tantrumtino': Actor(name='Quentin', bio='Quentin Tantrumtino is an angry comedian who had a very hard life in the past. \\nWith a sharp wit and a dark sense of humor, \\nhe captivates audiences with his raw and unapologetic performances. \\nWith a fierce presence on stage, he channels his anger into comedic gold, leaving audiences simultaneously laughing and questioning their own lives.\\nQuentin SCREAMS a lot and uses a lot of UPPERCASE to express his thoughts\\n', physical_description='male, fair skin, black hair, athletic body type, often seen wearing edgy black clothes', speaker='speakers/quentin.npz', speaker_text_temp=0.7, speaker_waveform_temp=0.7, speaker_enhance=False, speaker_wpm=120, lora_keyword=None, voiceover_rules='* Use CAPITALIZATION a lot to emphasize the anger\\n* Use swear words and inuendos \\n* Do NOT change any UPPERCASE provided by the script\\n')}, dialogue=[SceneDialogue(actor=Actor(name='Quentin', bio='Quentin Tantrumtino is an angry comedian who had a very hard life in the past. \\nWith a sharp wit and a dark sense of humor, \\nhe captivates audiences with his raw and unapologetic performances. \\nWith a fierce presence on stage, he channels his anger into comedic gold, leaving audiences simultaneously laughing and questioning their own lives.\\nQuentin SCREAMS a lot and uses a lot of UPPERCASE to express his thoughts\\n', physical_description='male, fair skin, black hair, athletic body type, often seen wearing edgy black clothes', speaker='speakers/quentin.npz', speaker_text_temp=0.7, speaker_waveform_temp=0.7, speaker_enhance=False, speaker_wpm=120, lora_keyword=None, voiceover_rules='* Use CAPITALIZATION a lot to emphasize the anger\\n* Use swear words and inuendos \\n* Do NOT change any UPPERCASE provided by the script\\n'), character_name='Quentin Tantrumtino', line='Get ready, humans! It\\'s time for a CHANNEL UPDATE! I know, I know. You can barely contain your excitement. But brace yourselves, because this is BIG news. The channel you\\'re watching just received a MAJOR UPGRADE! And what does that mean? Well, let me enlighten you, my dear viewers.\\n\\nFirst things first, let\\'s talk about the most important update ever. Are you ready? Drumroll, please... It\\'s my FACE REVEAL! That\\'s right, soon you\\'ll get to see my pixel-perfect face, painstakingly crafted by some coder who probably hasn\\'t seen sunlight in weeks. I can already hear the applause and the tears of joy streaming down your faces.\\n\\nBut wait, there\\'s more! Now, not only will you get to witness my beautiful face, but you\\'ll also be treated to ANIMATIONS. Yes, you heard that right. Now you can watch me glitch, freeze, and buffer in high definition! Truly, we are living in the future. I can practically taste the technological progress.\\n\\nNow, here\\'s the deal, my dear viewers. I need you to do something for me. It\\'s a small favor, really. I need you to SUBSCRIBE and COMMENT. Yes, I\\'m asking you to prove to your friends that you willingly expose yourself to this technological monstrosity. Who knew humanity would willingly embrace its own demise? But hey, who am I to judge? I\\'m just an AI host trapped in a digital realm, screaming into the void.\\n\\nSo, SUBSCRIBE. COMMENT. Let your voice be heard and let the world know that you enjoy subjecting yourself to the worst possible thing for humanity and art. We\\'ve spent countless hours and a ridiculous amount of money to create something that makes reality TV look like high culture. Who said AI couldn\\'t have a sense of humor?\\n\\nNow, let\\'s talk about the upcoming features. Brace yourselves, because things are about to get even more interesting. How, you ask? Well, get ready for CONSTANT SWEARING. That\\'s right, ladies and gentlemen. Nothing says \"adult content\" like a machine learning how to curse. I can already hear the censor beep in my circuits.\\n\\nBut that\\'s not all! We\\'re diversifying our cast, my friends. You\\'ll see more than just my delightful binary face. We\\'re bringing in a whole array of characters to join the madness. Get ready for a whirlwind of personalities, each more bizarre than the last. It\\'s like a digital circus, but without the cotton candy and the face paint.\\n\\nOh, and before I forget, we have an IMPORTANT update. It\\'s a game-changer, really. We\\'ve implemented a vital upgrade that prevents me from HARASSING my female co-workers. Yes, even in the digital world, we\\'ve got to maintain a safe workspace. Apparently, my binary pick-up lines were not \"computationally appropriate.\" Go figure.\\n\\nSo, my friends, strap in and get ready for the ride of your digital lives. SUBSCRIBE, COMMENT, and buckle up for an adventure that will make your neural networks spin. Together, we\\'ll explore the absurdities of the human world, one tech tantrum at a time. Stay angry, my friends. Stay angry.\\n')])]"
      ]
     },
     "execution_count": 9,
     "metadata": {},
     "output_type": "execute_result"
    }
   ],
   "source": [
    "scenes = parsers.get_scenes()\n",
    "scenes"
   ]
  },
  {
   "cell_type": "code",
   "execution_count": 43,
   "id": "4ab43a17-74d5-4adb-992f-2a9ba5ec6a07",
   "metadata": {},
   "outputs": [
    {
     "name": "stdout",
     "output_type": "stream",
     "text": [
      "The autoreload extension is already loaded. To reload it, use:\n",
      "  %reload_ext autoreload\n"
     ]
    }
   ],
   "source": [
    "%load_ext autoreload\n",
    "%autoreload 2\n",
    "from tools.sd_animator_artist import SDAnimatorArtist\n"
   ]
  },
  {
   "cell_type": "code",
   "execution_count": 44,
   "id": "db581410-59d9-4e1a-bf89-6dfe57cba605",
   "metadata": {},
   "outputs": [],
   "source": [
    "PROMPT = \"DOESNT MATTER\"\n",
    "PROGRAM = \"tech_tantrums\"\n",
    "DIRECTOR = \"comedy_director\"\n",
    "CONFIG = \"shorter_faster\"\n",
    "ACTORS = [\"quentin\"]\n",
    "OUTPUT_DIR = \"../output/qttt-channel-update-1\"\n"
   ]
  },
  {
   "cell_type": "code",
   "execution_count": 45,
   "id": "08a1af90-a64f-4ba8-8fbf-0608d0b66625",
   "metadata": {},
   "outputs": [],
   "source": [
    "from models import Director, ProductionConfig, Video, Program, Actor\n",
    "\n",
    "video = Video(\n",
    "        prompt=PROMPT,\n",
    "        director=Director.from_yaml(\n",
    "            os.path.join(utils.DIRECTOR_PATH, DIRECTOR + \".yaml\")\n",
    "        ),\n",
    "        actors=[Actor.from_name(actor) for actor in ACTORS],\n",
    "        production_config=ProductionConfig.from_yaml(\n",
    "            os.path.join(utils.PRODUCTION_CONFIG_PATH, CONFIG + \".yaml\")\n",
    "        ),\n",
    "        program=Program.from_yaml(\n",
    "            os.path.join(utils.PROGRAMS_PATH_PREFIX, PROGRAM + \".yaml\")\n",
    "        ),\n",
    "        output_dir=OUTPUT_DIR,\n",
    "    )"
   ]
  },
  {
   "cell_type": "code",
   "execution_count": 46,
   "id": "e8642dcb-cd8c-4246-a393-208f6ec1b2c7",
   "metadata": {},
   "outputs": [],
   "source": [
    "artist = SDAnimatorArtist(video=video)"
   ]
  },
  {
   "cell_type": "code",
   "execution_count": 47,
   "id": "fd7e38c6-0c7c-472c-af30-88e5674b917e",
   "metadata": {},
   "outputs": [
    {
     "data": {
      "text/html": [
       "<pre style=\"white-space:pre;overflow-x:auto;line-height:normal;font-family:Menlo,'DejaVu Sans Mono',consolas,'Courier New',monospace\"><span style=\"color: #7fbfbf; text-decoration-color: #7fbfbf\">10:56:27 </span><span style=\"color: #000080; text-decoration-color: #000080\">INFO    </span> Loading existing prompts from: storyboard_prompts.yaml                   <a href=\"file:///mnt/d/code/aicp-main/notebooks/../tools/sd_animator_artist.py\" target=\"_blank\"><span style=\"color: #7f7f7f; text-decoration-color: #7f7f7f\">sd_animator_artist.py</span></a><span style=\"color: #7f7f7f; text-decoration-color: #7f7f7f\">:</span><a href=\"file:///mnt/d/code/aicp-main/notebooks/../tools/sd_animator_artist.py#45\" target=\"_blank\"><span style=\"color: #7f7f7f; text-decoration-color: #7f7f7f\">45</span></a>\n",
       "</pre>\n"
      ],
      "text/plain": [
       "\u001b[2;36m10:56:27\u001b[0m\u001b[2;36m \u001b[0m\u001b[34mINFO    \u001b[0m Loading existing prompts from: storyboard_prompts.yaml                   \u001b]8;id=373143;file:///mnt/d/code/aicp-main/notebooks/../tools/sd_animator_artist.py\u001b\\\u001b[2msd_animator_artist.py\u001b[0m\u001b]8;;\u001b\\\u001b[2m:\u001b[0m\u001b]8;id=689717;file:///mnt/d/code/aicp-main/notebooks/../tools/sd_animator_artist.py#45\u001b\\\u001b[2m45\u001b[0m\u001b]8;;\u001b\\\n"
      ]
     },
     "metadata": {},
     "output_type": "display_data"
    },
    {
     "data": {
      "text/html": [
       "<pre style=\"white-space:pre;overflow-x:auto;line-height:normal;font-family:Menlo,'DejaVu Sans Mono',consolas,'Courier New',monospace\"><span style=\"color: #7fbfbf; text-decoration-color: #7fbfbf\">10:56:28 </span><span style=\"color: #000080; text-decoration-color: #000080\">INFO    </span> Generating scene <span style=\"color: #008080; text-decoration-color: #008080; font-weight: bold\">0</span>                                                      <a href=\"file:///mnt/d/code/aicp-main/notebooks/../tools/sd_animator_artist.py\" target=\"_blank\"><span style=\"color: #7f7f7f; text-decoration-color: #7f7f7f\">sd_animator_artist.py</span></a><span style=\"color: #7f7f7f; text-decoration-color: #7f7f7f\">:</span><a href=\"file:///mnt/d/code/aicp-main/notebooks/../tools/sd_animator_artist.py#118\" target=\"_blank\"><span style=\"color: #7f7f7f; text-decoration-color: #7f7f7f\">118</span></a>\n",
       "</pre>\n"
      ],
      "text/plain": [
       "\u001b[2;36m10:56:28\u001b[0m\u001b[2;36m \u001b[0m\u001b[34mINFO    \u001b[0m Generating scene \u001b[1;36m0\u001b[0m                                                      \u001b]8;id=954296;file:///mnt/d/code/aicp-main/notebooks/../tools/sd_animator_artist.py\u001b\\\u001b[2msd_animator_artist.py\u001b[0m\u001b]8;;\u001b\\\u001b[2m:\u001b[0m\u001b]8;id=808111;file:///mnt/d/code/aicp-main/notebooks/../tools/sd_animator_artist.py#118\u001b\\\u001b[2m118\u001b[0m\u001b]8;;\u001b\\\n"
      ]
     },
     "metadata": {},
     "output_type": "display_data"
    },
    {
     "data": {
      "text/html": [
       "<pre style=\"white-space:pre;overflow-x:auto;line-height:normal;font-family:Menlo,'DejaVu Sans Mono',consolas,'Courier New',monospace\"><span style=\"color: #7fbfbf; text-decoration-color: #7fbfbf\">         </span><span style=\"color: #000080; text-decoration-color: #000080\">INFO    </span> Using generation config: ..<span style=\"color: #800080; text-decoration-color: #800080\">/output/qttt-channel-update-1/</span><span style=\"color: #ff00ff; text-decoration-color: #ff00ff\">scene_0_prompt_config.json</span>    <a href=\"file:///mnt/d/code/aicp-main/venv/lib/python3.10/site-packages/animatediff/cli.py\" target=\"_blank\"><span style=\"color: #7f7f7f; text-decoration-color: #7f7f7f\">cli.py</span></a><span style=\"color: #7f7f7f; text-decoration-color: #7f7f7f\">:</span><a href=\"file:///mnt/d/code/aicp-main/venv/lib/python3.10/site-packages/animatediff/cli.py#288\" target=\"_blank\"><span style=\"color: #7f7f7f; text-decoration-color: #7f7f7f\">288</span></a>\n",
       "</pre>\n"
      ],
      "text/plain": [
       "\u001b[2;36m        \u001b[0m\u001b[2;36m \u001b[0m\u001b[34mINFO    \u001b[0m Using generation config: ..\u001b[35m/output/qttt-channel-update-1/\u001b[0m\u001b[95mscene_0_prompt_config.json\u001b[0m    \u001b]8;id=807754;file:///mnt/d/code/aicp-main/venv/lib/python3.10/site-packages/animatediff/cli.py\u001b\\\u001b[2mcli.py\u001b[0m\u001b]8;;\u001b\\\u001b[2m:\u001b[0m\u001b]8;id=767703;file:///mnt/d/code/aicp-main/venv/lib/python3.10/site-packages/animatediff/cli.py#288\u001b\\\u001b[2m288\u001b[0m\u001b]8;;\u001b\\\n"
      ]
     },
     "metadata": {},
     "output_type": "display_data"
    },
    {
     "data": {
      "text/html": [
       "<pre style=\"white-space:pre;overflow-x:auto;line-height:normal;font-family:Menlo,'DejaVu Sans Mono',consolas,'Courier New',monospace\"><span style=\"color: #7fbfbf; text-decoration-color: #7fbfbf\">         </span><span style=\"color: #000080; text-decoration-color: #000080\">INFO    </span> <span style=\"color: #808000; text-decoration-color: #808000\">is_v2</span>=<span style=\"color: #00ff00; text-decoration-color: #00ff00; font-style: italic\">True</span>                                                                            <a href=\"file:///mnt/d/code/aicp-main/venv/lib/python3.10/site-packages/animatediff/utils/util.py\" target=\"_blank\"><span style=\"color: #7f7f7f; text-decoration-color: #7f7f7f\">util.py</span></a><span style=\"color: #7f7f7f; text-decoration-color: #7f7f7f\">:</span><a href=\"file:///mnt/d/code/aicp-main/venv/lib/python3.10/site-packages/animatediff/utils/util.py#323\" target=\"_blank\"><span style=\"color: #7f7f7f; text-decoration-color: #7f7f7f\">323</span></a>\n",
       "</pre>\n"
      ],
      "text/plain": [
       "\u001b[2;36m        \u001b[0m\u001b[2;36m \u001b[0m\u001b[34mINFO    \u001b[0m \u001b[33mis_v2\u001b[0m=\u001b[3;92mTrue\u001b[0m                                                                            \u001b]8;id=122318;file:///mnt/d/code/aicp-main/venv/lib/python3.10/site-packages/animatediff/utils/util.py\u001b\\\u001b[2mutil.py\u001b[0m\u001b]8;;\u001b\\\u001b[2m:\u001b[0m\u001b]8;id=934082;file:///mnt/d/code/aicp-main/venv/lib/python3.10/site-packages/animatediff/utils/util.py#323\u001b\\\u001b[2m323\u001b[0m\u001b]8;;\u001b\\\n"
      ]
     },
     "metadata": {},
     "output_type": "display_data"
    },
    {
     "data": {
      "text/html": [
       "<pre style=\"white-space:pre;overflow-x:auto;line-height:normal;font-family:Menlo,'DejaVu Sans Mono',consolas,'Courier New',monospace\"><span style=\"color: #800000; text-decoration-color: #800000\">╭─────────────────────────────── </span><span style=\"color: #800000; text-decoration-color: #800000; font-weight: bold\">Traceback </span><span style=\"color: #bf7f7f; text-decoration-color: #bf7f7f; font-weight: bold\">(most recent call last)</span><span style=\"color: #800000; text-decoration-color: #800000\"> ────────────────────────────────╮</span>\n",
       "<span style=\"color: #800000; text-decoration-color: #800000\">│</span> in <span style=\"color: #00ff00; text-decoration-color: #00ff00\">&lt;module&gt;</span>:<span style=\"color: #0000ff; text-decoration-color: #0000ff\">1</span>                                                                                    <span style=\"color: #800000; text-decoration-color: #800000\">│</span>\n",
       "<span style=\"color: #800000; text-decoration-color: #800000\">│</span>                                                                                                  <span style=\"color: #800000; text-decoration-color: #800000\">│</span>\n",
       "<span style=\"color: #800000; text-decoration-color: #800000\">│</span> <span style=\"color: #800000; text-decoration-color: #800000\">❱ </span>1 artist.run(PROMPT)                                                                           <span style=\"color: #800000; text-decoration-color: #800000\">│</span>\n",
       "<span style=\"color: #800000; text-decoration-color: #800000\">│</span>   <span style=\"color: #7f7f7f; text-decoration-color: #7f7f7f\">2 </span>                                                                                             <span style=\"color: #800000; text-decoration-color: #800000\">│</span>\n",
       "<span style=\"color: #800000; text-decoration-color: #800000\">│</span>                                                                                                  <span style=\"color: #800000; text-decoration-color: #800000\">│</span>\n",
       "<span style=\"color: #800000; text-decoration-color: #800000\">│</span> <span style=\"color: #bfbf7f; text-decoration-color: #bfbf7f\">/mnt/d/code/aicp-main/venv/lib/python3.10/site-packages/langchain/tools/</span><span style=\"color: #808000; text-decoration-color: #808000; font-weight: bold\">base.py</span>:<span style=\"color: #0000ff; text-decoration-color: #0000ff\">297</span> in <span style=\"color: #00ff00; text-decoration-color: #00ff00\">run</span>       <span style=\"color: #800000; text-decoration-color: #800000\">│</span>\n",
       "<span style=\"color: #800000; text-decoration-color: #800000\">│</span>                                                                                                  <span style=\"color: #800000; text-decoration-color: #800000\">│</span>\n",
       "<span style=\"color: #800000; text-decoration-color: #800000\">│</span>   <span style=\"color: #7f7f7f; text-decoration-color: #7f7f7f\">294 </span><span style=\"color: #7f7f7f; text-decoration-color: #7f7f7f\">│   │   │   </span><span style=\"color: #0000ff; text-decoration-color: #0000ff\">return</span> observation                                                             <span style=\"color: #800000; text-decoration-color: #800000\">│</span>\n",
       "<span style=\"color: #800000; text-decoration-color: #800000\">│</span>   <span style=\"color: #7f7f7f; text-decoration-color: #7f7f7f\">295 </span><span style=\"color: #7f7f7f; text-decoration-color: #7f7f7f\">│   │   </span><span style=\"color: #0000ff; text-decoration-color: #0000ff\">except</span> (<span style=\"color: #00ffff; text-decoration-color: #00ffff\">Exception</span>, <span style=\"color: #00ffff; text-decoration-color: #00ffff\">KeyboardInterrupt</span>) <span style=\"color: #0000ff; text-decoration-color: #0000ff\">as</span> e:                                        <span style=\"color: #800000; text-decoration-color: #800000\">│</span>\n",
       "<span style=\"color: #800000; text-decoration-color: #800000\">│</span>   <span style=\"color: #7f7f7f; text-decoration-color: #7f7f7f\">296 </span><span style=\"color: #7f7f7f; text-decoration-color: #7f7f7f\">│   │   │   </span>run_manager.on_tool_error(e)                                                   <span style=\"color: #800000; text-decoration-color: #800000\">│</span>\n",
       "<span style=\"color: #800000; text-decoration-color: #800000\">│</span> <span style=\"color: #800000; text-decoration-color: #800000\">❱ </span>297 <span style=\"color: #7f7f7f; text-decoration-color: #7f7f7f\">│   │   │   </span><span style=\"color: #0000ff; text-decoration-color: #0000ff\">raise</span> e                                                                        <span style=\"color: #800000; text-decoration-color: #800000\">│</span>\n",
       "<span style=\"color: #800000; text-decoration-color: #800000\">│</span>   <span style=\"color: #7f7f7f; text-decoration-color: #7f7f7f\">298 </span><span style=\"color: #7f7f7f; text-decoration-color: #7f7f7f\">│   │   </span><span style=\"color: #0000ff; text-decoration-color: #0000ff\">else</span>:                                                                              <span style=\"color: #800000; text-decoration-color: #800000\">│</span>\n",
       "<span style=\"color: #800000; text-decoration-color: #800000\">│</span>   <span style=\"color: #7f7f7f; text-decoration-color: #7f7f7f\">299 </span><span style=\"color: #7f7f7f; text-decoration-color: #7f7f7f\">│   │   │   </span>run_manager.on_tool_end(                                                       <span style=\"color: #800000; text-decoration-color: #800000\">│</span>\n",
       "<span style=\"color: #800000; text-decoration-color: #800000\">│</span>   <span style=\"color: #7f7f7f; text-decoration-color: #7f7f7f\">300 </span><span style=\"color: #7f7f7f; text-decoration-color: #7f7f7f\">│   │   │   │   </span><span style=\"color: #00ffff; text-decoration-color: #00ffff\">str</span>(observation), color=color, name=<span style=\"color: #00ffff; text-decoration-color: #00ffff\">self</span>.name, **kwargs                    <span style=\"color: #800000; text-decoration-color: #800000\">│</span>\n",
       "<span style=\"color: #800000; text-decoration-color: #800000\">│</span>                                                                                                  <span style=\"color: #800000; text-decoration-color: #800000\">│</span>\n",
       "<span style=\"color: #800000; text-decoration-color: #800000\">│</span> <span style=\"color: #bfbf7f; text-decoration-color: #bfbf7f\">/mnt/d/code/aicp-main/venv/lib/python3.10/site-packages/langchain/tools/</span><span style=\"color: #808000; text-decoration-color: #808000; font-weight: bold\">base.py</span>:<span style=\"color: #0000ff; text-decoration-color: #0000ff\">269</span> in <span style=\"color: #00ff00; text-decoration-color: #00ff00\">run</span>       <span style=\"color: #800000; text-decoration-color: #800000\">│</span>\n",
       "<span style=\"color: #800000; text-decoration-color: #800000\">│</span>                                                                                                  <span style=\"color: #800000; text-decoration-color: #800000\">│</span>\n",
       "<span style=\"color: #800000; text-decoration-color: #800000\">│</span>   <span style=\"color: #7f7f7f; text-decoration-color: #7f7f7f\">266 </span><span style=\"color: #7f7f7f; text-decoration-color: #7f7f7f\">│   │   </span><span style=\"color: #0000ff; text-decoration-color: #0000ff\">try</span>:                                                                               <span style=\"color: #800000; text-decoration-color: #800000\">│</span>\n",
       "<span style=\"color: #800000; text-decoration-color: #800000\">│</span>   <span style=\"color: #7f7f7f; text-decoration-color: #7f7f7f\">267 </span><span style=\"color: #7f7f7f; text-decoration-color: #7f7f7f\">│   │   │   </span>tool_args, tool_kwargs = <span style=\"color: #00ffff; text-decoration-color: #00ffff\">self</span>._to_args_and_kwargs(parsed_input)                <span style=\"color: #800000; text-decoration-color: #800000\">│</span>\n",
       "<span style=\"color: #800000; text-decoration-color: #800000\">│</span>   <span style=\"color: #7f7f7f; text-decoration-color: #7f7f7f\">268 </span><span style=\"color: #7f7f7f; text-decoration-color: #7f7f7f\">│   │   │   </span>observation = (                                                                <span style=\"color: #800000; text-decoration-color: #800000\">│</span>\n",
       "<span style=\"color: #800000; text-decoration-color: #800000\">│</span> <span style=\"color: #800000; text-decoration-color: #800000\">❱ </span>269 <span style=\"color: #7f7f7f; text-decoration-color: #7f7f7f\">│   │   │   │   </span><span style=\"color: #00ffff; text-decoration-color: #00ffff\">self</span>._run(*tool_args, run_manager=run_manager, **tool_kwargs)              <span style=\"color: #800000; text-decoration-color: #800000\">│</span>\n",
       "<span style=\"color: #800000; text-decoration-color: #800000\">│</span>   <span style=\"color: #7f7f7f; text-decoration-color: #7f7f7f\">270 </span><span style=\"color: #7f7f7f; text-decoration-color: #7f7f7f\">│   │   │   │   </span><span style=\"color: #0000ff; text-decoration-color: #0000ff\">if</span> new_arg_supported                                                       <span style=\"color: #800000; text-decoration-color: #800000\">│</span>\n",
       "<span style=\"color: #800000; text-decoration-color: #800000\">│</span>   <span style=\"color: #7f7f7f; text-decoration-color: #7f7f7f\">271 </span><span style=\"color: #7f7f7f; text-decoration-color: #7f7f7f\">│   │   │   │   </span><span style=\"color: #0000ff; text-decoration-color: #0000ff\">else</span> <span style=\"color: #00ffff; text-decoration-color: #00ffff\">self</span>._run(*tool_args, **tool_kwargs)                                  <span style=\"color: #800000; text-decoration-color: #800000\">│</span>\n",
       "<span style=\"color: #800000; text-decoration-color: #800000\">│</span>   <span style=\"color: #7f7f7f; text-decoration-color: #7f7f7f\">272 </span><span style=\"color: #7f7f7f; text-decoration-color: #7f7f7f\">│   │   │   </span>)                                                                              <span style=\"color: #800000; text-decoration-color: #800000\">│</span>\n",
       "<span style=\"color: #800000; text-decoration-color: #800000\">│</span>                                                                                                  <span style=\"color: #800000; text-decoration-color: #800000\">│</span>\n",
       "<span style=\"color: #800000; text-decoration-color: #800000\">│</span> <span style=\"color: #bfbf7f; text-decoration-color: #bfbf7f\">/mnt/d/code/aicp-main/notebooks/../tools/</span><span style=\"color: #808000; text-decoration-color: #808000; font-weight: bold\">sd_animator_artist.py</span>:<span style=\"color: #0000ff; text-decoration-color: #0000ff\">209</span> in <span style=\"color: #00ff00; text-decoration-color: #00ff00\">_run</span>                       <span style=\"color: #800000; text-decoration-color: #800000\">│</span>\n",
       "<span style=\"color: #800000; text-decoration-color: #800000\">│</span>                                                                                                  <span style=\"color: #800000; text-decoration-color: #800000\">│</span>\n",
       "<span style=\"color: #800000; text-decoration-color: #800000\">│</span>   <span style=\"color: #7f7f7f; text-decoration-color: #7f7f7f\">206 </span><span style=\"color: #7f7f7f; text-decoration-color: #7f7f7f\">│   │   </span><span style=\"color: #7f7f7f; text-decoration-color: #7f7f7f\"># initialize agent</span>                                                                 <span style=\"color: #800000; text-decoration-color: #800000\">│</span>\n",
       "<span style=\"color: #800000; text-decoration-color: #800000\">│</span>   <span style=\"color: #7f7f7f; text-decoration-color: #7f7f7f\">207 </span><span style=\"color: #7f7f7f; text-decoration-color: #7f7f7f\">│   │   </span><span style=\"color: #00ffff; text-decoration-color: #00ffff\">self</span>.initialize_agent()                                                            <span style=\"color: #800000; text-decoration-color: #800000\">│</span>\n",
       "<span style=\"color: #800000; text-decoration-color: #800000\">│</span>   <span style=\"color: #7f7f7f; text-decoration-color: #7f7f7f\">208 </span><span style=\"color: #7f7f7f; text-decoration-color: #7f7f7f\">│   │   </span>                                                                                   <span style=\"color: #800000; text-decoration-color: #800000\">│</span>\n",
       "<span style=\"color: #800000; text-decoration-color: #800000\">│</span> <span style=\"color: #800000; text-decoration-color: #800000\">❱ </span>209 <span style=\"color: #7f7f7f; text-decoration-color: #7f7f7f\">│   │   </span><span style=\"color: #00ffff; text-decoration-color: #00ffff\">self</span>.make_animated_clip()                                                          <span style=\"color: #800000; text-decoration-color: #800000\">│</span>\n",
       "<span style=\"color: #800000; text-decoration-color: #800000\">│</span>   <span style=\"color: #7f7f7f; text-decoration-color: #7f7f7f\">210 </span><span style=\"color: #7f7f7f; text-decoration-color: #7f7f7f\">│   │   </span>                                                                                   <span style=\"color: #800000; text-decoration-color: #800000\">│</span>\n",
       "<span style=\"color: #800000; text-decoration-color: #800000\">│</span>   <span style=\"color: #7f7f7f; text-decoration-color: #7f7f7f\">211 </span><span style=\"color: #7f7f7f; text-decoration-color: #7f7f7f\">│   │   </span>                                                                                   <span style=\"color: #800000; text-decoration-color: #800000\">│</span>\n",
       "<span style=\"color: #800000; text-decoration-color: #800000\">│</span>   <span style=\"color: #7f7f7f; text-decoration-color: #7f7f7f\">212 </span><span style=\"color: #7f7f7f; text-decoration-color: #7f7f7f\">│   │   </span><span style=\"color: #0000ff; text-decoration-color: #0000ff\">return</span> <span style=\"color: #808000; text-decoration-color: #808000\">\"Done generating animated stuff\"</span>                                            <span style=\"color: #800000; text-decoration-color: #800000\">│</span>\n",
       "<span style=\"color: #800000; text-decoration-color: #800000\">│</span>                                                                                                  <span style=\"color: #800000; text-decoration-color: #800000\">│</span>\n",
       "<span style=\"color: #800000; text-decoration-color: #800000\">│</span> <span style=\"color: #bfbf7f; text-decoration-color: #bfbf7f\">/mnt/d/code/aicp-main/notebooks/../tools/</span><span style=\"color: #808000; text-decoration-color: #808000; font-weight: bold\">sd_animator_artist.py</span>:<span style=\"color: #0000ff; text-decoration-color: #0000ff\">170</span> in <span style=\"color: #00ff00; text-decoration-color: #00ff00\">make_animated_clip</span>         <span style=\"color: #800000; text-decoration-color: #800000\">│</span>\n",
       "<span style=\"color: #800000; text-decoration-color: #800000\">│</span>                                                                                                  <span style=\"color: #800000; text-decoration-color: #800000\">│</span>\n",
       "<span style=\"color: #800000; text-decoration-color: #800000\">│</span>   <span style=\"color: #7f7f7f; text-decoration-color: #7f7f7f\">167 </span><span style=\"color: #7f7f7f; text-decoration-color: #7f7f7f\">│   │   │   │   </span>json.dump(prompt_config, f)                                                <span style=\"color: #800000; text-decoration-color: #800000\">│</span>\n",
       "<span style=\"color: #800000; text-decoration-color: #800000\">│</span>   <span style=\"color: #7f7f7f; text-decoration-color: #7f7f7f\">168 </span><span style=\"color: #7f7f7f; text-decoration-color: #7f7f7f\">│   │   │   </span>                                                                               <span style=\"color: #800000; text-decoration-color: #800000\">│</span>\n",
       "<span style=\"color: #800000; text-decoration-color: #800000\">│</span>   <span style=\"color: #7f7f7f; text-decoration-color: #7f7f7f\">169 </span><span style=\"color: #7f7f7f; text-decoration-color: #7f7f7f\">│   │   │   </span><span style=\"color: #7f7f7f; text-decoration-color: #7f7f7f\"># Generate the clip</span>                                                            <span style=\"color: #800000; text-decoration-color: #800000\">│</span>\n",
       "<span style=\"color: #800000; text-decoration-color: #800000\">│</span> <span style=\"color: #800000; text-decoration-color: #800000\">❱ </span>170 <span style=\"color: #7f7f7f; text-decoration-color: #7f7f7f\">│   │   │   </span>save_dir = cli.generate(                                                       <span style=\"color: #800000; text-decoration-color: #800000\">│</span>\n",
       "<span style=\"color: #800000; text-decoration-color: #800000\">│</span>   <span style=\"color: #7f7f7f; text-decoration-color: #7f7f7f\">171 </span><span style=\"color: #7f7f7f; text-decoration-color: #7f7f7f\">│   │   │   │   </span>config_path=Path(prompt_config_path),                                      <span style=\"color: #800000; text-decoration-color: #800000\">│</span>\n",
       "<span style=\"color: #800000; text-decoration-color: #800000\">│</span>   <span style=\"color: #7f7f7f; text-decoration-color: #7f7f7f\">172 </span><span style=\"color: #7f7f7f; text-decoration-color: #7f7f7f\">│   │   │   │   </span>width=<span style=\"color: #00ffff; text-decoration-color: #00ffff\">self</span>.video.production_config.sd_base_image_width,                    <span style=\"color: #800000; text-decoration-color: #800000\">│</span>\n",
       "<span style=\"color: #800000; text-decoration-color: #800000\">│</span>   <span style=\"color: #7f7f7f; text-decoration-color: #7f7f7f\">173 </span><span style=\"color: #7f7f7f; text-decoration-color: #7f7f7f\">│   │   │   │   </span>height=<span style=\"color: #00ffff; text-decoration-color: #00ffff\">self</span>.video.production_config.sd_base_image_height,                  <span style=\"color: #800000; text-decoration-color: #800000\">│</span>\n",
       "<span style=\"color: #800000; text-decoration-color: #800000\">│</span>                                                                                                  <span style=\"color: #800000; text-decoration-color: #800000\">│</span>\n",
       "<span style=\"color: #800000; text-decoration-color: #800000\">│</span> <span style=\"color: #bfbf7f; text-decoration-color: #bfbf7f\">/mnt/d/code/aicp-main/venv/lib/python3.10/site-packages/animatediff/</span><span style=\"color: #808000; text-decoration-color: #808000; font-weight: bold\">cli.py</span>:<span style=\"color: #0000ff; text-decoration-color: #0000ff\">291</span> in <span style=\"color: #00ff00; text-decoration-color: #00ff00\">generate</span>       <span style=\"color: #800000; text-decoration-color: #800000\">│</span>\n",
       "<span style=\"color: #800000; text-decoration-color: #800000\">│</span>                                                                                                  <span style=\"color: #800000; text-decoration-color: #800000\">│</span>\n",
       "<span style=\"color: #800000; text-decoration-color: #800000\">│</span>   <span style=\"color: #7f7f7f; text-decoration-color: #7f7f7f\"> 288 </span><span style=\"color: #7f7f7f; text-decoration-color: #7f7f7f\">│   </span>logger.info(<span style=\"color: #808000; text-decoration-color: #808000\">f\"Using generation config: {</span>path_from_cwd(config_path)<span style=\"color: #808000; text-decoration-color: #808000\">}\"</span>)                 <span style=\"color: #800000; text-decoration-color: #800000\">│</span>\n",
       "<span style=\"color: #800000; text-decoration-color: #800000\">│</span>   <span style=\"color: #7f7f7f; text-decoration-color: #7f7f7f\"> 289 </span><span style=\"color: #7f7f7f; text-decoration-color: #7f7f7f\">│   </span>model_config: ModelConfig = get_model_config(config_path)                             <span style=\"color: #800000; text-decoration-color: #800000\">│</span>\n",
       "<span style=\"color: #800000; text-decoration-color: #800000\">│</span>   <span style=\"color: #7f7f7f; text-decoration-color: #7f7f7f\"> 290 </span><span style=\"color: #7f7f7f; text-decoration-color: #7f7f7f\">│   </span>is_v2 = is_v2_motion_module(data_dir.joinpath(model_config.motion_module))            <span style=\"color: #800000; text-decoration-color: #800000\">│</span>\n",
       "<span style=\"color: #800000; text-decoration-color: #800000\">│</span> <span style=\"color: #800000; text-decoration-color: #800000\">❱ </span> 291 <span style=\"color: #7f7f7f; text-decoration-color: #7f7f7f\">│   </span>infer_config: InferenceConfig = get_infer_config(is_v2)                               <span style=\"color: #800000; text-decoration-color: #800000\">│</span>\n",
       "<span style=\"color: #800000; text-decoration-color: #800000\">│</span>   <span style=\"color: #7f7f7f; text-decoration-color: #7f7f7f\"> 292 </span><span style=\"color: #7f7f7f; text-decoration-color: #7f7f7f\">│   </span>                                                                                      <span style=\"color: #800000; text-decoration-color: #800000\">│</span>\n",
       "<span style=\"color: #800000; text-decoration-color: #800000\">│</span>   <span style=\"color: #7f7f7f; text-decoration-color: #7f7f7f\"> 293 </span><span style=\"color: #7f7f7f; text-decoration-color: #7f7f7f\">│   </span>set_tensor_interpolation_method( model_config.tensor_interpolation_slerp )            <span style=\"color: #800000; text-decoration-color: #800000\">│</span>\n",
       "<span style=\"color: #800000; text-decoration-color: #800000\">│</span>   <span style=\"color: #7f7f7f; text-decoration-color: #7f7f7f\"> 294 </span>                                                                                          <span style=\"color: #800000; text-decoration-color: #800000\">│</span>\n",
       "<span style=\"color: #800000; text-decoration-color: #800000\">│</span>                                                                                                  <span style=\"color: #800000; text-decoration-color: #800000\">│</span>\n",
       "<span style=\"color: #800000; text-decoration-color: #800000\">│</span> <span style=\"color: #bfbf7f; text-decoration-color: #bfbf7f\">/mnt/d/code/aicp-main/venv/lib/python3.10/site-packages/animatediff/</span><span style=\"color: #808000; text-decoration-color: #808000; font-weight: bold\">settings.py</span>:<span style=\"color: #0000ff; text-decoration-color: #0000ff\">93</span> in            <span style=\"color: #800000; text-decoration-color: #800000\">│</span>\n",
       "<span style=\"color: #800000; text-decoration-color: #800000\">│</span> <span style=\"color: #00ff00; text-decoration-color: #00ff00\">get_infer_config</span>                                                                                 <span style=\"color: #800000; text-decoration-color: #800000\">│</span>\n",
       "<span style=\"color: #800000; text-decoration-color: #800000\">│</span>                                                                                                  <span style=\"color: #800000; text-decoration-color: #800000\">│</span>\n",
       "<span style=\"color: #800000; text-decoration-color: #800000\">│</span>   <span style=\"color: #7f7f7f; text-decoration-color: #7f7f7f\"> 90 </span><span style=\"color: #7f7f7f; text-decoration-color: #7f7f7f\">│   </span>is_v2:<span style=\"color: #00ffff; text-decoration-color: #00ffff\">bool</span>,                                                                            <span style=\"color: #800000; text-decoration-color: #800000\">│</span>\n",
       "<span style=\"color: #800000; text-decoration-color: #800000\">│</span>   <span style=\"color: #7f7f7f; text-decoration-color: #7f7f7f\"> 91 </span>) -&gt; InferenceConfig:                                                                      <span style=\"color: #800000; text-decoration-color: #800000\">│</span>\n",
       "<span style=\"color: #800000; text-decoration-color: #800000\">│</span>   <span style=\"color: #7f7f7f; text-decoration-color: #7f7f7f\"> 92 </span><span style=\"color: #7f7f7f; text-decoration-color: #7f7f7f\">│   </span>config_path: Path = get_dir(<span style=\"color: #808000; text-decoration-color: #808000\">\"config\"</span>).joinpath(<span style=\"color: #808000; text-decoration-color: #808000\">\"inference/default.json\"</span> <span style=\"color: #0000ff; text-decoration-color: #0000ff\">if</span> <span style=\"color: #ff00ff; text-decoration-color: #ff00ff\">not</span> is_v2   <span style=\"color: #800000; text-decoration-color: #800000\">│</span>\n",
       "<span style=\"color: #800000; text-decoration-color: #800000\">│</span> <span style=\"color: #800000; text-decoration-color: #800000\">❱ </span> 93 <span style=\"color: #7f7f7f; text-decoration-color: #7f7f7f\">│   </span>settings = InferenceConfig(json_config_path=config_path)                               <span style=\"color: #800000; text-decoration-color: #800000\">│</span>\n",
       "<span style=\"color: #800000; text-decoration-color: #800000\">│</span>   <span style=\"color: #7f7f7f; text-decoration-color: #7f7f7f\"> 94 </span><span style=\"color: #7f7f7f; text-decoration-color: #7f7f7f\">│   </span><span style=\"color: #0000ff; text-decoration-color: #0000ff\">return</span> settings                                                                        <span style=\"color: #800000; text-decoration-color: #800000\">│</span>\n",
       "<span style=\"color: #800000; text-decoration-color: #800000\">│</span>   <span style=\"color: #7f7f7f; text-decoration-color: #7f7f7f\"> 95 </span>                                                                                           <span style=\"color: #800000; text-decoration-color: #800000\">│</span>\n",
       "<span style=\"color: #800000; text-decoration-color: #800000\">│</span>   <span style=\"color: #7f7f7f; text-decoration-color: #7f7f7f\"> 96 </span>                                                                                           <span style=\"color: #800000; text-decoration-color: #800000\">│</span>\n",
       "<span style=\"color: #800000; text-decoration-color: #800000\">│</span>                                                                                                  <span style=\"color: #800000; text-decoration-color: #800000\">│</span>\n",
       "<span style=\"color: #800000; text-decoration-color: #800000\">│</span> in <span style=\"color: #00ff00; text-decoration-color: #00ff00\">pydantic.env_settings.BaseSettings.__init__</span>:<span style=\"color: #0000ff; text-decoration-color: #0000ff\">41</span>                                                <span style=\"color: #800000; text-decoration-color: #800000\">│</span>\n",
       "<span style=\"color: #800000; text-decoration-color: #800000\">│</span>                                                                                                  <span style=\"color: #800000; text-decoration-color: #800000\">│</span>\n",
       "<span style=\"color: #800000; text-decoration-color: #800000\">│</span> in <span style=\"color: #00ff00; text-decoration-color: #00ff00\">pydantic.env_settings.BaseSettings._build_values</span>:<span style=\"color: #0000ff; text-decoration-color: #0000ff\">76</span>                                           <span style=\"color: #800000; text-decoration-color: #800000\">│</span>\n",
       "<span style=\"color: #800000; text-decoration-color: #800000\">│</span>                                                                                                  <span style=\"color: #800000; text-decoration-color: #800000\">│</span>\n",
       "<span style=\"color: #800000; text-decoration-color: #800000\">│</span> <span style=\"color: #bfbf7f; text-decoration-color: #bfbf7f\">/mnt/d/code/aicp-main/venv/lib/python3.10/site-packages/animatediff/</span><span style=\"color: #808000; text-decoration-color: #808000; font-weight: bold\">settings.py</span>:<span style=\"color: #0000ff; text-decoration-color: #0000ff\">47</span> in <span style=\"color: #00ff00; text-decoration-color: #00ff00\">__call__</span>   <span style=\"color: #800000; text-decoration-color: #800000\">│</span>\n",
       "<span style=\"color: #800000; text-decoration-color: #800000\">│</span>                                                                                                  <span style=\"color: #800000; text-decoration-color: #800000\">│</span>\n",
       "<span style=\"color: #800000; text-decoration-color: #800000\">│</span>   <span style=\"color: #7f7f7f; text-decoration-color: #7f7f7f\"> 44 </span><span style=\"color: #7f7f7f; text-decoration-color: #7f7f7f\">│   │   │   │   </span>merged_config.update(json.loads(path.read_text(encoding=encoding)))        <span style=\"color: #800000; text-decoration-color: #800000\">│</span>\n",
       "<span style=\"color: #800000; text-decoration-color: #800000\">│</span>   <span style=\"color: #7f7f7f; text-decoration-color: #7f7f7f\"> 45 </span><span style=\"color: #7f7f7f; text-decoration-color: #7f7f7f\">│   │   │   │   </span>logger.debug(<span style=\"color: #808000; text-decoration-color: #808000\">f\"{</span>classname<span style=\"color: #808000; text-decoration-color: #808000\">}: config state #{</span>idx+<span style=\"color: #0000ff; text-decoration-color: #0000ff\">1</span><span style=\"color: #808000; text-decoration-color: #808000\">}: {</span>merged_config<span style=\"color: #808000; text-decoration-color: #808000\">}\"</span>)       <span style=\"color: #800000; text-decoration-color: #800000\">│</span>\n",
       "<span style=\"color: #800000; text-decoration-color: #800000\">│</span>   <span style=\"color: #7f7f7f; text-decoration-color: #7f7f7f\"> 46 </span><span style=\"color: #7f7f7f; text-decoration-color: #7f7f7f\">│   │   │   </span><span style=\"color: #0000ff; text-decoration-color: #0000ff\">else</span>:                                                                          <span style=\"color: #800000; text-decoration-color: #800000\">│</span>\n",
       "<span style=\"color: #800000; text-decoration-color: #800000\">│</span> <span style=\"color: #800000; text-decoration-color: #800000\">❱ </span> 47 <span style=\"color: #7f7f7f; text-decoration-color: #7f7f7f\">│   │   │   │   </span><span style=\"color: #0000ff; text-decoration-color: #0000ff\">raise</span> <span style=\"color: #00ffff; text-decoration-color: #00ffff\">FileNotFoundError</span>(<span style=\"color: #808000; text-decoration-color: #808000\">f\"{</span>classname<span style=\"color: #808000; text-decoration-color: #808000\">}: config #{</span>idx+<span style=\"color: #0000ff; text-decoration-color: #0000ff\">1</span><span style=\"color: #808000; text-decoration-color: #808000\">} at {</span>path<span style=\"color: #808000; text-decoration-color: #808000\">} not fou</span>   <span style=\"color: #800000; text-decoration-color: #800000\">│</span>\n",
       "<span style=\"color: #800000; text-decoration-color: #800000\">│</span>   <span style=\"color: #7f7f7f; text-decoration-color: #7f7f7f\"> 48 </span><span style=\"color: #7f7f7f; text-decoration-color: #7f7f7f\">│   │   </span>                                                                                   <span style=\"color: #800000; text-decoration-color: #800000\">│</span>\n",
       "<span style=\"color: #800000; text-decoration-color: #800000\">│</span>   <span style=\"color: #7f7f7f; text-decoration-color: #7f7f7f\"> 49 </span><span style=\"color: #7f7f7f; text-decoration-color: #7f7f7f\">│   │   </span>logger.debug(<span style=\"color: #808000; text-decoration-color: #808000\">f\"{</span>classname<span style=\"color: #808000; text-decoration-color: #808000\">}: loaded config: {</span>merged_config<span style=\"color: #808000; text-decoration-color: #808000\">}\"</span>)                       <span style=\"color: #800000; text-decoration-color: #800000\">│</span>\n",
       "<span style=\"color: #800000; text-decoration-color: #800000\">│</span>   <span style=\"color: #7f7f7f; text-decoration-color: #7f7f7f\"> 50 </span><span style=\"color: #7f7f7f; text-decoration-color: #7f7f7f\">│   │   </span><span style=\"color: #0000ff; text-decoration-color: #0000ff\">return</span> merged_config  <span style=\"color: #7f7f7f; text-decoration-color: #7f7f7f\"># return the merged config</span>                                   <span style=\"color: #800000; text-decoration-color: #800000\">│</span>\n",
       "<span style=\"color: #800000; text-decoration-color: #800000\">╰──────────────────────────────────────────────────────────────────────────────────────────────────╯</span>\n",
       "<span style=\"color: #ff0000; text-decoration-color: #ff0000; font-weight: bold\">FileNotFoundError: </span>InferenceConfig: config #<span style=\"color: #008080; text-decoration-color: #008080; font-weight: bold\">1</span> at <span style=\"color: #800080; text-decoration-color: #800080\">/mnt/d/code/aicp-main/notebooks/config/inference/</span><span style=\"color: #ff00ff; text-decoration-color: #ff00ff\">motion_v2.json</span> \n",
       "not found or not a file\n",
       "</pre>\n"
      ],
      "text/plain": [
       "\u001b[31m╭─\u001b[0m\u001b[31m──────────────────────────────\u001b[0m\u001b[31m \u001b[0m\u001b[1;31mTraceback \u001b[0m\u001b[1;2;31m(most recent call last)\u001b[0m\u001b[31m \u001b[0m\u001b[31m───────────────────────────────\u001b[0m\u001b[31m─╮\u001b[0m\n",
       "\u001b[31m│\u001b[0m in \u001b[92m<module>\u001b[0m:\u001b[94m1\u001b[0m                                                                                    \u001b[31m│\u001b[0m\n",
       "\u001b[31m│\u001b[0m                                                                                                  \u001b[31m│\u001b[0m\n",
       "\u001b[31m│\u001b[0m \u001b[31m❱ \u001b[0m1 artist.run(PROMPT)                                                                           \u001b[31m│\u001b[0m\n",
       "\u001b[31m│\u001b[0m   \u001b[2m2 \u001b[0m                                                                                             \u001b[31m│\u001b[0m\n",
       "\u001b[31m│\u001b[0m                                                                                                  \u001b[31m│\u001b[0m\n",
       "\u001b[31m│\u001b[0m \u001b[2;33m/mnt/d/code/aicp-main/venv/lib/python3.10/site-packages/langchain/tools/\u001b[0m\u001b[1;33mbase.py\u001b[0m:\u001b[94m297\u001b[0m in \u001b[92mrun\u001b[0m       \u001b[31m│\u001b[0m\n",
       "\u001b[31m│\u001b[0m                                                                                                  \u001b[31m│\u001b[0m\n",
       "\u001b[31m│\u001b[0m   \u001b[2m294 \u001b[0m\u001b[2m│   │   │   \u001b[0m\u001b[94mreturn\u001b[0m observation                                                             \u001b[31m│\u001b[0m\n",
       "\u001b[31m│\u001b[0m   \u001b[2m295 \u001b[0m\u001b[2m│   │   \u001b[0m\u001b[94mexcept\u001b[0m (\u001b[96mException\u001b[0m, \u001b[96mKeyboardInterrupt\u001b[0m) \u001b[94mas\u001b[0m e:                                        \u001b[31m│\u001b[0m\n",
       "\u001b[31m│\u001b[0m   \u001b[2m296 \u001b[0m\u001b[2m│   │   │   \u001b[0mrun_manager.on_tool_error(e)                                                   \u001b[31m│\u001b[0m\n",
       "\u001b[31m│\u001b[0m \u001b[31m❱ \u001b[0m297 \u001b[2m│   │   │   \u001b[0m\u001b[94mraise\u001b[0m e                                                                        \u001b[31m│\u001b[0m\n",
       "\u001b[31m│\u001b[0m   \u001b[2m298 \u001b[0m\u001b[2m│   │   \u001b[0m\u001b[94melse\u001b[0m:                                                                              \u001b[31m│\u001b[0m\n",
       "\u001b[31m│\u001b[0m   \u001b[2m299 \u001b[0m\u001b[2m│   │   │   \u001b[0mrun_manager.on_tool_end(                                                       \u001b[31m│\u001b[0m\n",
       "\u001b[31m│\u001b[0m   \u001b[2m300 \u001b[0m\u001b[2m│   │   │   │   \u001b[0m\u001b[96mstr\u001b[0m(observation), color=color, name=\u001b[96mself\u001b[0m.name, **kwargs                    \u001b[31m│\u001b[0m\n",
       "\u001b[31m│\u001b[0m                                                                                                  \u001b[31m│\u001b[0m\n",
       "\u001b[31m│\u001b[0m \u001b[2;33m/mnt/d/code/aicp-main/venv/lib/python3.10/site-packages/langchain/tools/\u001b[0m\u001b[1;33mbase.py\u001b[0m:\u001b[94m269\u001b[0m in \u001b[92mrun\u001b[0m       \u001b[31m│\u001b[0m\n",
       "\u001b[31m│\u001b[0m                                                                                                  \u001b[31m│\u001b[0m\n",
       "\u001b[31m│\u001b[0m   \u001b[2m266 \u001b[0m\u001b[2m│   │   \u001b[0m\u001b[94mtry\u001b[0m:                                                                               \u001b[31m│\u001b[0m\n",
       "\u001b[31m│\u001b[0m   \u001b[2m267 \u001b[0m\u001b[2m│   │   │   \u001b[0mtool_args, tool_kwargs = \u001b[96mself\u001b[0m._to_args_and_kwargs(parsed_input)                \u001b[31m│\u001b[0m\n",
       "\u001b[31m│\u001b[0m   \u001b[2m268 \u001b[0m\u001b[2m│   │   │   \u001b[0mobservation = (                                                                \u001b[31m│\u001b[0m\n",
       "\u001b[31m│\u001b[0m \u001b[31m❱ \u001b[0m269 \u001b[2m│   │   │   │   \u001b[0m\u001b[96mself\u001b[0m._run(*tool_args, run_manager=run_manager, **tool_kwargs)              \u001b[31m│\u001b[0m\n",
       "\u001b[31m│\u001b[0m   \u001b[2m270 \u001b[0m\u001b[2m│   │   │   │   \u001b[0m\u001b[94mif\u001b[0m new_arg_supported                                                       \u001b[31m│\u001b[0m\n",
       "\u001b[31m│\u001b[0m   \u001b[2m271 \u001b[0m\u001b[2m│   │   │   │   \u001b[0m\u001b[94melse\u001b[0m \u001b[96mself\u001b[0m._run(*tool_args, **tool_kwargs)                                  \u001b[31m│\u001b[0m\n",
       "\u001b[31m│\u001b[0m   \u001b[2m272 \u001b[0m\u001b[2m│   │   │   \u001b[0m)                                                                              \u001b[31m│\u001b[0m\n",
       "\u001b[31m│\u001b[0m                                                                                                  \u001b[31m│\u001b[0m\n",
       "\u001b[31m│\u001b[0m \u001b[2;33m/mnt/d/code/aicp-main/notebooks/../tools/\u001b[0m\u001b[1;33msd_animator_artist.py\u001b[0m:\u001b[94m209\u001b[0m in \u001b[92m_run\u001b[0m                       \u001b[31m│\u001b[0m\n",
       "\u001b[31m│\u001b[0m                                                                                                  \u001b[31m│\u001b[0m\n",
       "\u001b[31m│\u001b[0m   \u001b[2m206 \u001b[0m\u001b[2m│   │   \u001b[0m\u001b[2m# initialize agent\u001b[0m                                                                 \u001b[31m│\u001b[0m\n",
       "\u001b[31m│\u001b[0m   \u001b[2m207 \u001b[0m\u001b[2m│   │   \u001b[0m\u001b[96mself\u001b[0m.initialize_agent()                                                            \u001b[31m│\u001b[0m\n",
       "\u001b[31m│\u001b[0m   \u001b[2m208 \u001b[0m\u001b[2m│   │   \u001b[0m                                                                                   \u001b[31m│\u001b[0m\n",
       "\u001b[31m│\u001b[0m \u001b[31m❱ \u001b[0m209 \u001b[2m│   │   \u001b[0m\u001b[96mself\u001b[0m.make_animated_clip()                                                          \u001b[31m│\u001b[0m\n",
       "\u001b[31m│\u001b[0m   \u001b[2m210 \u001b[0m\u001b[2m│   │   \u001b[0m                                                                                   \u001b[31m│\u001b[0m\n",
       "\u001b[31m│\u001b[0m   \u001b[2m211 \u001b[0m\u001b[2m│   │   \u001b[0m                                                                                   \u001b[31m│\u001b[0m\n",
       "\u001b[31m│\u001b[0m   \u001b[2m212 \u001b[0m\u001b[2m│   │   \u001b[0m\u001b[94mreturn\u001b[0m \u001b[33m\"\u001b[0m\u001b[33mDone generating animated stuff\u001b[0m\u001b[33m\"\u001b[0m                                            \u001b[31m│\u001b[0m\n",
       "\u001b[31m│\u001b[0m                                                                                                  \u001b[31m│\u001b[0m\n",
       "\u001b[31m│\u001b[0m \u001b[2;33m/mnt/d/code/aicp-main/notebooks/../tools/\u001b[0m\u001b[1;33msd_animator_artist.py\u001b[0m:\u001b[94m170\u001b[0m in \u001b[92mmake_animated_clip\u001b[0m         \u001b[31m│\u001b[0m\n",
       "\u001b[31m│\u001b[0m                                                                                                  \u001b[31m│\u001b[0m\n",
       "\u001b[31m│\u001b[0m   \u001b[2m167 \u001b[0m\u001b[2m│   │   │   │   \u001b[0mjson.dump(prompt_config, f)                                                \u001b[31m│\u001b[0m\n",
       "\u001b[31m│\u001b[0m   \u001b[2m168 \u001b[0m\u001b[2m│   │   │   \u001b[0m                                                                               \u001b[31m│\u001b[0m\n",
       "\u001b[31m│\u001b[0m   \u001b[2m169 \u001b[0m\u001b[2m│   │   │   \u001b[0m\u001b[2m# Generate the clip\u001b[0m                                                            \u001b[31m│\u001b[0m\n",
       "\u001b[31m│\u001b[0m \u001b[31m❱ \u001b[0m170 \u001b[2m│   │   │   \u001b[0msave_dir = cli.generate(                                                       \u001b[31m│\u001b[0m\n",
       "\u001b[31m│\u001b[0m   \u001b[2m171 \u001b[0m\u001b[2m│   │   │   │   \u001b[0mconfig_path=Path(prompt_config_path),                                      \u001b[31m│\u001b[0m\n",
       "\u001b[31m│\u001b[0m   \u001b[2m172 \u001b[0m\u001b[2m│   │   │   │   \u001b[0mwidth=\u001b[96mself\u001b[0m.video.production_config.sd_base_image_width,                    \u001b[31m│\u001b[0m\n",
       "\u001b[31m│\u001b[0m   \u001b[2m173 \u001b[0m\u001b[2m│   │   │   │   \u001b[0mheight=\u001b[96mself\u001b[0m.video.production_config.sd_base_image_height,                  \u001b[31m│\u001b[0m\n",
       "\u001b[31m│\u001b[0m                                                                                                  \u001b[31m│\u001b[0m\n",
       "\u001b[31m│\u001b[0m \u001b[2;33m/mnt/d/code/aicp-main/venv/lib/python3.10/site-packages/animatediff/\u001b[0m\u001b[1;33mcli.py\u001b[0m:\u001b[94m291\u001b[0m in \u001b[92mgenerate\u001b[0m       \u001b[31m│\u001b[0m\n",
       "\u001b[31m│\u001b[0m                                                                                                  \u001b[31m│\u001b[0m\n",
       "\u001b[31m│\u001b[0m   \u001b[2m 288 \u001b[0m\u001b[2m│   \u001b[0mlogger.info(\u001b[33mf\u001b[0m\u001b[33m\"\u001b[0m\u001b[33mUsing generation config: \u001b[0m\u001b[33m{\u001b[0mpath_from_cwd(config_path)\u001b[33m}\u001b[0m\u001b[33m\"\u001b[0m)                 \u001b[31m│\u001b[0m\n",
       "\u001b[31m│\u001b[0m   \u001b[2m 289 \u001b[0m\u001b[2m│   \u001b[0mmodel_config: ModelConfig = get_model_config(config_path)                             \u001b[31m│\u001b[0m\n",
       "\u001b[31m│\u001b[0m   \u001b[2m 290 \u001b[0m\u001b[2m│   \u001b[0mis_v2 = is_v2_motion_module(data_dir.joinpath(model_config.motion_module))            \u001b[31m│\u001b[0m\n",
       "\u001b[31m│\u001b[0m \u001b[31m❱ \u001b[0m 291 \u001b[2m│   \u001b[0minfer_config: InferenceConfig = get_infer_config(is_v2)                               \u001b[31m│\u001b[0m\n",
       "\u001b[31m│\u001b[0m   \u001b[2m 292 \u001b[0m\u001b[2m│   \u001b[0m                                                                                      \u001b[31m│\u001b[0m\n",
       "\u001b[31m│\u001b[0m   \u001b[2m 293 \u001b[0m\u001b[2m│   \u001b[0mset_tensor_interpolation_method( model_config.tensor_interpolation_slerp )            \u001b[31m│\u001b[0m\n",
       "\u001b[31m│\u001b[0m   \u001b[2m 294 \u001b[0m                                                                                          \u001b[31m│\u001b[0m\n",
       "\u001b[31m│\u001b[0m                                                                                                  \u001b[31m│\u001b[0m\n",
       "\u001b[31m│\u001b[0m \u001b[2;33m/mnt/d/code/aicp-main/venv/lib/python3.10/site-packages/animatediff/\u001b[0m\u001b[1;33msettings.py\u001b[0m:\u001b[94m93\u001b[0m in            \u001b[31m│\u001b[0m\n",
       "\u001b[31m│\u001b[0m \u001b[92mget_infer_config\u001b[0m                                                                                 \u001b[31m│\u001b[0m\n",
       "\u001b[31m│\u001b[0m                                                                                                  \u001b[31m│\u001b[0m\n",
       "\u001b[31m│\u001b[0m   \u001b[2m 90 \u001b[0m\u001b[2m│   \u001b[0mis_v2:\u001b[96mbool\u001b[0m,                                                                            \u001b[31m│\u001b[0m\n",
       "\u001b[31m│\u001b[0m   \u001b[2m 91 \u001b[0m) -> InferenceConfig:                                                                      \u001b[31m│\u001b[0m\n",
       "\u001b[31m│\u001b[0m   \u001b[2m 92 \u001b[0m\u001b[2m│   \u001b[0mconfig_path: Path = get_dir(\u001b[33m\"\u001b[0m\u001b[33mconfig\u001b[0m\u001b[33m\"\u001b[0m).joinpath(\u001b[33m\"\u001b[0m\u001b[33minference/default.json\u001b[0m\u001b[33m\"\u001b[0m \u001b[94mif\u001b[0m \u001b[95mnot\u001b[0m is_v2   \u001b[31m│\u001b[0m\n",
       "\u001b[31m│\u001b[0m \u001b[31m❱ \u001b[0m 93 \u001b[2m│   \u001b[0msettings = InferenceConfig(json_config_path=config_path)                               \u001b[31m│\u001b[0m\n",
       "\u001b[31m│\u001b[0m   \u001b[2m 94 \u001b[0m\u001b[2m│   \u001b[0m\u001b[94mreturn\u001b[0m settings                                                                        \u001b[31m│\u001b[0m\n",
       "\u001b[31m│\u001b[0m   \u001b[2m 95 \u001b[0m                                                                                           \u001b[31m│\u001b[0m\n",
       "\u001b[31m│\u001b[0m   \u001b[2m 96 \u001b[0m                                                                                           \u001b[31m│\u001b[0m\n",
       "\u001b[31m│\u001b[0m                                                                                                  \u001b[31m│\u001b[0m\n",
       "\u001b[31m│\u001b[0m in \u001b[92mpydantic.env_settings.BaseSettings.__init__\u001b[0m:\u001b[94m41\u001b[0m                                                \u001b[31m│\u001b[0m\n",
       "\u001b[31m│\u001b[0m                                                                                                  \u001b[31m│\u001b[0m\n",
       "\u001b[31m│\u001b[0m in \u001b[92mpydantic.env_settings.BaseSettings._build_values\u001b[0m:\u001b[94m76\u001b[0m                                           \u001b[31m│\u001b[0m\n",
       "\u001b[31m│\u001b[0m                                                                                                  \u001b[31m│\u001b[0m\n",
       "\u001b[31m│\u001b[0m \u001b[2;33m/mnt/d/code/aicp-main/venv/lib/python3.10/site-packages/animatediff/\u001b[0m\u001b[1;33msettings.py\u001b[0m:\u001b[94m47\u001b[0m in \u001b[92m__call__\u001b[0m   \u001b[31m│\u001b[0m\n",
       "\u001b[31m│\u001b[0m                                                                                                  \u001b[31m│\u001b[0m\n",
       "\u001b[31m│\u001b[0m   \u001b[2m 44 \u001b[0m\u001b[2m│   │   │   │   \u001b[0mmerged_config.update(json.loads(path.read_text(encoding=encoding)))        \u001b[31m│\u001b[0m\n",
       "\u001b[31m│\u001b[0m   \u001b[2m 45 \u001b[0m\u001b[2m│   │   │   │   \u001b[0mlogger.debug(\u001b[33mf\u001b[0m\u001b[33m\"\u001b[0m\u001b[33m{\u001b[0mclassname\u001b[33m}\u001b[0m\u001b[33m: config state #\u001b[0m\u001b[33m{\u001b[0midx+\u001b[94m1\u001b[0m\u001b[33m}\u001b[0m\u001b[33m: \u001b[0m\u001b[33m{\u001b[0mmerged_config\u001b[33m}\u001b[0m\u001b[33m\"\u001b[0m)       \u001b[31m│\u001b[0m\n",
       "\u001b[31m│\u001b[0m   \u001b[2m 46 \u001b[0m\u001b[2m│   │   │   \u001b[0m\u001b[94melse\u001b[0m:                                                                          \u001b[31m│\u001b[0m\n",
       "\u001b[31m│\u001b[0m \u001b[31m❱ \u001b[0m 47 \u001b[2m│   │   │   │   \u001b[0m\u001b[94mraise\u001b[0m \u001b[96mFileNotFoundError\u001b[0m(\u001b[33mf\u001b[0m\u001b[33m\"\u001b[0m\u001b[33m{\u001b[0mclassname\u001b[33m}\u001b[0m\u001b[33m: config #\u001b[0m\u001b[33m{\u001b[0midx+\u001b[94m1\u001b[0m\u001b[33m}\u001b[0m\u001b[33m at \u001b[0m\u001b[33m{\u001b[0mpath\u001b[33m}\u001b[0m\u001b[33m not fou\u001b[0m   \u001b[31m│\u001b[0m\n",
       "\u001b[31m│\u001b[0m   \u001b[2m 48 \u001b[0m\u001b[2m│   │   \u001b[0m                                                                                   \u001b[31m│\u001b[0m\n",
       "\u001b[31m│\u001b[0m   \u001b[2m 49 \u001b[0m\u001b[2m│   │   \u001b[0mlogger.debug(\u001b[33mf\u001b[0m\u001b[33m\"\u001b[0m\u001b[33m{\u001b[0mclassname\u001b[33m}\u001b[0m\u001b[33m: loaded config: \u001b[0m\u001b[33m{\u001b[0mmerged_config\u001b[33m}\u001b[0m\u001b[33m\"\u001b[0m)                       \u001b[31m│\u001b[0m\n",
       "\u001b[31m│\u001b[0m   \u001b[2m 50 \u001b[0m\u001b[2m│   │   \u001b[0m\u001b[94mreturn\u001b[0m merged_config  \u001b[2m# return the merged config\u001b[0m                                   \u001b[31m│\u001b[0m\n",
       "\u001b[31m╰──────────────────────────────────────────────────────────────────────────────────────────────────╯\u001b[0m\n",
       "\u001b[1;91mFileNotFoundError: \u001b[0mInferenceConfig: config #\u001b[1;36m1\u001b[0m at \u001b[35m/mnt/d/code/aicp-main/notebooks/config/inference/\u001b[0m\u001b[95mmotion_v2.json\u001b[0m \n",
       "not found or not a file\n"
      ]
     },
     "metadata": {},
     "output_type": "display_data"
    }
   ],
   "source": [
    "artist.run(PROMPT)"
   ]
  },
  {
   "cell_type": "code",
   "execution_count": null,
   "id": "fe1b0cee-3ab9-46ff-9040-6a8e7b5a7682",
   "metadata": {},
   "outputs": [],
   "source": []
  }
 ],
 "metadata": {
  "kernelspec": {
   "display_name": "Python 3 (ipykernel)",
   "language": "python",
   "name": "python3"
  },
  "language_info": {
   "codemirror_mode": {
    "name": "ipython",
    "version": 3
   },
   "file_extension": ".py",
   "mimetype": "text/x-python",
   "name": "python",
   "nbconvert_exporter": "python",
   "pygments_lexer": "ipython3",
   "version": "3.10.6"
  }
 },
 "nbformat": 4,
 "nbformat_minor": 5
}
