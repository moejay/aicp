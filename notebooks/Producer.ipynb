{
 "cells": [
  {
   "cell_type": "code",
   "execution_count": 44,
   "id": "dfa02472",
   "metadata": {},
   "outputs": [],
   "source": [
    "import subprocess"
   ]
  },
  {
   "cell_type": "code",
   "execution_count": 81,
   "id": "69fb2141",
   "metadata": {},
   "outputs": [],
   "source": [
    "def create_video_with_audio(images_dict, audio_dict, resolution, output_file):\n",
    "    # Create video from images\n",
    "    temp_video_file = \"temp_video.mp4\"\n",
    "    sorted_images = images_dict.items()\n",
    "\n",
    "    # Create a temporary file with the list of images and durations\n",
    "    with open(\"images_list.txt\", \"w\") as f:\n",
    "        for image_path, duration in sorted_images:\n",
    "            f.write(f\"file '{image_path}'\\n\")\n",
    "            f.write(f\"duration {duration}\\n\")\n",
    "\n",
    "    # Construct the ffmpeg command for video creation\n",
    "    scale_filter = f\"scale=w={resolution[0]}:h={resolution[1]}:force_original_aspect_ratio=1,pad={resolution[0]}:{resolution[1]}:(ow-iw)/2:(oh-ih)/2\"\n",
    "    ffmpeg_cmd = f\"ffmpeg -f concat -i images_list.txt -vf '{scale_filter}' -r 30 -y '{temp_video_file}'\"\n",
    "    subprocess.run(ffmpeg_cmd, shell=True)\n",
    "\n",
    "    # Add audio to the video\n",
    "    sorted_audio = audio_dict.items()\n",
    "    audio_input_str = \"\"\n",
    "    audio_filter_str = \"\"\n",
    "    for idx, (audio_path, start_time) in enumerate(sorted_audio, 1):\n",
    "        audio_input_str += f\"-i '{audio_path}' \"\n",
    "        audio_filter_str += f\"[{idx}:a]adelay={int(start_time * 1000)}|{int(start_time * 1000)}[a{idx}];\"\n",
    "\n",
    "    # Concatenate audio streams\n",
    "    audio_streams_str = \"\".join(f\"[a{idx}]\" for idx in range(1, len(sorted_audio) + 1))\n",
    "    audio_filter_str += f\"{audio_streams_str}amix=inputs={len(sorted_audio)}[a]\"\n",
    "\n",
    "    # Construct the ffmpeg command for audio addition\n",
    "    ffmpeg_cmd = f\"ffmpeg -i {temp_video_file} {audio_input_str}-filter_complex '{audio_filter_str}' -map 0:v -map '[a]' -c:v copy -y '{output_file}'\"\n",
    "    subprocess.run(ffmpeg_cmd, shell=True)"
   ]
  },
  {
   "cell_type": "code",
   "execution_count": 82,
   "id": "487d91cd",
   "metadata": {},
   "outputs": [
    {
     "data": {
      "text/plain": [
       "162"
      ]
     },
     "execution_count": 82,
     "metadata": {},
     "output_type": "execute_result"
    }
   ],
   "source": [
    "# Determine the video length\n",
    "# Will add 4 seconds to the audio script length for now, as a naive approach\n",
    "import wave\n",
    "import contextlib\n",
    "\n",
    "fname = \"ted/script.wav\"\n",
    "with contextlib.closing(wave.open(fname, \"r\")) as f:\n",
    "    frames = f.getnframes()\n",
    "    rate = f.getframerate()\n",
    "    duration = frames / float(rate)\n",
    "video_duration = int(duration) + 4\n",
    "video_duration"
   ]
  },
  {
   "cell_type": "code",
   "execution_count": 83,
   "id": "8bbe5bf2",
   "metadata": {},
   "outputs": [],
   "source": [
    "scene_timecodes = open(\"ted/script_timecodes.txt\", \"r\").readlines()\n",
    "images_dict = {}\n",
    "for idx, tc in enumerate(scene_timecodes):\n",
    "    if idx + 1 < len(scene_timecodes):\n",
    "        images_dict[f\"ted/scene_{idx+1}.png\"] = int(scene_timecodes[idx + 1]) - int(\n",
    "            scene_timecodes[idx]\n",
    "        )\n",
    "    else:\n",
    "        images_dict[f\"ted/scene_{idx+1}.png\"] = video_duration - int(\n",
    "            scene_timecodes[idx]\n",
    "        )\n",
    "\n",
    "audio_dict = {\"ted/script.wav\": 2}\n",
    "resolution = (1920, 1080)  # Output resolution in 1080p\n",
    "output_file = \"ted/output_video.mp4\""
   ]
  },
  {
   "cell_type": "code",
   "execution_count": 84,
   "id": "1415d8f2",
   "metadata": {
    "scrolled": true
   },
   "outputs": [
    {
     "name": "stderr",
     "output_type": "stream",
     "text": [
      "ffmpeg version 4.4.2-0ubuntu0.22.04.1 Copyright (c) 2000-2021 the FFmpeg developers\n",
      "  built with gcc 11 (Ubuntu 11.2.0-19ubuntu1)\n",
      "  configuration: --prefix=/usr --extra-version=0ubuntu0.22.04.1 --toolchain=hardened --libdir=/usr/lib/x86_64-linux-gnu --incdir=/usr/include/x86_64-linux-gnu --arch=amd64 --enable-gpl --disable-stripping --enable-gnutls --enable-ladspa --enable-libaom --enable-libass --enable-libbluray --enable-libbs2b --enable-libcaca --enable-libcdio --enable-libcodec2 --enable-libdav1d --enable-libflite --enable-libfontconfig --enable-libfreetype --enable-libfribidi --enable-libgme --enable-libgsm --enable-libjack --enable-libmp3lame --enable-libmysofa --enable-libopenjpeg --enable-libopenmpt --enable-libopus --enable-libpulse --enable-librabbitmq --enable-librubberband --enable-libshine --enable-libsnappy --enable-libsoxr --enable-libspeex --enable-libsrt --enable-libssh --enable-libtheora --enable-libtwolame --enable-libvidstab --enable-libvorbis --enable-libvpx --enable-libwebp --enable-libx265 --enable-libxml2 --enable-libxvid --enable-libzimg --enable-libzmq --enable-libzvbi --enable-lv2 --enable-omx --enable-openal --enable-opencl --enable-opengl --enable-sdl2 --enable-pocketsphinx --enable-librsvg --enable-libmfx --enable-libdc1394 --enable-libdrm --enable-libiec61883 --enable-chromaprint --enable-frei0r --enable-libx264 --enable-shared\n",
      "  libavutil      56. 70.100 / 56. 70.100\n",
      "  libavcodec     58.134.100 / 58.134.100\n",
      "  libavformat    58. 76.100 / 58. 76.100\n",
      "  libavdevice    58. 13.100 / 58. 13.100\n",
      "  libavfilter     7.110.100 /  7.110.100\n",
      "  libswscale      5.  9.100 /  5.  9.100\n",
      "  libswresample   3.  9.100 /  3.  9.100\n",
      "  libpostproc    55.  9.100 / 55.  9.100\n",
      "Input #0, concat, from 'images_list.txt':\n",
      "  Duration: 00:02:42.00, start: 0.000000, bitrate: 0 kb/s\n",
      "  Stream #0:0: Video: png, rgb24(pc), 768x768, 25 fps, 25 tbr, 25 tbn, 25 tbc\n",
      "Stream mapping:\n",
      "  Stream #0:0 -> #0:0 (png (native) -> h264 (libx264))\n",
      "Press [q] to stop, [?] for help\n",
      "[swscaler @ 0x559b9b2f0700] Warning: data is not aligned! This can lead to a speed loss\n",
      "[libx264 @ 0x559b9b284b80] using cpu capabilities: MMX2 SSE2Fast SSSE3 SSE4.2 AVX FMA3 BMI2 AVX2\n",
      "[libx264 @ 0x559b9b284b80] profile High 4:4:4 Predictive, level 4.0, 4:4:4, 8-bit\n",
      "[libx264 @ 0x559b9b284b80] 264 - core 163 r3060 5db6aa6 - H.264/MPEG-4 AVC codec - Copyleft 2003-2021 - http://www.videolan.org/x264.html - options: cabac=1 ref=3 deblock=1:0:0 analyse=0x3:0x113 me=hex subme=7 psy=1 psy_rd=1.00:0.00 mixed_ref=1 me_range=16 chroma_me=1 trellis=1 8x8dct=1 cqm=0 deadzone=21,11 fast_pskip=1 chroma_qp_offset=4 threads=24 lookahead_threads=4 sliced_threads=0 nr=0 decimate=1 interlaced=0 bluray_compat=0 constrained_intra=0 bframes=3 b_pyramid=2 b_adapt=1 b_bias=0 direct=1 weightb=1 open_gop=0 weightp=2 keyint=250 keyint_min=25 scenecut=40 intra_refresh=0 rc_lookahead=40 rc=crf mbtree=1 crf=23.0 qcomp=0.60 qpmin=0 qpmax=69 qpstep=4 ip_ratio=1.40 aq=1:1.00\n",
      "Output #0, mp4, to 'temp_video.mp4':\n",
      "  Metadata:\n",
      "    encoder         : Lavf58.76.100\n",
      "  Stream #0:0: Video: h264 (avc1 / 0x31637661), yuv444p(tv, progressive), 1920x1080, q=2-31, 30 fps, 15360 tbn\n",
      "    Metadata:\n",
      "      encoder         : Lavc58.134.100 libx264\n",
      "    Side data:\n",
      "      cpb: bitrate max/min/avg: 0/0/0 buffer size: 0 vbv_delay: N/A\n",
      "More than 1000 frames duplicated      0kB time=00:00:00.00 bitrate=N/A speed=   0x    \n",
      "frame= 3509 fps=235 q=-1.0 Lsize=    4650kB time=00:01:56.86 bitrate= 326.0kbits/s dup=3504 drop=0 speed=7.83x    \n",
      "video:4608kB audio:0kB subtitle:0kB other streams:0kB global headers:0kB muxing overhead: 0.910936%\n",
      "[libx264 @ 0x559b9b284b80] frame I:17    Avg QP:18.31  size:262140\n",
      "[libx264 @ 0x559b9b284b80] frame P:884   Avg QP:10.55  size:    93\n",
      "[libx264 @ 0x559b9b284b80] frame B:2608  Avg QP:13.67  size:    69\n",
      "[libx264 @ 0x559b9b284b80] consecutive B-frames:  0.9%  0.0%  0.2% 98.9%\n",
      "[libx264 @ 0x559b9b284b80] mb I  I16..4:  3.2% 77.5% 19.3%\n",
      "[libx264 @ 0x559b9b284b80] mb P  I16..4:  0.0%  0.0%  0.0%  P16..4:  0.1%  0.0%  0.0%  0.0%  0.0%    skip:99.9%\n",
      "[libx264 @ 0x559b9b284b80] mb B  I16..4:  0.0%  0.0%  0.0%  B16..8:  0.0%  0.0%  0.0%  direct: 0.0%  skip:100.0%  L0: 1.7% L1:98.3% BI: 0.0%\n",
      "[libx264 @ 0x559b9b284b80] 8x8 transform intra:77.5% inter:98.6%\n",
      "[libx264 @ 0x559b9b284b80] coded y,u,v intra: 54.0% 33.1% 32.6% inter: 0.0% 0.0% 0.0%\n",
      "[libx264 @ 0x559b9b284b80] i16 v,h,dc,p: 13% 19% 35% 32%\n",
      "[libx264 @ 0x559b9b284b80] i8 v,h,dc,ddl,ddr,vr,hd,vl,hu: 34% 11% 35%  2%  3%  3%  4%  3%  5%\n",
      "[libx264 @ 0x559b9b284b80] i4 v,h,dc,ddl,ddr,vr,hd,vl,hu: 20% 28%  8%  5%  8%  6% 10%  5% 10%\n",
      "[libx264 @ 0x559b9b284b80] Weighted P-Frames: Y:0.0% UV:0.0%\n",
      "[libx264 @ 0x559b9b284b80] ref P L0: 91.4%  1.4%  5.2%  2.1%\n",
      "[libx264 @ 0x559b9b284b80] kb/s:322.70\n",
      "ffmpeg version 4.4.2-0ubuntu0.22.04.1 Copyright (c) 2000-2021 the FFmpeg developers\n",
      "  built with gcc 11 (Ubuntu 11.2.0-19ubuntu1)\n",
      "  configuration: --prefix=/usr --extra-version=0ubuntu0.22.04.1 --toolchain=hardened --libdir=/usr/lib/x86_64-linux-gnu --incdir=/usr/include/x86_64-linux-gnu --arch=amd64 --enable-gpl --disable-stripping --enable-gnutls --enable-ladspa --enable-libaom --enable-libass --enable-libbluray --enable-libbs2b --enable-libcaca --enable-libcdio --enable-libcodec2 --enable-libdav1d --enable-libflite --enable-libfontconfig --enable-libfreetype --enable-libfribidi --enable-libgme --enable-libgsm --enable-libjack --enable-libmp3lame --enable-libmysofa --enable-libopenjpeg --enable-libopenmpt --enable-libopus --enable-libpulse --enable-librabbitmq --enable-librubberband --enable-libshine --enable-libsnappy --enable-libsoxr --enable-libspeex --enable-libsrt --enable-libssh --enable-libtheora --enable-libtwolame --enable-libvidstab --enable-libvorbis --enable-libvpx --enable-libwebp --enable-libx265 --enable-libxml2 --enable-libxvid --enable-libzimg --enable-libzmq --enable-libzvbi --enable-lv2 --enable-omx --enable-openal --enable-opencl --enable-opengl --enable-sdl2 --enable-pocketsphinx --enable-librsvg --enable-libmfx --enable-libdc1394 --enable-libdrm --enable-libiec61883 --enable-chromaprint --enable-frei0r --enable-libx264 --enable-shared\n",
      "  libavutil      56. 70.100 / 56. 70.100\n",
      "  libavcodec     58.134.100 / 58.134.100\n",
      "  libavformat    58. 76.100 / 58. 76.100\n",
      "  libavdevice    58. 13.100 / 58. 13.100\n",
      "  libavfilter     7.110.100 /  7.110.100\n",
      "  libswscale      5.  9.100 /  5.  9.100\n",
      "  libswresample   3.  9.100 /  3.  9.100\n",
      "  libpostproc    55.  9.100 / 55.  9.100\n",
      "Input #0, mov,mp4,m4a,3gp,3g2,mj2, from 'temp_video.mp4':\n",
      "  Metadata:\n",
      "    major_brand     : isom\n",
      "    minor_version   : 512\n",
      "    compatible_brands: isomiso2avc1mp41\n",
      "    encoder         : Lavf58.76.100\n",
      "  Duration: 00:01:56.97, start: 0.000000, bitrate: 325 kb/s\n",
      "  Stream #0:0(und): Video: h264 (High 4:4:4 Predictive) (avc1 / 0x31637661), yuv444p, 1920x1080, 322 kb/s, 30 fps, 30 tbr, 15360 tbn, 60 tbc (default)\n",
      "    Metadata:\n",
      "      handler_name    : VideoHandler\n",
      "      vendor_id       : [0][0][0][0]\n",
      "Guessed Channel Layout for Input Stream #1.0 : mono\n",
      "Input #1, wav, from 'ted/script.wav':\n",
      "  Duration: 00:02:38.66, bitrate: 384 kb/s\n",
      "  Stream #1:0: Audio: pcm_s16le ([1][0][0][0] / 0x0001), 24000 Hz, mono, s16, 384 kb/s\n",
      "Stream mapping:\n",
      "  Stream #1:0 (pcm_s16le) -> adelay\n",
      "  Stream #0:0 -> #0:0 (copy)\n",
      "  amix -> Stream #0:1 (aac)\n",
      "Press [q] to stop, [?] for help\n",
      "Output #0, mp4, to 'ted/output_video.mp4':\n",
      "  Metadata:\n",
      "    major_brand     : isom\n",
      "    minor_version   : 512\n",
      "    compatible_brands: isomiso2avc1mp41\n",
      "    encoder         : Lavf58.76.100\n",
      "  Stream #0:0(und): Video: h264 (High 4:4:4 Predictive) (avc1 / 0x31637661), yuv444p, 1920x1080, q=2-31, 322 kb/s, 30 fps, 30 tbr, 15360 tbn, 15360 tbc (default)\n",
      "    Metadata:\n",
      "      handler_name    : VideoHandler\n",
      "      vendor_id       : [0][0][0][0]\n",
      "  Stream #0:1: Audio: aac (LC) (mp4a / 0x6134706D), 24000 Hz, mono, fltp, 69 kb/s\n",
      "    Metadata:\n",
      "      encoder         : Lavc58.134.100 aac\n",
      "frame= 3509 fps=0.0 q=-1.0 Lsize=    6073kB time=00:02:40.64 bitrate= 309.7kbits/s speed= 283x    \n",
      "video:4608kB audio:1369kB subtitle:0kB other streams:0kB global headers:0kB muxing overhead: 1.615760%\n",
      "[aac @ 0x556a752e2000] Qavg: 3269.474\n"
     ]
    }
   ],
   "source": [
    "create_video_with_audio(images_dict, audio_dict, resolution, \"ted/output_video.mp4\")"
   ]
  },
  {
   "cell_type": "code",
   "execution_count": null,
   "id": "19283f07",
   "metadata": {},
   "outputs": [],
   "source": []
  }
 ],
 "metadata": {
  "kernelspec": {
   "display_name": "Python 3 (ipykernel)",
   "language": "python",
   "name": "python3"
  },
  "language_info": {
   "codemirror_mode": {
    "name": "ipython",
    "version": 3
   },
   "file_extension": ".py",
   "mimetype": "text/x-python",
   "name": "python",
   "nbconvert_exporter": "python",
   "pygments_lexer": "ipython3",
   "version": "3.10.10"
  }
 },
 "nbformat": 4,
 "nbformat_minor": 5
}
