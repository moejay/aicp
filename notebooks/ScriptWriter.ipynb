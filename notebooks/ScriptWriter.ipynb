{
 "cells": [
  {
   "cell_type": "markdown",
   "id": "5e81f6a5",
   "metadata": {},
   "source": [
    "### Given a topic research the latest news"
   ]
  },
  {
   "cell_type": "code",
   "execution_count": 1,
   "id": "7ba322a5",
   "metadata": {},
   "outputs": [
    {
     "data": {
      "text/plain": [
       "False"
      ]
     },
     "execution_count": 1,
     "metadata": {},
     "output_type": "execute_result"
    }
   ],
   "source": [
    "from dotenv import load_dotenv\n",
    "load_dotenv()"
   ]
  },
  {
   "cell_type": "code",
   "execution_count": 2,
   "id": "d6c69e6d",
   "metadata": {},
   "outputs": [],
   "source": [
    "from getpass import getpass"
   ]
  },
  {
   "cell_type": "code",
   "execution_count": 3,
   "id": "d016f806",
   "metadata": {},
   "outputs": [],
   "source": [
    "from gpt4_openai import GPT4OpenAI"
   ]
  },
  {
   "cell_type": "code",
   "execution_count": 4,
   "id": "78a44865",
   "metadata": {},
   "outputs": [
    {
     "name": "stdout",
     "output_type": "stream",
     "text": [
      "········\n"
     ]
    }
   ],
   "source": [
    "token=getpass()"
   ]
  },
  {
   "cell_type": "code",
   "execution_count": 5,
   "id": "56cfe224",
   "metadata": {},
   "outputs": [],
   "source": [
    "input = '-- Title: \"Unabomber Ted Kaczynski, 81, dies in US prison cell\"\\n-- Date: \"Sat 10 Jun 2023\"\\n\\n-- Content: \\n\\nTheodore “Ted” Kaczynski, infamously known as the Unabomber, passed away on June 10, 2023, in his cell at the federal prison medical center in Butner, North Carolina. He was 81 years old. The cause of death was not immediately known at the time of reporting【7†source】【8†source】. Kaczynski had been serving his sentence in the federal Supermax prison in Florence, Colorado, before his transfer to the prison medical facility【9†source】.\\n\\nKaczynski was a Harvard-educated mathematician who lived in seclusion in a shack in the Montana wilderness. He orchestrated a 17-year bombing campaign from 1978 to 1995, which resulted in the death of three people and injuries to 23 others. His bombings led to substantial changes in the way Americans mailed packages and boarded airplanes, even leading to a temporary shutdown of air travel on the west coast in 1995【8†source】【9†source】.\\n\\nIn September 1995, he coerced the Washington Post and the New York Times into publishing his 35,000-word manifesto, \"Industrial Society and Its Future,\" which denounced modern society and technology. The manifesto began with the line, “The Industrial Revolution and its consequences have been a disaster for the human race”【10†source】【11†source】. Following the publication of his manifesto, Kaczynski\\'s brother David and his wife Linda recognized its tone and informed the FBI, leading to his arrest. This ended what had been the nation\\'s longest and costliest manhunt【12†source】.\\n\\nUpon his arrest in April 1996, authorities found Kaczynski in a small cabin outside Lincoln, Montana, filled with journals, a coded diary, explosive ingredients, and two completed bombs【13†source】. Once revealed as a hermit with a long beard and hair, Kaczynski was seen by many as more of a bitter loner than a romantic antihero. His personal journals portrayed him as a vengeful individual driven by personal grievances rather than a committed revolutionary【14†source】【15†source】.\\n\\nKaczynski despised the notion of being seen as mentally ill. When his lawyers attempted to present an insanity defense, he tried to dismiss them. He eventually pleaded guilty to avoid an insanity defense, asserting his sanity in an interview with Time magazine in 1999【16†source】.\\n\\nBorn in Chicago on May 22, 1942, Kaczynski was the son of second-generation Polish Catholics. He was an accomplished academic, having skipped two grades to attend Harvard at 16 and published papers in reputable mathematics journals. His bombing victims were largely chosen due to their association with advancements in modern technology. His victims included a computer rental store owner, an advertising executive, a timber industry lobbyist, a geneticist, and a university computer expert【17†source】【18†source】.'"
   ]
  },
  {
   "cell_type": "code",
   "execution_count": 12,
   "id": "2dcf47a2",
   "metadata": {},
   "outputs": [],
   "source": [
    "# accessToken from https://chat.openai.com/api/auth/session\n",
    "llm = GPT4OpenAI(token=token, model='gpt-4-browsing', auto_continue=True)"
   ]
  },
  {
   "cell_type": "code",
   "execution_count": 13,
   "id": "63ebd926",
   "metadata": {},
   "outputs": [],
   "source": [
    "from gpt4_openai import GPT4OpenAI\n",
    "from langchain import LLMChain\n",
    "from langchain.prompts.chat import (ChatPromptTemplate, SystemMessagePromptTemplate, AIMessagePromptTemplate, HumanMessagePromptTemplate)\n",
    "\n",
    "template=\"\"\"\n",
    "You are a script writer, your task is to create a script from input given to you by a researcher.\n",
    "Using the input write a script for a single camera narrated video of approximately 5 minutes.\n",
    "Create up to 5 scenes per script, complete with a discription of the visual components.\n",
    "\n",
    "When generating the script you can use the following to represent non speech sounds:\n",
    "\n",
    "[laughter]  to add laughter\n",
    "[laughs] to make the current speaking character laughs\n",
    "[sighs] to add a sigh\n",
    "[music] to add music, or make the speech musical\n",
    "[gasps] to represent gasping sound\n",
    "[clears throat] to represent character clearing their throat\n",
    "- or ...   to represent hesitation\n",
    "\n",
    "You can also use CAPITALIZATION for word emphasis\n",
    "\n",
    "Your input will come in the following format:\n",
    "\n",
    "-- Title: \"The topic/news article/paper title\"\n",
    "-- Date: \"The date this news was published or updated\"\n",
    "-- Content: \"The topic's news - Summarized with detail by you, up to 1000 words, the more the better\"\n",
    "\n",
    "Always provide your answer using the following format:\n",
    "\n",
    "[Scene 1] - \"The description of the scene\"\n",
    "\n",
    "NARRATOR: \"The narrators lines\"\n",
    "\"\"\"\n",
    "system_message_prompt = SystemMessagePromptTemplate.from_template(template)\n",
    "human_message_prompt = HumanMessagePromptTemplate.from_template(\"{text}\")\n",
    "\n",
    "chat_prompt = ChatPromptTemplate.from_messages([system_message_prompt, human_message_prompt])\n",
    "\n",
    "chain = LLMChain(llm=llm, prompt=chat_prompt)"
   ]
  },
  {
   "cell_type": "code",
   "execution_count": 14,
   "id": "ceceac48",
   "metadata": {},
   "outputs": [
    {
     "data": {
      "text/plain": [
       "'[Scene 1] - \"A dimly lit prison cell, the walls are worn out with a single small window. It\\'s silent except for the soft, distant echo of prison guards\\' footsteps.\"\\n\\nNARRATOR: \"Today, June 10, 2023, marks the end of a dark chapter in American history. Theodore \\'Ted\\' Kaczynski, more widely known as the Unabomber, passed away at the age of 81, in his prison cell at the federal medical center in Butner, North Carolina.\"\\n\\n[Scene 2] - \"Flashback to a secluded shack in the Montana wilderness. It\\'s surrounded by trees, and the atmosphere is eerily quiet. Cut to the interior of the shack, filled with books, papers, and crude tools for making explosives.\"\\n\\nNARRATOR: \"Kaczynski was not just a criminal, he was a Harvard-educated mathematician who chose to live away from society. From this very shack, he orchestrated a 17-year bombing campaign from 1978 to 1995, leading to the death of three people and injuries to 23 others.\"\\n\\n[Scene 3] - \"News footage from the 1990s showing people in panic, police securing areas, and the temporary shutdown of air travel on the west coast.\"\\n\\nNARRATOR: \"His actions led to substantial changes in the way Americans mailed packages and boarded airplanes. His reign of terror even led to a temporary shutdown of air travel on the west coast in 1995.\"\\n\\n[Scene 4] - \"Image of the infamous 35,000-word manifesto, \\'Industrial Society and Its Future\\', published in The Washington Post and The New York Times.\"\\n\\nNARRATOR: \"In September 1995, Kaczynski forced the Washington Post and the New York Times to publish his manifesto, denouncing modern society and technology. However, this move would lead to his downfall. His brother, David, and his wife, Linda, recognized the tone of the manifesto and informed the FBI, leading to his arrest.\"\\n\\n[Scene 5] - \"Image of Kaczynski\\'s cabin after his arrest, with investigators examining journals, a coded diary, explosive ingredients, and two completed bombs.\"\\n\\nNARRATOR: \"Upon his arrest, Kaczynski was found in a small cabin outside Lincoln, Montana, where he lived as a hermit. His personal journals portrayed him as a vengeful individual driven by personal grievances rather than a committed revolutionary. He despised the notion of being seen as mentally ill and pleaded guilty to avoid an insanity defense. Thus, the nation\\'s longest and costliest manhunt ended.\"\\n\\n[End Scene] - \"Fade out on an image of a young Kaczynski, a picture from his Harvard days, juxtaposed with a photo of his victims.\"\\n\\nNARRATOR: \"Born in Chicago on May 22, 1942, Kaczynski was the son of second-generation Polish Catholics. He was an accomplished academic who had skipped two grades to attend Harvard at 16. His bombing victims were largely chosen due to their association with advancements in modern technology. As we remember them today, we close a dark chapter, hoping never to open it again.\"'"
      ]
     },
     "execution_count": 14,
     "metadata": {},
     "output_type": "execute_result"
    }
   ],
   "source": [
    "chain.run(input)"
   ]
  },
  {
   "cell_type": "raw",
   "id": "72cccaff",
   "metadata": {},
   "source": []
  }
 ],
 "metadata": {
  "kernelspec": {
   "display_name": "Python 3 (ipykernel)",
   "language": "python",
   "name": "python3"
  },
  "language_info": {
   "codemirror_mode": {
    "name": "ipython",
    "version": 3
   },
   "file_extension": ".py",
   "mimetype": "text/x-python",
   "name": "python",
   "nbconvert_exporter": "python",
   "pygments_lexer": "ipython3",
   "version": "3.10.10"
  }
 },
 "nbformat": 4,
 "nbformat_minor": 5
}
