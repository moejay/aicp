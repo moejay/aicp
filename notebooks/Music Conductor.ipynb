{
 "cells": [
  {
   "cell_type": "code",
   "execution_count": 1,
   "id": "f18c90ee",
   "metadata": {},
   "outputs": [],
   "source": [
    "import sys\n",
    "sys.path.append('..')\n",
    "from audiocraft.models import MusicGen\n",
    "from utils.utils import get_scenes\n",
    "from utils import utils\n"
   ]
  },
  {
   "cell_type": "code",
   "execution_count": 2,
   "id": "464d55ac",
   "metadata": {},
   "outputs": [],
   "source": [
    "# Using small model, better results would be obtained with `medium` or `large`.\n",
    "model = MusicGen.get_pretrained('large')"
   ]
  },
  {
   "cell_type": "code",
   "execution_count": 52,
   "id": "7a752603",
   "metadata": {},
   "outputs": [
    {
     "data": {
      "text/plain": [
       "'[Scene 1] - \"Aerial shot of the federal prison medical center in Butner, North Carolina. The sun is setting, casting long shadows across the prison complex. The mood is somber.\"\\n\\nNARRATOR: \"Theodore \\'Ted\\' Kaczynski, the man infamously known as the Unabomber, passed away today in his cell at the federal prison medical center in Butner, North Carolina. He was 81 years old. The cause of his death, as of now, remains unclear.\"\\n\\n[Scene 2] - \"Cut to archival footage of Kaczynski’s Montana shack. The camera zooms in on the remnants of the solitary building, surrounded by wilderness.\"\\n\\nNARRATOR: \"Kaczynski, a Harvard-educated mathematician, chose seclusion in a remote Montana shack from where he orchestrated a 17-year bombing campaign that terrorized the nation. The bombings, which spanned from 1978 to 1995, resulted in the death of three people and injuries to 23 others.\"\\n\\n[Scene 3] - \"Transition to scenes of Americans mailing packages and boarding airplanes, hinting at the substantial changes in these processes.\"\\n\\nNARRATOR: \"His actions led to significant changes in the way Americans mailed packages and boarded airplanes, even causing a temporary shutdown of air travel on the west coast in 1995.\"\\n\\n[Scene 4] - \"Switch to images of the Washington Post and the New York Times front pages with the headline of Kaczynski’s manifesto.\"\\n\\nNARRATOR: \"In September 1995, Kaczynski coerced the Washington Post and the New York Times into publishing his 35,000-word manifesto, \\'Industrial Society and Its Future.\\' The manifesto denounced modern society and technology, and started with the ominous line, \\'The Industrial Revolution and its consequences have been a disaster for the human race.\\'\"\\n\\n[Scene 5] - \"End with a montage of images from Kaczynski’s arrest: his Montana cabin, journals, coded diary, and two completed bombs. It ends with his mug shot, the image of a bearded hermit, a symbol of his seclusion.\"\\n\\nNARRATOR: \"His reign of terror was ended by his own brother, David, who recognized the tone of the manifesto and alerted the FBI. Upon his arrest in April 1996, authorities found Kaczynski in a small cabin filled with journals, a coded diary, explosive ingredients, and two completed bombs. Once revealed as a hermit with a long beard and hair, Kaczynski was seen more as a bitter loner than a romantic antihero. His personal journals portrayed him as a vengeful individual driven by personal grievances rather than a committed revolutionary.\"\\n\\n[music] \"As we reflect on his life, one that was marked by violence and disdain for modernity, we remember the lives lost and the changes brought about by his actions. As the sun sets on his life, we are left to ponder the profound and terrifying impact one individual can have on society.\"\\n'"
      ]
     },
     "execution_count": 52,
     "metadata": {},
     "output_type": "execute_result"
    }
   ],
   "source": [
    "utils.SCRIPT = \"outputs/ted/scriptwriter_out.txt\"\n",
    "script = utils.get_script()\n",
    "script"
   ]
  },
  {
   "cell_type": "code",
   "execution_count": null,
   "id": "a4bed90d",
   "metadata": {},
   "outputs": [],
   "source": []
  },
  {
   "cell_type": "code",
   "execution_count": 53,
   "id": "ddd1b065",
   "metadata": {},
   "outputs": [],
   "source": [
    "# Use GPT To generate prompts the script\n",
    "from dotenv import load_dotenv\n",
    "load_dotenv()\n",
    "from langchain import OpenAI\n"
   ]
  },
  {
   "cell_type": "code",
   "execution_count": 54,
   "id": "f7c341dd",
   "metadata": {},
   "outputs": [],
   "source": [
    "llm = OpenAI(temperature=0.7)"
   ]
  },
  {
   "cell_type": "code",
   "execution_count": 55,
   "id": "f1cea2d0",
   "metadata": {},
   "outputs": [
    {
     "data": {
      "text/plain": [
       "'\\nThis script is about the life of Theodore Kaczynski, commonly known as the Unabomber. It recounts his bombing campaign and the impact of his manifesto on society. It also delves into his personal life, exploring the motives behind his actions. The script ends with a reflection on the consequences of his life, and the power of a single individual to shape the world.'"
      ]
     },
     "execution_count": 55,
     "metadata": {},
     "output_type": "execute_result"
    }
   ],
   "source": [
    "llm(f\"\"\"\n",
    "What is this script about:\n",
    "{script}\n",
    "\"\"\")"
   ]
  },
  {
   "cell_type": "code",
   "execution_count": 63,
   "id": "8be673b2",
   "metadata": {},
   "outputs": [
    {
     "data": {
      "text/plain": [
       "'\\n[\"Soft piano playing with layers of ambient sound\", \\n\"Haunting strings and a deep drum beat that builds throughout the scene\", \\n\"Slow, somber string orchestra with a quiet drone in the background\", \\n\"Mournful woodwinds with sparse electronic elements\", \\n\"Suspenseful music with pulsing drums and eerie synths\", \\n\"Dark, distorted electric guitar solo with a brooding bassline\", \\n\"Atmospheric strings and synths with a distant choir in the background\"]'"
      ]
     },
     "execution_count": 63,
     "metadata": {},
     "output_type": "execute_result"
    }
   ],
   "source": [
    "response = llm(f\"\"\"\n",
    "Given the following script,\n",
    "your task is to analyze the general mood of the script and create appropriate \n",
    "background music for it.\n",
    "You should generate one description per scene in the script.\n",
    "\n",
    "Respond in the following format (JSON array) and one prompt per scene.\n",
    "\n",
    "[\n",
    "    \"Upbeat rock guitar solo, with modern electronic music elements\",\n",
    "    \"Slow classical cello playing with city scape background\",\n",
    "    ...\n",
    "]\n",
    "\n",
    "\n",
    "Here is the script, make sure you respond in valid JSON, and only respond with the music descriptions:\n",
    "{script}\n",
    "\"\"\")\n",
    "response"
   ]
  },
  {
   "cell_type": "code",
   "execution_count": 64,
   "id": "960112e7",
   "metadata": {},
   "outputs": [
    {
     "data": {
      "text/plain": [
       "['Soft piano playing with layers of ambient sound',\n",
       " 'Haunting strings and a deep drum beat that builds throughout the scene',\n",
       " 'Slow, somber string orchestra with a quiet drone in the background',\n",
       " 'Mournful woodwinds with sparse electronic elements',\n",
       " 'Suspenseful music with pulsing drums and eerie synths',\n",
       " 'Dark, distorted electric guitar solo with a brooding bassline',\n",
       " 'Atmospheric strings and synths with a distant choir in the background']"
      ]
     },
     "execution_count": 64,
     "metadata": {},
     "output_type": "execute_result"
    }
   ],
   "source": [
    "import json\n",
    "music_prompts = json.loads(response)\n",
    "music_prompts"
   ]
  },
  {
   "cell_type": "code",
   "execution_count": null,
   "id": "8e7d52ef",
   "metadata": {},
   "outputs": [],
   "source": [
    "# Regenerate music prompts if dumb AI didn't generate things properly\n",
    "if len(music_prompts) < len(scenes):\n",
    "    pass\n"
   ]
  },
  {
   "cell_type": "code",
   "execution_count": 47,
   "id": "6dcfe19c",
   "metadata": {},
   "outputs": [],
   "source": [
    "import sys\n",
    "sys.path.append('..')\n",
    "from audiocraft.models import MusicGen\n",
    "from utils.utils import get_scenes\n",
    "from utils import utils\n",
    "utils.SCRIPT = \"outputs/ted/scriptwriter_out.txt\"\n",
    "utils.VOICEOVER_TIMECODES = \"outputs/ted/script_timecodes.txt\"\n",
    "utils.VOICEOVER_WAV_FILE = \"outputs/ted/script.wav\""
   ]
  },
  {
   "cell_type": "code",
   "execution_count": 48,
   "id": "5f4364b4",
   "metadata": {},
   "outputs": [],
   "source": [
    "scenes = get_scenes()"
   ]
  },
  {
   "cell_type": "code",
   "execution_count": 49,
   "id": "8f79078f",
   "metadata": {},
   "outputs": [
    {
     "data": {
      "text/plain": [
       "[Scene(start_time=None, duration=None, scene_title='[Scene 1', description='- \"A simple, somber room with a portrait of Silvio Berlusconi on the wall. The camera slowly zooms in on the portrait.\"', content='NARRATOR: \"Silvio Berlusconi, the four-time Prime Minister of Italy, despite his numerous scandals, has died at the age of 86. He passed away at the San Raffaele hospital in Milan. His health had been deteriorating, and he was suffering from a rare form of blood cancer. However, the precise cause of his death remains unconfirmed.\"\\n\\n'),\n",
       " Scene(start_time=None, duration=None, scene_title='[Scene 2', description='- \"A montage of clips showcasing Berlusconi\\'s political career and business achievements. Images of newspaper headlines detailing his scandals are interspersed.\"', content='NARRATOR: \"Berlusconi was the longest-serving Prime Minister in post-war Italy, from 1994 to 2011. His reign was not without controversy - sex scandals, corruption cases, and more. Yet before his political career, he was a successful businessman, owning television networks, publishing companies, and even saving the legendary football club, AC Milan, from bankruptcy.\"\\n\\n'),\n",
       " Scene(start_time=None, duration=None, scene_title='[Scene 3', description='- \"Footage of lowered flags across Italy and Europe. A crowd gathered for the funeral at Milan Cathedral.\"', content='NARRATOR: \"Berlusconi\\'s passing has left a significant void in Italy, and the government declared a national day of mourning. His funeral was held at Milan Cathedral, with flags lowered to half-mast in his honor across Italy and Europe.\"\\n\\n'),\n",
       " Scene(start_time=None, duration=None, scene_title='[Scene 4', description='- \"A series of photos and clips of world leaders offering tributes.\"', content='NARRATOR: \"Tributes have poured in from world leaders. Russian President Vladimir Putin hailed Berlusconi\\'s wisdom, French President Emmanuel Macron noted his active presence on the political scene, and the White House acknowledged his contributions to advancing Italy-US relations.\"\\n\\n'),\n",
       " Scene(start_time=None, duration=None, scene_title='[Scene 5', description='- \"Clips of Berlusconi\\'s center-right party, Forza Italia, and its activities under Giorgia Meloni\\'s leadership. Images of Berlusconi\\'s public appearances before his death.\"', content='NARRATOR: \"In his last year, Berlusconi\\'s party, Forza Italia, entered into a coalition under Giorgia Meloni. Despite his legal troubles and controversial career, Berlusconi was remembered by Meloni as a \\'fighter\\' and \\'one of the most influential men in the history of Italy\\'. His legacy as a prominent and contentious figure in Italy\\'s history is undeniable. The impact of Berlusconi\\'s death on the future of Italian politics is yet to be fully understood, but his influence on Italy\\'s political, social, and media landscape was significant and will continue to be the subject of ongoing debate.\"\\n')]"
      ]
     },
     "execution_count": 49,
     "metadata": {},
     "output_type": "execute_result"
    }
   ],
   "source": [
    "scenes"
   ]
  },
  {
   "cell_type": "code",
   "execution_count": 51,
   "id": "508244f5",
   "metadata": {},
   "outputs": [
    {
     "ename": "TypeError",
     "evalue": "'<=' not supported between instances of 'NoneType' and 'int'",
     "output_type": "error",
     "traceback": [
      "\u001b[0;31m---------------------------------------------------------------------------\u001b[0m",
      "\u001b[0;31mTypeError\u001b[0m                                 Traceback (most recent call last)",
      "Cell \u001b[0;32mIn[51], line 3\u001b[0m\n\u001b[1;32m      1\u001b[0m scenes_outputs \u001b[38;5;241m=\u001b[39m []\n\u001b[1;32m      2\u001b[0m \u001b[38;5;28;01mfor\u001b[39;00m scene, mp \u001b[38;5;129;01min\u001b[39;00m \u001b[38;5;28mzip\u001b[39m(scenes, music_prompts):\n\u001b[0;32m----> 3\u001b[0m     \u001b[43mmodel\u001b[49m\u001b[38;5;241;43m.\u001b[39;49m\u001b[43mset_generation_params\u001b[49m\u001b[43m(\u001b[49m\n\u001b[1;32m      4\u001b[0m \u001b[43m        \u001b[49m\u001b[43muse_sampling\u001b[49m\u001b[38;5;241;43m=\u001b[39;49m\u001b[38;5;28;43;01mTrue\u001b[39;49;00m\u001b[43m,\u001b[49m\n\u001b[1;32m      5\u001b[0m \u001b[43m        \u001b[49m\u001b[43mtop_k\u001b[49m\u001b[38;5;241;43m=\u001b[39;49m\u001b[38;5;241;43m250\u001b[39;49m\u001b[43m,\u001b[49m\n\u001b[1;32m      6\u001b[0m \u001b[43m        \u001b[49m\u001b[43mduration\u001b[49m\u001b[38;5;241;43m=\u001b[39;49m\u001b[43mscene\u001b[49m\u001b[38;5;241;43m.\u001b[39;49m\u001b[43mduration\u001b[49m\n\u001b[1;32m      7\u001b[0m \u001b[43m    \u001b[49m\u001b[43m)\u001b[49m    \n\u001b[1;32m      8\u001b[0m     scenes_outputs\u001b[38;5;241m.\u001b[39mappend(model\u001b[38;5;241m.\u001b[39mgenerate(\n\u001b[1;32m      9\u001b[0m         descriptions\u001b[38;5;241m=\u001b[39m[\n\u001b[1;32m     10\u001b[0m             mp,\n\u001b[1;32m     11\u001b[0m         ],\n\u001b[1;32m     12\u001b[0m         progress\u001b[38;5;241m=\u001b[39m\u001b[38;5;28;01mTrue\u001b[39;00m\n\u001b[1;32m     13\u001b[0m     ))\n",
      "File \u001b[0;32m~/.pyenv/versions/3.10.6/lib/python3.10/site-packages/audiocraft/models/musicgen.py:116\u001b[0m, in \u001b[0;36mMusicGen.set_generation_params\u001b[0;34m(self, use_sampling, top_k, top_p, temperature, duration, cfg_coef, two_step_cfg)\u001b[0m\n\u001b[1;32m     99\u001b[0m \u001b[38;5;28;01mdef\u001b[39;00m \u001b[38;5;21mset_generation_params\u001b[39m(\u001b[38;5;28mself\u001b[39m, use_sampling: \u001b[38;5;28mbool\u001b[39m \u001b[38;5;241m=\u001b[39m \u001b[38;5;28;01mTrue\u001b[39;00m, top_k: \u001b[38;5;28mint\u001b[39m \u001b[38;5;241m=\u001b[39m \u001b[38;5;241m250\u001b[39m,\n\u001b[1;32m    100\u001b[0m                           top_p: \u001b[38;5;28mfloat\u001b[39m \u001b[38;5;241m=\u001b[39m \u001b[38;5;241m0.0\u001b[39m, temperature: \u001b[38;5;28mfloat\u001b[39m \u001b[38;5;241m=\u001b[39m \u001b[38;5;241m1.0\u001b[39m,\n\u001b[1;32m    101\u001b[0m                           duration: \u001b[38;5;28mfloat\u001b[39m \u001b[38;5;241m=\u001b[39m \u001b[38;5;241m30.0\u001b[39m, cfg_coef: \u001b[38;5;28mfloat\u001b[39m \u001b[38;5;241m=\u001b[39m \u001b[38;5;241m3.0\u001b[39m,\n\u001b[1;32m    102\u001b[0m                           two_step_cfg: \u001b[38;5;28mbool\u001b[39m \u001b[38;5;241m=\u001b[39m \u001b[38;5;28;01mFalse\u001b[39;00m):\n\u001b[1;32m    103\u001b[0m \u001b[38;5;250m    \u001b[39m\u001b[38;5;124;03m\"\"\"Set the generation parameters for MusicGen.\u001b[39;00m\n\u001b[1;32m    104\u001b[0m \n\u001b[1;32m    105\u001b[0m \u001b[38;5;124;03m    Args:\u001b[39;00m\n\u001b[0;32m   (...)\u001b[0m\n\u001b[1;32m    114\u001b[0m \u001b[38;5;124;03m            are padded but seems to have little impact in practice.\u001b[39;00m\n\u001b[1;32m    115\u001b[0m \u001b[38;5;124;03m    \"\"\"\u001b[39;00m\n\u001b[0;32m--> 116\u001b[0m     \u001b[38;5;28;01massert\u001b[39;00m \u001b[43mduration\u001b[49m\u001b[43m \u001b[49m\u001b[38;5;241;43m<\u001b[39;49m\u001b[38;5;241;43m=\u001b[39;49m\u001b[43m \u001b[49m\u001b[38;5;241;43m30\u001b[39;49m, \u001b[38;5;124m\"\u001b[39m\u001b[38;5;124mThe MusicGen cannot generate more than 30 seconds\u001b[39m\u001b[38;5;124m\"\u001b[39m\n\u001b[1;32m    117\u001b[0m     \u001b[38;5;28mself\u001b[39m\u001b[38;5;241m.\u001b[39mgeneration_params \u001b[38;5;241m=\u001b[39m {\n\u001b[1;32m    118\u001b[0m         \u001b[38;5;124m'\u001b[39m\u001b[38;5;124mmax_gen_len\u001b[39m\u001b[38;5;124m'\u001b[39m: \u001b[38;5;28mint\u001b[39m(duration \u001b[38;5;241m*\u001b[39m \u001b[38;5;28mself\u001b[39m\u001b[38;5;241m.\u001b[39mframe_rate),\n\u001b[1;32m    119\u001b[0m         \u001b[38;5;124m'\u001b[39m\u001b[38;5;124muse_sampling\u001b[39m\u001b[38;5;124m'\u001b[39m: use_sampling,\n\u001b[0;32m   (...)\u001b[0m\n\u001b[1;32m    124\u001b[0m         \u001b[38;5;124m'\u001b[39m\u001b[38;5;124mtwo_step_cfg\u001b[39m\u001b[38;5;124m'\u001b[39m: two_step_cfg,\n\u001b[1;32m    125\u001b[0m     }\n",
      "\u001b[0;31mTypeError\u001b[0m: '<=' not supported between instances of 'NoneType' and 'int'"
     ]
    }
   ],
   "source": [
    "scenes_outputs = []\n",
    "for scene, mp in zip(scenes, music_prompts):\n",
    "    model.set_generation_params(\n",
    "        use_sampling=True,\n",
    "        top_k=250,\n",
    "        duration=scene.duration\n",
    "    )    \n",
    "    scenes_outputs.append(model.generate(\n",
    "        descriptions=[\n",
    "            mp,\n",
    "        ],\n",
    "        progress=True\n",
    "    ))\n"
   ]
  },
  {
   "cell_type": "code",
   "execution_count": null,
   "id": "92d23530",
   "metadata": {},
   "outputs": [],
   "source": [
    "from audiocraft.utils.notebook import display_audio\n",
    "\n",
    "display_audio(scenes_outputs[0], sample_rate=32000)\n"
   ]
  },
  {
   "cell_type": "code",
   "execution_count": null,
   "id": "472790fb",
   "metadata": {},
   "outputs": [],
   "source": [
    "import subprocess\n",
    "\n",
    "def combine_music_with_crossfade(music_paths, output_path, crossfade_duration=3):\n",
    "    \"\"\"\n",
    "    Combine multiple music clips into a single file with crossfade.\n",
    "\n",
    "    :param music_paths: List of paths to the music clips.\n",
    "    :param output_path: Path to the output file.\n",
    "    :param crossfade_duration: Duration of the crossfade in seconds (default is 3 seconds).\n",
    "    \"\"\"\n",
    "\n",
    "    # Basic input string\n",
    "    input_str = \"\"\n",
    "    \n",
    "    # Building the input string\n",
    "    for music_path in music_paths:\n",
    "        input_str += f\" -i {music_path}\"\n",
    "\n",
    "    # Building filter_complex string\n",
    "    filter_complex_str = \"\"\n",
    "    for i in range(1, len(music_paths)):\n",
    "        if i == 1:\n",
    "            filter_complex_str += f\"[0:a][{i}:a]acrossfade=d={crossfade_duration}:c1=tri:c2=squ[ac{i}];\"\n",
    "        else:\n",
    "            filter_complex_str += f\"[ac{i-1}][{i}:a]acrossfade=d={crossfade_duration}:c1=tri:c2=squ[ac{i}];\"\n",
    "    \n",
    "    # Removing last semicolon\n",
    "    filter_complex_str = filter_complex_str.rstrip(';')\n",
    "\n",
    "    # Building the final FFmpeg command\n",
    "    cmd = f\"ffmpeg {input_str} -filter_complex \\\"{filter_complex_str}\\\" -map \\\"[ac{len(music_paths) - 1}]\\\" {output_path}\"\n",
    "\n",
    "    # Run the FFmpeg command\n",
    "    subprocess.run(cmd, shell=True)"
   ]
  },
  {
   "cell_type": "code",
   "execution_count": null,
   "id": "b0462f3b",
   "metadata": {},
   "outputs": [],
   "source": [
    "from audiocraft.data.audio import audio_write\n",
    "music_files = []\n",
    "for i, s in enumerate(scenes_outputs):\n",
    "    filename = f\"music-{i}.wav\"\n",
    "    music_files.append(filename)\n",
    "    audio_write(\n",
    "            filename, s[0].to(\"cpu\"), model.sample_rate, strategy=\"loudness\",\n",
    "            loudness_headroom_db=16, add_suffix=False)"
   ]
  },
  {
   "cell_type": "code",
   "execution_count": null,
   "id": "71c25bf5",
   "metadata": {},
   "outputs": [],
   "source": [
    "combine_music_with_crossfade(music_files, \"background-music.wav\")"
   ]
  },
  {
   "cell_type": "code",
   "execution_count": null,
   "id": "27179a2e",
   "metadata": {},
   "outputs": [],
   "source": [
    "from pydub import AudioSegment\n",
    "\n",
    "def duck(voiceover_path, music_path, output_path, duck_dB=-10.0, threshold=-40, chunk_duration=100, fade_duration=500, hold_duration=500):\n",
    "    \"\"\"\n",
    "    Perform audio ducking: lower the volume of the background music during speech segments in the voiceover.\n",
    "\n",
    "    :param voiceover_path: Path to the voiceover audio file.\n",
    "    :param music_path: Path to the background music file.\n",
    "    :param output_path: Path where the output file should be saved.\n",
    "    :param duck_dB: The level to duck the background music in dB (default is -10.0 dB).\n",
    "    :param threshold: Threshold for detecting speech in dB (default is -40 dB).\n",
    "    :param chunk_duration: Chunk duration in milliseconds used for speech detection (default is 100 ms).\n",
    "    :param fade_duration: Duration in milliseconds for fade-in and fade-out (default is 500 ms).\n",
    "    :param hold_duration: Duration in milliseconds to keep the ducking after speech ends (default is 500 ms).\n",
    "    \"\"\"\n",
    "\n",
    "    # Load the audio files\n",
    "    voiceover = AudioSegment.from_file(voiceover_path)\n",
    "    background_music = AudioSegment.from_file(music_path)\n",
    "\n",
    "    # Analyze voiceover to find segments of speech\n",
    "    num_chunks = len(voiceover) // chunk_duration\n",
    "    is_speech = [voiceover[i * chunk_duration : (i + 1) * chunk_duration].dBFS > threshold for i in range(num_chunks)]\n",
    "\n",
    "    # Duck the background music during speech\n",
    "    output = AudioSegment.empty()\n",
    "    last_chunk_was_speech = False\n",
    "    hold_counter = 0\n",
    "    for i, speech in enumerate(is_speech):\n",
    "        chunk_start = i * chunk_duration\n",
    "        chunk_end = (i + 1) * chunk_duration\n",
    "        chunk = background_music[chunk_start : chunk_end]\n",
    "\n",
    "        if speech:\n",
    "            ducked_chunk = chunk + duck_dB\n",
    "            if not last_chunk_was_speech:\n",
    "                ducked_chunk = ducked_chunk.fade_in(fade_duration)\n",
    "            output += ducked_chunk\n",
    "            hold_counter = hold_duration // chunk_duration\n",
    "        else:\n",
    "            if last_chunk_was_speech or hold_counter > 0:\n",
    "                output += (chunk + duck_dB).fade_out(fade_duration) if hold_counter == 0 else chunk + duck_dB\n",
    "                hold_counter = max(0, hold_counter - 1)\n",
    "            else:\n",
    "                output += chunk\n",
    "\n",
    "        last_chunk_was_speech = speech\n",
    "\n",
    "    # Combine the voiceover and background music\n",
    "    combined = voiceover.overlay(output)\n",
    "\n",
    "    # Save the final output\n",
    "    combined.export(output_path, format=\"wav\")"
   ]
  },
  {
   "cell_type": "code",
   "execution_count": null,
   "id": "07587574",
   "metadata": {},
   "outputs": [],
   "source": [
    "duck(\"ted/script.wav\", \"background-music.wav\", \"output-audio.wav\",chunk_duration=1000, hold_duration=1500)"
   ]
  },
  {
   "cell_type": "code",
   "execution_count": null,
   "id": "fa8e9f6b",
   "metadata": {},
   "outputs": [],
   "source": []
  }
 ],
 "metadata": {
  "kernelspec": {
   "display_name": "Python 3 (ipykernel)",
   "language": "python",
   "name": "python3"
  },
  "language_info": {
   "codemirror_mode": {
    "name": "ipython",
    "version": 3
   },
   "file_extension": ".py",
   "mimetype": "text/x-python",
   "name": "python",
   "nbconvert_exporter": "python",
   "pygments_lexer": "ipython3",
   "version": "3.10.6"
  }
 },
 "nbformat": 4,
 "nbformat_minor": 5
}
