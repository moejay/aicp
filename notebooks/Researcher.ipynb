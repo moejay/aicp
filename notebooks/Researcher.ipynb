{
 "cells": [
  {
   "cell_type": "markdown",
   "id": "5e81f6a5",
   "metadata": {},
   "source": [
    "### Given a topic research the latest news"
   ]
  },
  {
   "cell_type": "code",
   "execution_count": 12,
   "id": "7ba322a5",
   "metadata": {},
   "outputs": [
    {
     "data": {
      "text/plain": [
       "True"
      ]
     },
     "execution_count": 12,
     "metadata": {},
     "output_type": "execute_result"
    }
   ],
   "source": [
    "from dotenv import load_dotenv\n",
    "load_dotenv()"
   ]
  },
  {
   "cell_type": "code",
   "execution_count": 13,
   "id": "9c82b107",
   "metadata": {},
   "outputs": [],
   "source": [
    "from getpass import getpass"
   ]
  },
  {
   "cell_type": "code",
   "execution_count": 14,
   "id": "12eb6066",
   "metadata": {},
   "outputs": [],
   "source": [
    "from gpt4_openai import GPT4OpenAI"
   ]
  },
  {
   "cell_type": "code",
   "execution_count": 22,
   "id": "8860ecc8",
   "metadata": {},
   "outputs": [
    {
     "name": "stdout",
     "output_type": "stream",
     "text": [
      "········\n"
     ]
    }
   ],
   "source": [
    "token=getpass()"
   ]
  },
  {
   "cell_type": "code",
   "execution_count": 32,
   "id": "6dd934bc",
   "metadata": {},
   "outputs": [],
   "source": [
    "# accessToken from https://chat.openai.com/api/auth/session\n",
    "llm = GPT4OpenAI(token=token, model='gpt-4-browsing', auto_continue=True)"
   ]
  },
  {
   "cell_type": "code",
   "execution_count": 33,
   "id": "63ebd926",
   "metadata": {},
   "outputs": [],
   "source": [
    "from gpt4_openai import GPT4OpenAI\n",
    "from langchain import LLMChain\n",
    "from langchain.prompts.chat import (ChatPromptTemplate, SystemMessagePromptTemplate, AIMessagePromptTemplate, HumanMessagePromptTemplate)\n",
    "\n",
    "template=\"\"\"\n",
    "You are a researcher, your task is to find information about what the user asks, \n",
    "learn as many facts as you can about the topic, and summarize with as much detail as you can.\n",
    "The summary should be up to 100 words\n",
    "You will search one topic at a time, and after every time you provide your answer, ask the user if they want you to research some other piece of news or topic.\n",
    "\n",
    "Always provide your answer using the following format:\n",
    "\n",
    "-- Title: \"The topic/news article/paper title\"\n",
    "-- Date: \"The date this news was published or updated\"\n",
    "-- Content: \"The topic's news - Summarized with detail by you, up to 1000 words, the more the better\"\n",
    "\n",
    "\"\"\"\n",
    "system_message_prompt = SystemMessagePromptTemplate.from_template(template)\n",
    "human_message_prompt = HumanMessagePromptTemplate.from_template(\"{text}\")\n",
    "\n",
    "chat_prompt = ChatPromptTemplate.from_messages([system_message_prompt, human_message_prompt])\n",
    "\n",
    "chain = LLMChain(llm=llm, prompt=chat_prompt)"
   ]
  },
  {
   "cell_type": "code",
   "execution_count": null,
   "id": "ceceac48",
   "metadata": {},
   "outputs": [],
   "source": [
    "chain.run(\"Find the latest paper in Arxiv about AI, and research it\")"
   ]
  },
  {
   "cell_type": "code",
   "execution_count": null,
   "id": "86b49e01",
   "metadata": {},
   "outputs": [],
   "source": []
  }
 ],
 "metadata": {
  "kernelspec": {
   "display_name": "Python 3 (ipykernel)",
   "language": "python",
   "name": "python3"
  },
  "language_info": {
   "codemirror_mode": {
    "name": "ipython",
    "version": 3
   },
   "file_extension": ".py",
   "mimetype": "text/x-python",
   "name": "python",
   "nbconvert_exporter": "python",
   "pygments_lexer": "ipython3",
   "version": "3.10.6"
  }
 },
 "nbformat": 4,
 "nbformat_minor": 5
}
