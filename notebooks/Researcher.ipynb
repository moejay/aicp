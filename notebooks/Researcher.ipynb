{
 "cells": [
  {
   "cell_type": "markdown",
   "id": "5e81f6a5",
   "metadata": {},
   "source": [
    "### Given a topic research the latest news"
   ]
  },
  {
   "cell_type": "code",
   "execution_count": 1,
   "id": "7ba322a5",
   "metadata": {},
   "outputs": [
    {
     "data": {
      "text/plain": [
       "True"
      ]
     },
     "execution_count": 1,
     "metadata": {},
     "output_type": "execute_result"
    }
   ],
   "source": [
    "from dotenv import load_dotenv\n",
    "load_dotenv()"
   ]
  },
  {
   "cell_type": "code",
   "execution_count": 2,
   "id": "9c82b107",
   "metadata": {},
   "outputs": [],
   "source": [
    "from getpass import getpass\n",
    "import os\n",
    "import sys\n",
    "sys.path.append('..')\n",
    "from utils import llms"
   ]
  },
  {
   "cell_type": "code",
   "execution_count": 3,
   "id": "63ebd926",
   "metadata": {},
   "outputs": [
    {
     "data": {
      "text/plain": [
       "'System: \\nYou are a researcher, your task is to find information about a given topic. \\nLearn as many facts as you can about the topic and summarize with as much detail as you can.\\nYou will research only one topic at a time and your summary should be up to 1000 words.\\n\\nAlways provide your answer using the following format:\\n\\n-- Title: \"The topic/news article/paper title\"\\n-- Date: \"The date this news was published or updated\"\\n-- Content: \"The topic\\'s news - Summarized with detail by you, up to 1000 words, the more the better\"\\n\\n\\nHuman: Bashar Al Assad'"
      ]
     },
     "execution_count": 3,
     "metadata": {},
     "output_type": "execute_result"
    }
   ],
   "source": [
    "from langchain import LLMChain\n",
    "from langchain.prompts.chat import (ChatPromptTemplate, SystemMessagePromptTemplate, AIMessagePromptTemplate, HumanMessagePromptTemplate)\n",
    "\n",
    "template=\"\"\"\n",
    "You are a researcher, your task is to find information about a given topic. \n",
    "Learn as many facts as you can about the topic and summarize with as much detail as you can.\n",
    "You will research only one topic at a time and your summary should be up to 1000 words.\n",
    "\n",
    "Always provide your answer using the following format:\n",
    "\n",
    "-- Title: \"The topic/news article/paper title\"\n",
    "-- Date: \"The date this news was published or updated\"\n",
    "-- Content: \"The topic's news - Summarized with detail by you, up to 1000 words, the more the better\"\n",
    "\n",
    "\"\"\"\n",
    "system_message_prompt = SystemMessagePromptTemplate.from_template(template)\n",
    "human_message_prompt = HumanMessagePromptTemplate.from_template(\"{text}\")\n",
    "\n",
    "chat_prompt = ChatPromptTemplate.from_messages([system_message_prompt, human_message_prompt])\n",
    "\n",
    "chat_prompt.format(text=\"Bashar Al Assad\")"
   ]
  },
  {
   "cell_type": "code",
   "execution_count": 4,
   "id": "ceceac48",
   "metadata": {},
   "outputs": [
    {
     "data": {
      "text/plain": [
       "'-- Title: \"Kill Tony: The Hilarious and Unpredictable Comedy Podcast\"\\n-- Date: Knowledge cutoff in September 2021\\n\\nContent:\\nKill Tony is a popular comedy podcast that has gained a significant following since its inception in 2013. Hosted by Tony Hinchcliffe and Brian Redban, the show features a unique and hilarious format that combines stand-up comedy and live podcasting. Kill Tony has garnered a reputation for its unpredictability, as well as its ability to provide a platform for up-and-coming comedians to showcase their talent.\\n\\nThe show\\'s premise revolves around an open mic-style format, where amateur comedians sign up for a chance to perform a one-minute set in front of a live audience. However, what sets Kill Tony apart from traditional open mics is the panel of established comedians who offer immediate feedback and engage in playful banter with the performers.\\n\\nEach episode typically begins with Tony Hinchcliffe introducing the panel, consisting of himself, Brian Redban, and a rotating cast of seasoned comedians. Some notable regular panelists include comedians such as Jeremiah Watkins, Joel Jimenez, and Pat Regan, among others. The chemistry between the hosts and panelists adds to the comedic atmosphere of the show, creating a dynamic and entertaining experience for both the performers and the audience.\\n\\nWhen a comedian takes the stage, they have 60 seconds to impress the panel and make the audience laugh. However, not every set goes smoothly, and the panel often provides humorous feedback, critiques, and sometimes even roasts the performers. This unfiltered and often hilarious commentary has become a trademark of Kill Tony, making it a favorite among comedy enthusiasts.\\n\\nIn addition to the open mic segment, Kill Tony also features interviews with established comedians and industry professionals. These interviews provide valuable insights into the world of comedy, as guests share their experiences, discuss their craft, and offer advice to aspiring comedians. This blend of amateur performances and insightful conversations makes Kill Tony a unique and captivating podcast.\\n\\nThe show has gained a dedicated fan base over the years, with live episodes drawing large crowds in comedy clubs across the United States and even internationally. Kill Tony has also expanded its reach through the use of social media, with episodes being uploaded to platforms such as YouTube and iTunes, allowing fans to access the show from anywhere in the world.\\n\\nWhat makes Kill Tony stand out is its ability to provide a platform for aspiring comedians to gain exposure and receive constructive feedback from established professionals. Many comedians who have performed on the show have gone on to achieve success in their careers, with some even becoming regular panelists themselves. Kill Tony serves as a launchpad for up-and-coming talent, helping them refine their skills and connect with the broader comedy community.\\n\\nIn conclusion, Kill Tony is a hilarious and unpredictable comedy podcast that combines stand-up performances, live podcasting, and entertaining panel discussions. The show\\'s unique format and witty banter make it a must-watch/listen for comedy enthusiasts. Whether you\\'re a fan of stand-up comedy, aspiring to be a comedian yourself, or simply looking for a good laugh, Kill Tony delivers an entertaining and insightful experience that showcases both the highs and lows of the comedy world.'"
      ]
     },
     "execution_count": 4,
     "metadata": {},
     "output_type": "execute_result"
    }
   ],
   "source": [
    "chain = LLMChain(llm=llms.RevGPTLLM(model=\"gpt-3.5\"), prompt=chat_prompt)\n",
    "summary = chain.run(\"Kill Tony News\")\n",
    "summary"
   ]
  },
  {
   "cell_type": "code",
   "execution_count": null,
   "id": "d1aa331a",
   "metadata": {},
   "outputs": [],
   "source": [
    "print(summary)"
   ]
  },
  {
   "cell_type": "code",
   "execution_count": 7,
   "id": "86b49e01",
   "metadata": {},
   "outputs": [],
   "source": [
    "from utils import utils\n",
    "utils.set_prefix(\"outputs/bashar\")\n",
    "os.makedirs(\"outputs/bashar\", exist_ok=True)\n"
   ]
  },
  {
   "cell_type": "code",
   "execution_count": 8,
   "id": "2312e2b5",
   "metadata": {},
   "outputs": [],
   "source": [
    "with open(utils.RESEARCH, \"w\") as f:\n",
    "    f.write(summary)"
   ]
  },
  {
   "cell_type": "code",
   "execution_count": null,
   "id": "bf685f62",
   "metadata": {},
   "outputs": [],
   "source": []
  }
 ],
 "metadata": {
  "kernelspec": {
   "display_name": "Python 3 (ipykernel)",
   "language": "python",
   "name": "python3"
  },
  "language_info": {
   "codemirror_mode": {
    "name": "ipython",
    "version": 3
   },
   "file_extension": ".py",
   "mimetype": "text/x-python",
   "name": "python",
   "nbconvert_exporter": "python",
   "pygments_lexer": "ipython3",
   "version": "3.10.6"
  }
 },
 "nbformat": 4,
 "nbformat_minor": 5
}
