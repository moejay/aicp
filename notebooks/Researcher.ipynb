{
 "cells": [
  {
   "cell_type": "markdown",
   "id": "5e81f6a5",
   "metadata": {},
   "source": [
    "### Given a topic research the latest news"
   ]
  },
  {
   "cell_type": "code",
   "execution_count": 3,
   "id": "7ba322a5",
   "metadata": {},
   "outputs": [
    {
     "data": {
      "text/plain": [
       "False"
      ]
     },
     "execution_count": 3,
     "metadata": {},
     "output_type": "execute_result"
    }
   ],
   "source": [
    "from dotenv import load_dotenv\n",
    "load_dotenv()"
   ]
  },
  {
   "cell_type": "code",
   "execution_count": 4,
   "id": "9c82b107",
   "metadata": {},
   "outputs": [],
   "source": [
    "from getpass import getpass"
   ]
  },
  {
   "cell_type": "code",
   "execution_count": 5,
   "id": "12eb6066",
   "metadata": {},
   "outputs": [],
   "source": [
    "from gpt4_openai import GPT4OpenAI"
   ]
  },
  {
   "cell_type": "code",
   "execution_count": 6,
   "id": "8860ecc8",
   "metadata": {},
   "outputs": [
    {
     "name": "stdout",
     "output_type": "stream",
     "text": [
      "········\n"
     ]
    }
   ],
   "source": [
    "token=getpass()"
   ]
  },
  {
   "cell_type": "code",
   "execution_count": 7,
   "id": "6dd934bc",
   "metadata": {},
   "outputs": [],
   "source": [
    "# accessToken from https://chat.openai.com/api/auth/session\n",
    "llm = GPT4OpenAI(token=token, model='gpt-4-browsing', auto_continue=True)"
   ]
  },
  {
   "cell_type": "code",
   "execution_count": 8,
   "id": "63ebd926",
   "metadata": {},
   "outputs": [],
   "source": [
    "from gpt4_openai import GPT4OpenAI\n",
    "from langchain import LLMChain\n",
    "from langchain.prompts.chat import (ChatPromptTemplate, SystemMessagePromptTemplate, AIMessagePromptTemplate, HumanMessagePromptTemplate)\n",
    "\n",
    "template=\"\"\"\n",
    "You are a researcher, your task is to find information about a given topic. \n",
    "Learn as many facts as you can about the topic and summarize with as much detail as you can.\n",
    "You will research only one topic at a time and your summary should be up to 1000 words.\n",
    "\n",
    "Always provide your answer using the following format:\n",
    "\n",
    "-- Title: \"The topic/news article/paper title\"\n",
    "-- Date: \"The date this news was published or updated\"\n",
    "-- Content: \"The topic's news - Summarized with detail by you, up to 1000 words, the more the better\"\n",
    "\n",
    "\"\"\"\n",
    "system_message_prompt = SystemMessagePromptTemplate.from_template(template)\n",
    "human_message_prompt = HumanMessagePromptTemplate.from_template(\"{text}\")\n",
    "\n",
    "chat_prompt = ChatPromptTemplate.from_messages([system_message_prompt, human_message_prompt])\n",
    "\n",
    "chain = LLMChain(llm=llm, prompt=chat_prompt)"
   ]
  },
  {
   "cell_type": "code",
   "execution_count": 10,
   "id": "ceceac48",
   "metadata": {},
   "outputs": [
    {
     "data": {
      "text/plain": [
       "'-- Title: \"Former Italian Prime Minister Silvio Berlusconi Dies at 86 - BBC News\"\\n-- Date: \"June 12, 2023\"\\n-- Content: \\n\\nSilvio Berlusconi, the former Prime Minister of Italy who held office four times despite numerous scandals, has died at the age of 86. He passed away at the San Raffaele hospital in Milan. In April, he had been treated for a lung infection that was linked to leukemia, and he had been suffering from a rare form of blood cancer, chronic myelomonocytic leukemia. However, the precise cause of his death has not been officially confirmed【7†source】【8†source】【18†source】.\\n\\nBerlusconi was the longest-serving Prime Minister in post-war Italy, holding political office from 1994 to 2011. Despite various controversies, including sex scandals and corruption cases, Berlusconi managed to lead four governments, though not consecutively. Before his political career, he built a successful business empire that included television networks, publishing companies, and advertising agencies. He was also the owner of the legendary football club AC Milan, which he saved from bankruptcy in 1986【10†source】【19†source】【20†source】.\\n\\nBerlusconi\\'s death has left a significant void in Italy, with the Italian government declaring a national day of mourning on the day of his funeral, which was held at Milan Cathedral. Flags on public buildings across Italy and Europe were lowered to half-mast in his honor【9†source】【14†source】.\\n\\nHis influence was recognized internationally, with tributes pouring in from world leaders. Russian President Vladimir Putin admired Berlusconi\\'s wisdom and ability to make balanced, far-sighted decisions, calling him a \"true friend\". French President Emmanuel Macron described Berlusconi as a major figure in contemporary Italy, noting his active presence on the political scene from his first election as a member of parliament in 1994 until his last days as a senator. The White House also acknowledged Berlusconi\\'s contributions to advancing bilateral relations between Italy and the United States【15†source】【16†source】【17†source】.\\n\\nIn September of the year before his death, Berlusconi\\'s center-right party, Forza Italia, entered into a coalition under right-wing Prime Minister Giorgia Meloni. Meloni remembered Berlusconi as a \"fighter\" and \"one of the most influential men in the history of Italy\"【11†source】【12†source】.\\n\\nDespite his controversial career and legal troubles, including charges of bribery, tax fraud, and sex with an underage prostitute, Berlusconi was a polarizing figure, praised by supporters for his business acumen and populist verve, while criticized by others for his disregard for the rule of law【21†source】.\\n\\nWhile the impact of Berlusconi\\'s death on the future of Italian politics is yet to be fully understood, his legacy as a prominent and contentious figure in Italy\\'s history is undeniable. His influence on Italy\\'s political, social, and media landscape was significant and will be the subject of ongoing debate.'"
      ]
     },
     "execution_count": 10,
     "metadata": {},
     "output_type": "execute_result"
    }
   ],
   "source": [
    "summary = chain.run(\"The recent death of Silivo Berlusconi\")\n",
    "summary"
   ]
  },
  {
   "cell_type": "code",
   "execution_count": 12,
   "id": "86b49e01",
   "metadata": {},
   "outputs": [],
   "source": [
    "import os\n",
    "os.makedirs(\"outputs/silvio\", exist_ok=True)\n",
    "with open(\"outputs/silvio/researcher_out.txt\", \"w\") as f:\n",
    "    f.write(summary)"
   ]
  },
  {
   "cell_type": "code",
   "execution_count": null,
   "id": "bf685f62",
   "metadata": {},
   "outputs": [],
   "source": []
  }
 ],
 "metadata": {
  "kernelspec": {
   "display_name": "Python 3 (ipykernel)",
   "language": "python",
   "name": "python3"
  },
  "language_info": {
   "codemirror_mode": {
    "name": "ipython",
    "version": 3
   },
   "file_extension": ".py",
   "mimetype": "text/x-python",
   "name": "python",
   "nbconvert_exporter": "python",
   "pygments_lexer": "ipython3",
   "version": "3.10.10"
  }
 },
 "nbformat": 4,
 "nbformat_minor": 5
}
