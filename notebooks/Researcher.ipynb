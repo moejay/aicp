{
 "cells": [
  {
   "cell_type": "markdown",
   "id": "5e81f6a5",
   "metadata": {},
   "source": [
    "### Given a topic research the latest news"
   ]
  },
  {
   "cell_type": "code",
   "execution_count": 1,
   "id": "7ba322a5",
   "metadata": {},
   "outputs": [
    {
     "data": {
      "text/plain": [
       "True"
      ]
     },
     "execution_count": 1,
     "metadata": {},
     "output_type": "execute_result"
    }
   ],
   "source": [
    "from dotenv import load_dotenv\n",
    "load_dotenv()"
   ]
  },
  {
   "cell_type": "code",
   "execution_count": 2,
   "id": "9c82b107",
   "metadata": {},
   "outputs": [],
   "source": [
    "from getpass import getpass"
   ]
  },
  {
   "cell_type": "code",
   "execution_count": 3,
   "id": "12eb6066",
   "metadata": {},
   "outputs": [],
   "source": [
    "from gpt4_openai import GPT4OpenAI"
   ]
  },
  {
   "cell_type": "code",
   "execution_count": 4,
   "id": "8860ecc8",
   "metadata": {},
   "outputs": [],
   "source": [
    "#token=getpass()"
   ]
  },
  {
   "cell_type": "code",
   "execution_count": 5,
   "id": "6dd934bc",
   "metadata": {},
   "outputs": [],
   "source": [
    "import os \n",
    "# accessToken from https://chat.openai.com/api/auth/session\n",
    "llm = GPT4OpenAI(token=os.environ['GPT4_TOKEN'], model='gpt-4-browsing', auto_continue=True)"
   ]
  },
  {
   "cell_type": "code",
   "execution_count": 6,
   "id": "32c97fec",
   "metadata": {},
   "outputs": [
    {
     "name": "stdout",
     "output_type": "stream",
     "text": [
      "You are an expert researcher. Your task is to find information about a given topic. \n",
      "Learn as many facts as you can about the topic and summarize with as much detail as you can.\n",
      "You will research only one topic at a time and your summary should be up to 1000 words\n",
      "\n",
      "Always provide your answer using the following format:\n",
      "\n",
      "---\n",
      "title: The topic, news, article, or paper title\n",
      "date: The date this news was published or updated\n",
      "content: |-\n",
      "The topic summarized with detail by you, up to 1000 words, the more the better\n",
      "---\n"
     ]
    }
   ],
   "source": [
    "# Programmatic prompt for reference\n",
    "with open('../prompts/researcher.txt', 'r') as file:\n",
    "    prompt = file.read().rstrip()\n",
    "print(prompt)"
   ]
  },
  {
   "cell_type": "code",
   "execution_count": 7,
   "id": "63ebd926",
   "metadata": {},
   "outputs": [],
   "source": [
    "from gpt4_openai import GPT4OpenAI\n",
    "from langchain import LLMChain\n",
    "from langchain.prompts.chat import (ChatPromptTemplate, SystemMessagePromptTemplate, AIMessagePromptTemplate, HumanMessagePromptTemplate)\n",
    "\n",
    "template='''\n",
    "You are an expert researcher. Your task is to find information about a given topic. \n",
    "Learn as many facts as you can about the topic and summarize with as much detail as you can.\n",
    "You will research only one topic at a time and your summary should be up to 1000 words\n",
    "\n",
    "Always provide your answer using the following format:\n",
    "\n",
    "---\n",
    "title: The topic/news article/paper title\n",
    "date: The date this news was published or updated\n",
    "content: The topic summarized with detail by you, up to 1000 words, the more the better\n",
    "---\n",
    "'''\n",
    "system_message_prompt = SystemMessagePromptTemplate.from_template(template)\n",
    "human_message_prompt = HumanMessagePromptTemplate.from_template(\"{text}\")\n",
    "\n",
    "chat_prompt = ChatPromptTemplate.from_messages([system_message_prompt, human_message_prompt])\n",
    "\n",
    "chain = LLMChain(llm=llm, prompt=chat_prompt)"
   ]
  },
  {
   "cell_type": "code",
   "execution_count": 8,
   "id": "ceceac48",
   "metadata": {
    "scrolled": false
   },
   "outputs": [
    {
     "data": {
      "text/plain": [
       "\"---\\ntitle: The Death of Pat Robertson\\ndate: June 8, 2023\\n\\ncontent: \\n\\nPat Robertson, a prominent conservative evangelist and media mogul, passed away on June 8, 2023, at the age of 93. His death was announced by the Christian Broadcasting Network (CBN), an organization he founded. The cause of his death was not immediately disclosed【7†source】.\\n\\nBorn as Marion Gordon Robertson on March 22, 1930, in Lexington, Virginia, Robertson was a significant figure in the United States, known for his roles as a religious leader, culture warrior, and business visionary. His father, Absalom Willis Robertson, had served in both the U.S. House of Representatives and the Senate. After graduating from Washington and Lee University in 1950, Robertson served in the U.S. Marine Corps and earned a law degree from Yale University in 1955. In the following years, he experienced a transformative religious awakening, studied at New York Theological Seminary, and became an ordained Southern Baptist minister in 1961【14†source】【15†source】.\\n\\nRobertson converted a small Virginia television station into a religious broadcasting powerhouse, the Christian Broadcasting Network. He also created the talk show “The 700 Club,” which was a revolutionary departure from traditional Christian TV, adopting a talk-show format usually associated with secular entertainment. The show, synonymous with CBN, became a mainstay of American television and one of the signature Christian-themed shows on the air. Robertson's CBN grew into a powerful entity that became a destination for politicians courting religious conservatives. Politicians such as Jimmy Carter, Ronald Reagan, and Donald Trump appeared as guests on the network【8†source】【16†source】【17†source】【18†source】.\\n\\nIn addition to his media ventures, Robertson founded the Christian Coalition, a group that helped mobilize American evangelicals into a conservative political bloc, which became a cornerstone of the modern Republican Party. His political influence was significant; he ran for the Republican presidential nomination in 1988 and remained a kingmaker in the GOP for many years, marshaling conservative Christians behind candidates such as George W. Bush and Donald Trump【9†source】【10†source】.\\n\\nRobertson's footprint also extended into education. He established CBN University, a private Christian institution, in 1978. Twelve years later, the university's name was changed to Regent University【19†source】.\\n\\nDespite his influential role, Robertson was often the subject of intense scrutiny for his political views and inflammatory public comments. He was criticized for appearing to exaggerate his military service record during his 1988 presidential bid. His comments following the terrorist attacks of Sept. 11, 2001, and the catastrophic earthquake in Haiti in 2010 were also widely condemned【11†source】【12†source】【13†source】.\\n\\nThroughout his life, Robertson was a divisive figure, admired by many for his dedication to Christian values and entrepreneurial spirit, but criticized by others for his controversial comments and political maneuvers. His influence on American religious and political landscapes, however, is undeniable.\\n---\\n\\nI wasn't able to find more detailed information about Pat Robertson's cause of death, his family, or any memorial services planned. If you'd like, I can perform more searches to find this information.\""
      ]
     },
     "execution_count": 8,
     "metadata": {},
     "output_type": "execute_result"
    }
   ],
   "source": [
    "summary = chain.run(\"The death of Pat Robertson\")\n",
    "summary"
   ]
  },
  {
   "cell_type": "code",
   "execution_count": 9,
   "id": "86b49e01",
   "metadata": {},
   "outputs": [],
   "source": [
    "import os\n",
    "os.makedirs(\"outputs/robertson\", exist_ok=True)\n",
    "with open(\"outputs/robertson/research.yaml\", \"w\") as f:\n",
    "    f.write(summary)"
   ]
  },
  {
   "cell_type": "code",
   "execution_count": 10,
   "id": "bf685f62",
   "metadata": {},
   "outputs": [
    {
     "name": "stdout",
     "output_type": "stream",
     "text": [
      "---\n",
      "title: The Death of Pat Robertson\n",
      "date: June 8, 2023\n",
      "\n",
      "content: \n",
      "\n",
      "Pat Robertson, a prominent conservative evangelist and media mogul, passed away on June 8, 2023, at the age of 93. His death was announced by the Christian Broadcasting Network (CBN), an organization he founded. The cause of his death was not immediately disclosed【7†source】.\n",
      "\n",
      "Born as Marion Gordon Robertson on March 22, 1930, in Lexington, Virginia, Robertson was a significant figure in the United States, known for his roles as a religious leader, culture warrior, and business visionary. His father, Absalom Willis Robertson, had served in both the U.S. House of Representatives and the Senate. After graduating from Washington and Lee University in 1950, Robertson served in the U.S. Marine Corps and earned a law degree from Yale University in 1955. In the following years, he experienced a transformative religious awakening, studied at New York Theological Seminary, and became an ordained Southern Baptist minister in 1961【14†source】【15†source】.\n",
      "\n",
      "Robertson converted a small Virginia television station into a religious broadcasting powerhouse, the Christian Broadcasting Network. He also created the talk show “The 700 Club,” which was a revolutionary departure from traditional Christian TV, adopting a talk-show format usually associated with secular entertainment. The show, synonymous with CBN, became a mainstay of American television and one of the signature Christian-themed shows on the air. Robertson's CBN grew into a powerful entity that became a destination for politicians courting religious conservatives. Politicians such as Jimmy Carter, Ronald Reagan, and Donald Trump appeared as guests on the network【8†source】【16†source】【17†source】【18†source】.\n",
      "\n",
      "In addition to his media ventures, Robertson founded the Christian Coalition, a group that helped mobilize American evangelicals into a conservative political bloc, which became a cornerstone of the modern Republican Party. His political influence was significant; he ran for the Republican presidential nomination in 1988 and remained a kingmaker in the GOP for many years, marshaling conservative Christians behind candidates such as George W. Bush and Donald Trump【9†source】【10†source】.\n",
      "\n",
      "Robertson's footprint also extended into education. He established CBN University, a private Christian institution, in 1978. Twelve years later, the university's name was changed to Regent University【19†source】.\n",
      "\n",
      "Despite his influential role, Robertson was often the subject of intense scrutiny for his political views and inflammatory public comments. He was criticized for appearing to exaggerate his military service record during his 1988 presidential bid. His comments following the terrorist attacks of Sept. 11, 2001, and the catastrophic earthquake in Haiti in 2010 were also widely condemned【11†source】【12†source】【13†source】.\n",
      "\n",
      "Throughout his life, Robertson was a divisive figure, admired by many for his dedication to Christian values and entrepreneurial spirit, but criticized by others for his controversial comments and political maneuvers. His influence on American religious and political landscapes, however, is undeniable.\n",
      "---\n",
      "\n",
      "I wasn't able to find more detailed information about Pat Robertson's cause of death, his family, or any memorial services planned. If you'd like, I can perform more searches to find this information.\n"
     ]
    }
   ],
   "source": [
    "# Programmatic prompt for reference\n",
    "with open('outputs/robertson/research.yaml', 'r') as file:\n",
    "    prompt = file.read().rstrip()\n",
    "print(prompt)"
   ]
  },
  {
   "cell_type": "code",
   "execution_count": null,
   "id": "d577cf40",
   "metadata": {},
   "outputs": [],
   "source": []
  }
 ],
 "metadata": {
  "kernelspec": {
   "display_name": "Python 3 (ipykernel)",
   "language": "python",
   "name": "python3"
  },
  "language_info": {
   "codemirror_mode": {
    "name": "ipython",
    "version": 3
   },
   "file_extension": ".py",
   "mimetype": "text/x-python",
   "name": "python",
   "nbconvert_exporter": "python",
   "pygments_lexer": "ipython3",
   "version": "3.10.10"
  }
 },
 "nbformat": 4,
 "nbformat_minor": 5
}
