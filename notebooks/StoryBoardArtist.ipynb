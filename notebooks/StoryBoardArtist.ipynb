{
 "cells": [
  {
   "cell_type": "markdown",
   "id": "5e81f6a5",
   "metadata": {},
   "source": [
    "### Given a topic research the latest news"
   ]
  },
  {
   "cell_type": "code",
   "execution_count": 18,
   "id": "7ba322a5",
   "metadata": {},
   "outputs": [
    {
     "data": {
      "text/plain": [
       "True"
      ]
     },
     "execution_count": 18,
     "metadata": {},
     "output_type": "execute_result"
    }
   ],
   "source": [
    "from dotenv import load_dotenv\n",
    "load_dotenv()"
   ]
  },
  {
   "cell_type": "code",
   "execution_count": 19,
   "id": "d6c69e6d",
   "metadata": {},
   "outputs": [],
   "source": [
    "import torch\n",
    "from diffusers import StableDiffusionPipeline\n",
    "\n",
    "pipe = StableDiffusionPipeline.from_pretrained(\"dreamlike-art/dreamlike-photoreal-2.0\", torch_dtype=torch.float16)  "
   ]
  },
  {
   "cell_type": "code",
   "execution_count": 20,
   "id": "d016f806",
   "metadata": {},
   "outputs": [],
   "source": [
    "pipe = pipe.to(\"cuda\")"
   ]
  },
  {
   "cell_type": "code",
   "execution_count": 21,
   "id": "a276c2d3",
   "metadata": {},
   "outputs": [
    {
     "name": "stdout",
     "output_type": "stream",
     "text": [
      "A simple, somber room with a portrait of Silvio Berlusconi on the wall. The camera slowly zooms in on the portrait.\n",
      "A montage of clips showcasing Berlusconi's political career and business achievements. Images of newspaper headlines detailing his scandals are interspersed.\n",
      "Footage of lowered flags across Italy and Europe. A crowd gathered for the funeral at Milan Cathedral.\n",
      "A series of photos and clips of world leaders offering tributes.\n",
      "Clips of Berlusconi's center-right party, Forza Italia, and its activities under Giorgia Meloni's leadership. Images of Berlusconi's public appearances before his death.\n"
     ]
    }
   ],
   "source": [
    "with open(\"outputs/silvio/scriptwriter_out.txt\", \"r\") as file:\n",
    "    # Read all lines from the file\n",
    "    lines = file.readlines()\n",
    "\n",
    "# Extract lines starting with \"[Scene\"\n",
    "scene_lines = [line[13:-2].strip() for line in lines if line.startswith(\"[Scene\")]\n",
    "\n",
    "# Print the extracted lines\n",
    "for line in scene_lines:\n",
    "    print(line)\n",
    "    "
   ]
  },
  {
   "cell_type": "code",
   "execution_count": 22,
   "id": "78a44865",
   "metadata": {},
   "outputs": [
    {
     "data": {
      "application/vnd.jupyter.widget-view+json": {
       "model_id": "75b9f04ef7dc406187f4852fe1ae3949",
       "version_major": 2,
       "version_minor": 0
      },
      "text/plain": [
       "  0%|          | 0/50 [00:00<?, ?it/s]"
      ]
     },
     "metadata": {},
     "output_type": "display_data"
    },
    {
     "data": {
      "application/vnd.jupyter.widget-view+json": {
       "model_id": "c1a09cd25b0445ba88dda65539bffe28",
       "version_major": 2,
       "version_minor": 0
      },
      "text/plain": [
       "  0%|          | 0/50 [00:00<?, ?it/s]"
      ]
     },
     "metadata": {},
     "output_type": "display_data"
    },
    {
     "data": {
      "application/vnd.jupyter.widget-view+json": {
       "model_id": "8dde2ebff56c4d52a68cbfdc8a2c4c36",
       "version_major": 2,
       "version_minor": 0
      },
      "text/plain": [
       "  0%|          | 0/50 [00:00<?, ?it/s]"
      ]
     },
     "metadata": {},
     "output_type": "display_data"
    },
    {
     "data": {
      "application/vnd.jupyter.widget-view+json": {
       "model_id": "d2251468ed3647469c828356b11a9ebb",
       "version_major": 2,
       "version_minor": 0
      },
      "text/plain": [
       "  0%|          | 0/50 [00:00<?, ?it/s]"
      ]
     },
     "metadata": {},
     "output_type": "display_data"
    },
    {
     "data": {
      "application/vnd.jupyter.widget-view+json": {
       "model_id": "aaad99456e0b4c85ac45ce9f2fd45301",
       "version_major": 2,
       "version_minor": 0
      },
      "text/plain": [
       "  0%|          | 0/50 [00:00<?, ?it/s]"
      ]
     },
     "metadata": {},
     "output_type": "display_data"
    }
   ],
   "source": [
    "images = []\n",
    "for line in scene_lines:\n",
    "    prompt = line\n",
    "    image = pipe(prompt).images[0]\n",
    "    images.append(image)"
   ]
  },
  {
   "cell_type": "code",
   "execution_count": 23,
   "id": "e1fc7081",
   "metadata": {},
   "outputs": [
    {
     "name": "stdout",
     "output_type": "stream",
     "text": [
      "outputs/silvio/scene_1.png\n",
      "outputs/silvio/scene_2.png\n",
      "outputs/silvio/scene_3.png\n",
      "outputs/silvio/scene_4.png\n",
      "outputs/silvio/scene_5.png\n"
     ]
    }
   ],
   "source": [
    "for k,i in enumerate(images):\n",
    "    name = \"outputs/silvio/scene_{}.png\".format(k+1)\n",
    "    i.save(name)\n",
    "    print(name)"
   ]
  },
  {
   "cell_type": "code",
   "execution_count": null,
   "id": "54e964b5",
   "metadata": {},
   "outputs": [],
   "source": []
  }
 ],
 "metadata": {
  "kernelspec": {
   "display_name": "Python 3 (ipykernel)",
   "language": "python",
   "name": "python3"
  },
  "language_info": {
   "codemirror_mode": {
    "name": "ipython",
    "version": 3
   },
   "file_extension": ".py",
   "mimetype": "text/x-python",
   "name": "python",
   "nbconvert_exporter": "python",
   "pygments_lexer": "ipython3",
   "version": "3.10.10"
  }
 },
 "nbformat": 4,
 "nbformat_minor": 5
}
