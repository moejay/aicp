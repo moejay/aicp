{
 "cells": [
  {
   "cell_type": "markdown",
   "id": "5e81f6a5",
   "metadata": {},
   "source": [
    "### Given a topic research the latest news"
   ]
  },
  {
   "cell_type": "code",
   "execution_count": 28,
   "id": "7ba322a5",
   "metadata": {},
   "outputs": [],
   "source": [
    "import sys\n",
    "sys.path.append('..')\n",
    "\n",
    "from dotenv import load_dotenv\n",
    "load_dotenv()\n",
    "\n",
    "from utils import utils , llms\n"
   ]
  },
  {
   "cell_type": "code",
   "execution_count": 29,
   "id": "a1502a2c",
   "metadata": {},
   "outputs": [
    {
     "data": {
      "text/plain": [
       "[Scene(start_time=None, duration=None, scene_title='Banksy: An Overview and Recent Developments', description='Introduction to Banksy and his mysterious identity, along with a mention of recent developments.', content='Welcome back to our channel, folks! Today, we dive into the captivating world of Banksy, the elusive street artist and activist. Known for his satirical street art and subversive messages, Banksy has been making waves around the globe since the 1990s. Stick around as we explore his remarkable journey and the latest developments in his art.'),\n",
       " Scene(start_time=None, duration=None, scene_title=\"Banksy's Origin and Artistic Style\", description=\"An exploration of Banksy's roots in the Bristol underground scene and his unique artistic style.\", content=\"But first, let's go back to where it all began. Banksy's roots can be traced to the vibrant underground scene in Bristol, England. Collaborating with fellow artists and musicians, Banksy honed his skills and developed a distinctive stenciling technique. His art combines dark humor with powerful social and political commentary. His works have graced walls, streets, and bridges across the world, challenging conventional norms and inspiring countless others.\"),\n",
       " Scene(start_time=None, duration=None, scene_title=\"Banksy's Influence and Mystique\", description=\"Exploring the impact of Banksy's art on the public and the ongoing mystery surrounding his identity.\", content=\"Banksy's thought-provoking art has left an indelible mark on society. By merging street art with biting satire, he has captured the attention of people from all walks of life. Despite his immense popularity, Banksy has managed to keep his true identity shrouded in mystery. Speculations abound, with names like Robin Gunningham and Robert Del Naja surfacing as possible candidates. Yet, the enigma persists, leaving us to wonder who truly lies behind the pseudonym.\"),\n",
       " Scene(start_time=None, duration=None, scene_title=\"Banksy's Film and Recognition\", description=\"Highlighting Banksy's documentary film and his recognition in the film industry.\", content=\"In 2010, Banksy unveiled his documentary film 'Exit Through the Gift Shop' at the prestigious Sundance Film Festival. This eye-opening film delves into the world of street art and its intersection with commercialism. Its critical acclaim earned Banksy a nomination for the Academy Award for Best Documentary Feature. His contributions to the art world were further acknowledged when he was honored as the Person of the Year at the 2014 Webby Awards.\"),\n",
       " Scene(start_time=None, duration=None, scene_title='Recent Developments: Destruction of Artwork', description=\"Discussing the unfortunate demolition of Banksy's recent mural in Herne Bay and the recurring issue of dismantled artworks.\", content=\"Now, let's turn our attention to the recent developments surrounding Banksy. Just a month ago, the artist's mesmerizing mural titled 'Morning is Broken' adorned an outside wall of a derelict farmhouse in Herne Bay, Kent. However, tragedy struck when the site was demolished, leaving no trace of this captivating piece. Sadly, this is not an isolated incident, as Banksy's artworks have faced numerous removals in the past, including one in Margate. The fate of his creations raises questions about the value of public art and its preservation.\"),\n",
       " Scene(start_time=None, duration=None, scene_title=\"Banksy's Philanthropy in Ukraine\", description=\"Highlighting Banksy's involvement in philanthropic projects supporting the people of Ukraine.\", content='Amidst the turmoil in Ukraine following the Russian invasion, Banksy extended his support to the affected communities. In December 2022, he announced the creation of 50 screenprints to be sold, with the proceeds going to a charity supporting the people of Ukraine. Spending time in the country, Banksy engaged with locals and used his art to bring attention to their plight. His efforts remind us of the transformative power of art and its ability to drive positive change.'),\n",
       " Scene(start_time=None, duration=None, scene_title='Conclusion and Channel Identification', description='Wrapping up the episode with a conclusion and a reminder to like, subscribe, and acknowledge the AI operation of the channel.', content=\"And that concludes our journey through the captivating world of Banksy. From his humble beginnings in Bristol to the global phenomenon he is today, Banksy's impact on art and culture cannot be overstated. Remember to like and subscribe to our channel for more fascinating insights. We want to remind you that this channel is fully operated and generated by artificial intelligence, pushing the boundaries of creativity and knowledge. Thank you for watching, mommies. I love you.\")]"
      ]
     },
     "execution_count": 29,
     "metadata": {},
     "output_type": "execute_result"
    }
   ],
   "source": [
    "utils.set_prefix(\"../output/banksy\")\n",
    "scenes = utils.get_scenes()\n",
    "# Extract lines starting with \"[Scene\"\n",
    "scenes"
   ]
  },
  {
   "cell_type": "code",
   "execution_count": 30,
   "id": "d6c69e6d",
   "metadata": {},
   "outputs": [
    {
     "name": "stderr",
     "output_type": "stream",
     "text": [
      "`text_config_dict` is provided which will be used to initialize `CLIPTextConfig`. The value `text_config[\"id2label\"]` will be overriden.\n"
     ]
    }
   ],
   "source": [
    "\n",
    "import torch\n",
    "from diffusers import StableDiffusionPipeline\n",
    "\n",
    "pipeline = StableDiffusionPipeline.from_pretrained(\"SG161222/Realistic_Vision_V2.0\", torch_dtype=torch.float16)  "
   ]
  },
  {
   "cell_type": "code",
   "execution_count": 38,
   "id": "d016f806",
   "metadata": {},
   "outputs": [],
   "source": [
    "pipeline = pipeline.to(\"cuda\")\n",
    "pipeline.enable_xformers_memory_efficient_attention()"
   ]
  },
  {
   "cell_type": "code",
   "execution_count": 39,
   "id": "1b58b568",
   "metadata": {},
   "outputs": [
    {
     "data": {
      "text/plain": [
       "[diffusers.schedulers.scheduling_dpmsolver_multistep.DPMSolverMultistepScheduler,\n",
       " diffusers.schedulers.scheduling_heun_discrete.HeunDiscreteScheduler,\n",
       " diffusers.schedulers.scheduling_k_dpm_2_discrete.KDPM2DiscreteScheduler,\n",
       " diffusers.utils.dummy_torch_and_torchsde_objects.DPMSolverSDEScheduler,\n",
       " diffusers.schedulers.scheduling_lms_discrete.LMSDiscreteScheduler,\n",
       " diffusers.schedulers.scheduling_euler_discrete.EulerDiscreteScheduler,\n",
       " diffusers.schedulers.scheduling_euler_ancestral_discrete.EulerAncestralDiscreteScheduler,\n",
       " diffusers.schedulers.scheduling_unipc_multistep.UniPCMultistepScheduler,\n",
       " diffusers.schedulers.scheduling_pndm.PNDMScheduler,\n",
       " diffusers.schedulers.scheduling_ddpm.DDPMScheduler,\n",
       " diffusers.schedulers.scheduling_k_dpm_2_ancestral_discrete.KDPM2AncestralDiscreteScheduler,\n",
       " diffusers.schedulers.scheduling_ddim.DDIMScheduler,\n",
       " diffusers.schedulers.scheduling_dpmsolver_singlestep.DPMSolverSinglestepScheduler,\n",
       " diffusers.schedulers.scheduling_deis_multistep.DEISMultistepScheduler]"
      ]
     },
     "execution_count": 39,
     "metadata": {},
     "output_type": "execute_result"
    }
   ],
   "source": [
    "pipeline.scheduler.compatibles"
   ]
  },
  {
   "cell_type": "code",
   "execution_count": 40,
   "id": "b73d9bbd",
   "metadata": {},
   "outputs": [],
   "source": [
    "from diffusers import DPMSolverMultistepScheduler\n",
    "\n",
    "pipeline.scheduler = DPMSolverMultistepScheduler.from_config(pipeline.scheduler.config)"
   ]
  },
  {
   "cell_type": "code",
   "execution_count": 41,
   "id": "07844b3b",
   "metadata": {},
   "outputs": [],
   "source": [
    "positive_prompt = \"\"\"\n",
    "(high detailed skin:1.2, high quality, reportage, journalism),\n",
    "8k uhd, dslr, soft lighting, film grain, Fujifilm XT3\n",
    "\"\"\"\n",
    "\n",
    "negative_prompt=\"\"\"\n",
    "((text:1.5, deformed iris, deformed pupils, deformed hands, nsfw)),\n",
    "((semi-realistic, cgi, 3d, render, sketch, cartoon, drawing, anime:1.4)),\n",
    "close up, cropped, out of frame, worst quality, low quality, jpeg artifacts, ugly, duplicate,\n",
    "morbid, mutilated, extra fingers, mutated hands, poorly drawn hands, poorly drawn face, mutation,\n",
    "deformed, blurry, burns, dehydrated, bad anatomy, bad proportions, extra limbs, cloned face, disfigured,\n",
    "gross proportions, malformed limbs, missing arms, missing legs, extra arms, extra legs,\n",
    "fused fingers, too many fingers, long neck\n",
    "\"\"\""
   ]
  },
  {
   "cell_type": "code",
   "execution_count": 34,
   "id": "19718c60",
   "metadata": {
    "scrolled": true
   },
   "outputs": [
    {
     "data": {
      "text/plain": [
       "[{'sentence': '\"Ladies and gentlemen, welcome back to our exceptional channel!',\n",
       "  'duration': 8},\n",
       " {'sentence': 'Today, we embark on a captivating journey into the enigmatic world of Banksy, the illustrious street artist and activist.',\n",
       "  'duration': 15},\n",
       " {'sentence': 'Known far and wide for his satirical street art and subversive messages, Banksy has been causing quite the stir across the globe since the 1990s.',\n",
       "  'duration': 14},\n",
       " {'sentence': 'So, stick around as we delve deep into his extraordinary voyage and uncover the latest developments in his artistic endeavors.\"',\n",
       "  'duration': 14},\n",
       " {'sentence': '\"But first, let us transport ourselves back to where it all began.',\n",
       "  'duration': 7},\n",
       " {'sentence': \"Banksy's roots can be traced to the vibrant underground scene in Bristol, England.\",\n",
       "  'duration': 9},\n",
       " {'sentence': 'Collaborating with fellow artists and musicians, Banksy honed his skills and crafted a distinctive stenciling technique.',\n",
       "  'duration': 13},\n",
       " {'sentence': 'His art seamlessly combines dark humor with potent social and political commentary.',\n",
       "  'duration': 14},\n",
       " {'sentence': 'From walls to streets and bridges, his works have left an indelible mark, challenging societal norms and inspiring countless souls.\"',\n",
       "  'duration': 14},\n",
       " {'sentence': '\"Banksy\\'s thought-provoking art has undeniably made waves in society.',\n",
       "  'duration': 7},\n",
       " {'sentence': 'By merging street art with biting satire, he has captured the attention of people from all walks of life.',\n",
       "  'duration': 13},\n",
       " {'sentence': 'Despite his immense popularity, Banksy remains an enigma, skillfully concealing his true identity.',\n",
       "  'duration': 14},\n",
       " {'sentence': 'Speculations abound, with names like Robin Gunningham and Robert Del Naja surfacing as possible candidates.',\n",
       "  'duration': 12},\n",
       " {'sentence': 'Yet, the mystery persists, leaving us pondering the true face behind the pseudonym.\"',\n",
       "  'duration': 14},\n",
       " {'sentence': '\"In the year 2010, Banksy unveiled his extraordinary documentary film \\'Exit Through the Gift Shop\\' at the esteemed Sundance Film Festival.',\n",
       "  'duration': 14},\n",
       " {'sentence': 'This eye-opening masterpiece delves deep into the world of street art and its complex relationship with commercialism.',\n",
       "  'duration': 14},\n",
       " {'sentence': 'The film garnered critical acclaim, earning Banksy a nomination for the esteemed Academy Award for Best Documentary Feature.',\n",
       "  'duration': 13},\n",
       " {'sentence': 'Further recognition followed as he was honored as the Person of the Year at the 2014 Webby Awards, solidifying his contributions to the art world.\"',\n",
       "  'duration': 14},\n",
       " {'sentence': '\"Now, let us turn our attention to the recent events surrounding the brilliant Banksy.',\n",
       "  'duration': 10},\n",
       " {'sentence': \"Just a mere month ago, a mesmerizing mural titled 'Morning is Broken' adorned the weathered wall of a forsaken farmhouse in Herne Bay, Kent.\",\n",
       "  'duration': 14},\n",
       " {'sentence': 'Tragically, this captivating piece met its demise when the site was demolished, leaving no trace behind.',\n",
       "  'duration': 14},\n",
       " {'sentence': \"Sadly, this is not an isolated incident, as Banksy's artworks have faced numerous removals in the past, including one in Margate.\",\n",
       "  'duration': 13},\n",
       " {'sentence': 'The fate of his creations raises poignant questions about the value of public art and its preservation.\"',\n",
       "  'duration': 11},\n",
       " {'sentence': '\"Amidst the turmoil in Ukraine following the Russian invasion, Banksy extended his unwavering support to the affected communities.',\n",
       "  'duration': 14},\n",
       " {'sentence': 'In December 2022, he made a remarkable announcement, creating 50 exquisite screenprints to be sold, with all proceeds going to a charity dedicated to aiding the people of Ukraine.',\n",
       "  'duration': 15},\n",
       " {'sentence': \"Immerse in the country's atmosphere, Banksy engaged with locals, utilizing his art to shed light on their plight.\",\n",
       "  'duration': 13},\n",
       " {'sentence': 'His tireless efforts serve as a powerful reminder of the transformative force that art possesses and its profound ability to drive positive change.\"',\n",
       "  'duration': 14},\n",
       " {'sentence': '\"And that, my dear mommies, concludes our enthralling journey through the captivating world of Banksy.',\n",
       "  'duration': 11},\n",
       " {'sentence': \"From his humble beginnings in Bristol to the global phenomenon he has become today, Banksy's indelible impact on the realms of art and culture cannot be overstated.\",\n",
       "  'duration': 15},\n",
       " {'sentence': \"Don't forget to like and subscribe to our extraordinary channel for more intriguing insights.\",\n",
       "  'duration': 13},\n",
       " {'sentence': 'Remember, this channel is operated and generated by artificial intelligence, pushing the boundaries of creativity and knowledge.',\n",
       "  'duration': 13},\n",
       " {'sentence': 'Thank you for watching, my beloved mommies.', 'duration': 4},\n",
       " {'sentence': 'I hold you dear to my heart.\"', 'duration': 5}]"
      ]
     },
     "execution_count": 34,
     "metadata": {},
     "output_type": "execute_result"
    }
   ],
   "source": [
    "import json\n",
    "sentences_durations = json.loads(open(utils.VOICEOVER_SENTENCES_DURATIONS).read())\n",
    "sentences_durations"
   ]
  },
  {
   "cell_type": "code",
   "execution_count": 35,
   "id": "3537a0ba",
   "metadata": {},
   "outputs": [],
   "source": [
    "## LLM To create thumbnail prompt from scenes\n",
    "from langchain import LLMChain\n",
    "from langchain.prompts.chat import (ChatPromptTemplate, SystemMessagePromptTemplate, AIMessagePromptTemplate, HumanMessagePromptTemplate)\n",
    "from langchain.chat_models import ChatOpenAI\n",
    "\n",
    "template=\"\"\"\n",
    "You are a creative artist, who will generate prompts for a text-to-image model Stable Diffusion for the human.\n",
    "who will provide you with a JSON containing an array of objects of \"sentence\"\n",
    "\n",
    "Your task is to return the same json containing an additional \"prompt\" that describes an image that would\n",
    "be most suitable for the corresponding \"sentence\".\n",
    "Regardless of the sentence, make sure you stay on topic, and always remember the general context of the text provided\n",
    "\"\"\"\n",
    "system_message_prompt = SystemMessagePromptTemplate.from_template(template)\n",
    "human_message_prompt = HumanMessagePromptTemplate.from_template(\"{text}\")\n",
    "\n",
    "chat_prompt = ChatPromptTemplate.from_messages([system_message_prompt, human_message_prompt])"
   ]
  },
  {
   "cell_type": "code",
   "execution_count": 36,
   "id": "6c0b87f6",
   "metadata": {},
   "outputs": [
    {
     "data": {
      "text/plain": [
       "'[{\"sentence\": \"\\\\\"Ladies and gentlemen, welcome back to our exceptional channel!\", \"duration\": 8, \"prompt\": \"An image of a crowd of people eagerly awaiting the start of a captivating show.\"}, {\"sentence\": \"Today, we embark on a captivating journey into the enigmatic world of Banksy, the illustrious street artist and activist.\", \"duration\": 15, \"prompt\": \"An image of a mysterious figure in a hoodie creating a thought-provoking mural on a city wall.\"}, {\"sentence\": \"Known far and wide for his satirical street art and subversive messages, Banksy has been causing quite the stir across the globe since the 1990s.\", \"duration\": 14, \"prompt\": \"An image of a controversial Banksy artwork displayed prominently in a public space, attracting a crowd of onlookers.\"}, {\"sentence\": \"So, stick around as we delve deep into his extraordinary voyage and uncover the latest developments in his artistic endeavors.\\\\\"\", \"duration\": 14, \"prompt\": \"An image of a map with a path leading to various locations where Banksy\\'s artworks are hidden or displayed.\"}, {\"sentence\": \"\\\\\"But first, let us transport ourselves back to where it all began.\", \"duration\": 7, \"prompt\": \"An image of a vibrant street in Bristol, England, adorned with colorful graffiti and street art.\"}, {\"sentence\": \"Banksy\\'s roots can be traced to the vibrant underground scene in Bristol, England.\", \"duration\": 9, \"prompt\": \"An image of a group of young artists collaborating and experimenting with different art forms in a warehouse.\"}, {\"sentence\": \"Collaborating with fellow artists and musicians, Banksy honed his skills and crafted a distinctive stenciling technique.\", \"duration\": 13, \"prompt\": \"An image of Banksy working alongside other artists, spray painting a large mural on a wall.\"}, {\"sentence\": \"His art seamlessly combines dark humor with potent social and political commentary.\", \"duration\": 14, \"prompt\": \"An image of a thought-provoking Banksy artwork featuring a clever juxtaposition of humor and social commentary.\"}, {\"sentence\": \"From walls to streets and bridges, his works have left an indelible mark, challenging societal norms and inspiring countless souls.\\\\\"\", \"duration\": 14, \"prompt\": \"An image of a cityscape adorned with multiple Banksy artworks, each conveying a powerful message.\"}, {\"sentence\": \"\\\\\"Banksy\\'s thought-provoking art has undeniably made waves in society.\", \"duration\": 7, \"prompt\": \"An image of a crowded art exhibition showcasing various Banksy artworks, with people engaged in deep conversations.\"}, {\"sentence\": \"By merging street art with biting satire, he has captured the attention of people from all walks of life.\", \"duration\": 13, \"prompt\": \"An image of a diverse group of individuals, ranging from politicians to street performers, all captivated by a Banksy artwork.\"}, {\"sentence\": \"Despite his immense popularity, Banksy remains an enigma, skillfully concealing his true identity.\", \"duration\": 14, \"prompt\": \"An image of a shadowy figure wearing a hoodie and a mask, standing next to a freshly painted Banksy artwork.\"}, {\"sentence\": \"Speculations abound, with names like Robin Gunningham and Robert Del Naja surfacing as possible candidates.\", \"duration\": 12, \"prompt\": \"An image of a detective board with strings connecting various clues and names, all leading to the identity of Banksy.\"}, {\"sentence\": \"Yet, the mystery persists, leaving us pondering the true face behind the pseudonym.\\\\\"\", \"duration\": 14, \"prompt\": \"An image of a spray-painted stencil of Banksy\\'s iconic rat symbol, representing the elusive nature of his identity.\"}, {\"sentence\": \"\\\\\"In the year 2010, Banksy unveiled his extraordinary documentary film \\'Exit Through the Gift Shop\\' at the esteemed Sundance Film Festival.\", \"duration\": 14, \"prompt\": \"An image of a movie theater marquee displaying the title \\'Exit Through the Gift Shop\\', with a long queue of people waiting to watch the documentary.\"}, {\"sentence\": \"This eye-opening masterpiece delves deep into the world of street art and its complex relationship with commercialism.\", \"duration\": 14, \"prompt\": \"An image of a gallery space filled with Banksy-inspired artworks, each exploring the theme of commercialism.\"}, {\"sentence\": \"The film garnered critical acclaim, earning Banksy a nomination for the esteemed Academy Award for Best Documentary Feature.\", \"duration\": 13, \"prompt\": \"An image of a red carpet event with Banksy holding a golden Oscar statue, surrounded by photographers and fans.\"}, {\"sentence\": \"Further recognition followed as he was honored as the Person of the Year at the 2014 Webby Awards, solidifying his contributions to the art world.\\\\\"\", \"duration\": 14, \"prompt\": \"An image of Banksy receiving a prestigious award on a grand stage, with a cheering audience in the background.\"}, {\"sentence\": \"\\\\\"Now, let us turn our attention to the recent events surrounding the brilliant Banksy.\", \"duration\": 10, \"prompt\": \"An image of a newspaper with the headline \\'Banksy\\'s Latest Artwork Sparks Controversy\\' and a close-up of the artwork in question.\"}, {\"sentence\": \"Just a mere month ago, a mesmerizing mural titled \\'Morning is Broken\\' adorned the weathered wall of a forsaken farmhouse in Herne Bay, Kent.\", \"duration\": 14, \"prompt\": \"An image of the \\'Morning is Broken\\' mural, depicting a serene countryside scene with a twist of surrealism.\"}, {\"sentence\": \"Tragically, this captivating piece met its demise when the site was demolished, leaving no trace behind.\", \"duration\": 14, \"prompt\": \"An image of a bulldozer tearing down a building, with the \\'Morning is Broken\\' mural fading away in the background.\"}, {\"sentence\": \"Sadly, this is not an isolated incident, as Banksy\\'s artworks have faced numerous removals in the past, including one in Margate.\", \"duration\": 13, \"prompt\": \"An image of a gallery space filled with empty frames, symbolizing the absence of Banksy\\'s artworks that have been removed or destroyed.\"}, {\"sentence\": \"The fate of his creations raises poignant questions about the value of public art and its preservation.\\\\\"\", \"duration\": 11, \"prompt\": \"An image of a crowd of protesters holding signs that say \\'Preserve Public Art\\' and \\'Save Banksy\\' in front of a building.\"}, {\"sentence\": \"\\\\\"Amidst the turmoil in Ukraine following the Russian invasion, Banksy extended his unwavering support to the affected communities.\", \"duration\": 14, \"prompt\": \"An image of a mural in Ukraine created by Banksy, featuring symbols of resilience and solidarity.\"}, {\"sentence\": \"In December 2022, he made a remarkable announcement, creating 50 exquisite screenprints to be sold, with all proceeds going to a charity dedicated to aiding the people of Ukraine.\", \"duration\": 15, \"prompt\": \"An image of a gallery exhibition showcasing the 50 screenprints created by Banksy, with people bidding on them to support the charity.\"}, {\"sentence\": \"Immerse in the country\\'s atmosphere, Banksy engaged with locals, utilizing his art to shed light on their plight.\", \"duration\": 13, \"prompt\": \"An image of Banksy painting a mural on a war-torn building in Ukraine, surrounded by locals who are watching in awe.\"}, {\"sentence\": \"His tireless efforts serve as a powerful reminder of the transformative force that art possesses and its profound ability to drive positive change.\\\\\"\", \"duration\": 14, \"prompt\": \"An image of a vibrant mural created by Banksy, portraying hope, resilience, and unity in the face of adversity.\"}, {\"sentence\": \"\\\\\"And that, my dear mommies, concludes our enthralling journey through the captivating world of Banksy.\", \"duration\": 11, \"prompt\": \"An image of a host bidding farewell to the audience, with a montage of various Banksy artworks displayed on the screen.\"}, {\"sentence\": \"From his humble beginnings in Bristol to the global phenomenon he has become today, Banksy\\'s indelible impact on the realms of art and culture cannot be overstated.\", \"duration\": 15, \"prompt\": \"An image of a large mural depicting the evolution of Banksy\\'s art, from his early works in Bristol to his global recognition.\"}, {\"sentence\": \"Don\\'t forget to like and subscribe to our extraordinary channel for more intriguing insights.\", \"duration\": 13, \"prompt\": \"An image of a computer or smartphone screen displaying a YouTube video thumbnail with the title \\'Exploring Banksy\\'s Artistic Journey\\' and a play button.\"}, {\"sentence\": \"Remember, this channel is operated and generated by artificial intelligence, pushing the boundaries of creativity and knowledge.\", \"duration\": 13, \"prompt\": \"An image of a futuristic robot artist creating a mural on a wall, symbolizing the merging of technology and art.\"}, {\"sentence\": \"Thank you for watching, my beloved mommies.\", \"duration\": 4, \"prompt\": \"An image of a host waving goodbye to the camera, surrounded by virtual hearts and emojis.\"}, {\"sentence\": \"I hold you dear to my heart.\\\\\"\", \"duration\": 5, \"prompt\": \"An image of a heart-shaped stencil with the word \\'Love\\' in the style of Banksy\\'s signature graffiti.\"}]'"
      ]
     },
     "execution_count": 36,
     "metadata": {},
     "output_type": "execute_result"
    }
   ],
   "source": [
    "chain = LLMChain(llm=ChatOpenAI(temperature=0.7, model=\"gpt-3.5-turbo\"), prompt=chat_prompt)\n",
    "prompts_raw = chain.run(json.dumps(sentences_durations))\n",
    "prompts_raw"
   ]
  },
  {
   "cell_type": "code",
   "execution_count": 42,
   "id": "78a44865",
   "metadata": {},
   "outputs": [
    {
     "data": {
      "application/vnd.jupyter.widget-view+json": {
       "model_id": "d154f3be28cd4b0499e73b86c5b10509",
       "version_major": 2,
       "version_minor": 0
      },
      "text/plain": [
       "  0%|          | 0/50 [00:00<?, ?it/s]"
      ]
     },
     "metadata": {},
     "output_type": "display_data"
    },
    {
     "data": {
      "application/vnd.jupyter.widget-view+json": {
       "model_id": "2649094f386f40a78db2ccd43d6abe97",
       "version_major": 2,
       "version_minor": 0
      },
      "text/plain": [
       "  0%|          | 0/50 [00:00<?, ?it/s]"
      ]
     },
     "metadata": {},
     "output_type": "display_data"
    },
    {
     "data": {
      "application/vnd.jupyter.widget-view+json": {
       "model_id": "d694233fae4b4da494d49e5061e188cb",
       "version_major": 2,
       "version_minor": 0
      },
      "text/plain": [
       "  0%|          | 0/50 [00:00<?, ?it/s]"
      ]
     },
     "metadata": {},
     "output_type": "display_data"
    },
    {
     "data": {
      "application/vnd.jupyter.widget-view+json": {
       "model_id": "daf54f3485574cef95e02680471c36af",
       "version_major": 2,
       "version_minor": 0
      },
      "text/plain": [
       "  0%|          | 0/50 [00:00<?, ?it/s]"
      ]
     },
     "metadata": {},
     "output_type": "display_data"
    },
    {
     "data": {
      "application/vnd.jupyter.widget-view+json": {
       "model_id": "ac853b2d611740e1a7799fa175662b12",
       "version_major": 2,
       "version_minor": 0
      },
      "text/plain": [
       "  0%|          | 0/50 [00:00<?, ?it/s]"
      ]
     },
     "metadata": {},
     "output_type": "display_data"
    },
    {
     "data": {
      "application/vnd.jupyter.widget-view+json": {
       "model_id": "9c679265915f44d8adf2f79b727dea69",
       "version_major": 2,
       "version_minor": 0
      },
      "text/plain": [
       "  0%|          | 0/50 [00:00<?, ?it/s]"
      ]
     },
     "metadata": {},
     "output_type": "display_data"
    },
    {
     "data": {
      "application/vnd.jupyter.widget-view+json": {
       "model_id": "4ab54ec472ef40479549f6a3093ee1d0",
       "version_major": 2,
       "version_minor": 0
      },
      "text/plain": [
       "  0%|          | 0/50 [00:00<?, ?it/s]"
      ]
     },
     "metadata": {},
     "output_type": "display_data"
    },
    {
     "data": {
      "application/vnd.jupyter.widget-view+json": {
       "model_id": "bbe775bdbd1848dbad0b55298019de3d",
       "version_major": 2,
       "version_minor": 0
      },
      "text/plain": [
       "  0%|          | 0/50 [00:00<?, ?it/s]"
      ]
     },
     "metadata": {},
     "output_type": "display_data"
    },
    {
     "data": {
      "application/vnd.jupyter.widget-view+json": {
       "model_id": "537f9268028845719856a9019a904733",
       "version_major": 2,
       "version_minor": 0
      },
      "text/plain": [
       "  0%|          | 0/50 [00:00<?, ?it/s]"
      ]
     },
     "metadata": {},
     "output_type": "display_data"
    },
    {
     "data": {
      "application/vnd.jupyter.widget-view+json": {
       "model_id": "4042e47fd1584edbad78aeef1c0cad70",
       "version_major": 2,
       "version_minor": 0
      },
      "text/plain": [
       "  0%|          | 0/50 [00:00<?, ?it/s]"
      ]
     },
     "metadata": {},
     "output_type": "display_data"
    },
    {
     "data": {
      "application/vnd.jupyter.widget-view+json": {
       "model_id": "ce7182a64a3541f98ee7e73922ae7b3f",
       "version_major": 2,
       "version_minor": 0
      },
      "text/plain": [
       "  0%|          | 0/50 [00:00<?, ?it/s]"
      ]
     },
     "metadata": {},
     "output_type": "display_data"
    },
    {
     "data": {
      "application/vnd.jupyter.widget-view+json": {
       "model_id": "c73d56cbf535466199a7742ee3219ba9",
       "version_major": 2,
       "version_minor": 0
      },
      "text/plain": [
       "  0%|          | 0/50 [00:00<?, ?it/s]"
      ]
     },
     "metadata": {},
     "output_type": "display_data"
    },
    {
     "data": {
      "application/vnd.jupyter.widget-view+json": {
       "model_id": "cfc593b2e3f745069e4d86a1f5650b97",
       "version_major": 2,
       "version_minor": 0
      },
      "text/plain": [
       "  0%|          | 0/50 [00:00<?, ?it/s]"
      ]
     },
     "metadata": {},
     "output_type": "display_data"
    },
    {
     "data": {
      "application/vnd.jupyter.widget-view+json": {
       "model_id": "c10af0250b184829bb8de2411b5199fe",
       "version_major": 2,
       "version_minor": 0
      },
      "text/plain": [
       "  0%|          | 0/50 [00:00<?, ?it/s]"
      ]
     },
     "metadata": {},
     "output_type": "display_data"
    },
    {
     "data": {
      "application/vnd.jupyter.widget-view+json": {
       "model_id": "54b29e6a02e044a39b08792a5ac7604d",
       "version_major": 2,
       "version_minor": 0
      },
      "text/plain": [
       "  0%|          | 0/50 [00:00<?, ?it/s]"
      ]
     },
     "metadata": {},
     "output_type": "display_data"
    },
    {
     "data": {
      "application/vnd.jupyter.widget-view+json": {
       "model_id": "6507cd0053d8488c8fd8f418efebd122",
       "version_major": 2,
       "version_minor": 0
      },
      "text/plain": [
       "  0%|          | 0/50 [00:00<?, ?it/s]"
      ]
     },
     "metadata": {},
     "output_type": "display_data"
    },
    {
     "data": {
      "application/vnd.jupyter.widget-view+json": {
       "model_id": "fc5c4b05e35e4d308fc20ce9cc370e13",
       "version_major": 2,
       "version_minor": 0
      },
      "text/plain": [
       "  0%|          | 0/50 [00:00<?, ?it/s]"
      ]
     },
     "metadata": {},
     "output_type": "display_data"
    },
    {
     "data": {
      "application/vnd.jupyter.widget-view+json": {
       "model_id": "1b93b257af9e4e3994975fe2aff0503d",
       "version_major": 2,
       "version_minor": 0
      },
      "text/plain": [
       "  0%|          | 0/50 [00:00<?, ?it/s]"
      ]
     },
     "metadata": {},
     "output_type": "display_data"
    },
    {
     "data": {
      "application/vnd.jupyter.widget-view+json": {
       "model_id": "55e60e87dbd3438ea4da5f4b6f4c34b8",
       "version_major": 2,
       "version_minor": 0
      },
      "text/plain": [
       "  0%|          | 0/50 [00:00<?, ?it/s]"
      ]
     },
     "metadata": {},
     "output_type": "display_data"
    },
    {
     "data": {
      "application/vnd.jupyter.widget-view+json": {
       "model_id": "4cdb94a0175a4b39b1207d9ea5bcd5f8",
       "version_major": 2,
       "version_minor": 0
      },
      "text/plain": [
       "  0%|          | 0/50 [00:00<?, ?it/s]"
      ]
     },
     "metadata": {},
     "output_type": "display_data"
    },
    {
     "data": {
      "application/vnd.jupyter.widget-view+json": {
       "model_id": "ac983cc59c3244e3b1f74e9062a5438e",
       "version_major": 2,
       "version_minor": 0
      },
      "text/plain": [
       "  0%|          | 0/50 [00:00<?, ?it/s]"
      ]
     },
     "metadata": {},
     "output_type": "display_data"
    },
    {
     "data": {
      "application/vnd.jupyter.widget-view+json": {
       "model_id": "96501be24e4f4f00b2c407e69f404f89",
       "version_major": 2,
       "version_minor": 0
      },
      "text/plain": [
       "  0%|          | 0/50 [00:00<?, ?it/s]"
      ]
     },
     "metadata": {},
     "output_type": "display_data"
    },
    {
     "data": {
      "application/vnd.jupyter.widget-view+json": {
       "model_id": "ac00d472dc674f76994df212830921f6",
       "version_major": 2,
       "version_minor": 0
      },
      "text/plain": [
       "  0%|          | 0/50 [00:00<?, ?it/s]"
      ]
     },
     "metadata": {},
     "output_type": "display_data"
    },
    {
     "data": {
      "application/vnd.jupyter.widget-view+json": {
       "model_id": "a38fe1ba6c034e308b06167e1824fe5a",
       "version_major": 2,
       "version_minor": 0
      },
      "text/plain": [
       "  0%|          | 0/50 [00:00<?, ?it/s]"
      ]
     },
     "metadata": {},
     "output_type": "display_data"
    },
    {
     "data": {
      "application/vnd.jupyter.widget-view+json": {
       "model_id": "14e02fa04cfc4427ba957d873f019706",
       "version_major": 2,
       "version_minor": 0
      },
      "text/plain": [
       "  0%|          | 0/50 [00:00<?, ?it/s]"
      ]
     },
     "metadata": {},
     "output_type": "display_data"
    },
    {
     "data": {
      "application/vnd.jupyter.widget-view+json": {
       "model_id": "6b363f3d75ea4f288aa57eeb07906f27",
       "version_major": 2,
       "version_minor": 0
      },
      "text/plain": [
       "  0%|          | 0/50 [00:00<?, ?it/s]"
      ]
     },
     "metadata": {},
     "output_type": "display_data"
    },
    {
     "data": {
      "application/vnd.jupyter.widget-view+json": {
       "model_id": "1a19d30bd88a4ca18f2724e316822df2",
       "version_major": 2,
       "version_minor": 0
      },
      "text/plain": [
       "  0%|          | 0/50 [00:00<?, ?it/s]"
      ]
     },
     "metadata": {},
     "output_type": "display_data"
    },
    {
     "data": {
      "application/vnd.jupyter.widget-view+json": {
       "model_id": "bc5ea05acf2b403da89fe1919a6cd199",
       "version_major": 2,
       "version_minor": 0
      },
      "text/plain": [
       "  0%|          | 0/50 [00:00<?, ?it/s]"
      ]
     },
     "metadata": {},
     "output_type": "display_data"
    },
    {
     "data": {
      "application/vnd.jupyter.widget-view+json": {
       "model_id": "1f4e3193186f426184619a0f2fbaa33b",
       "version_major": 2,
       "version_minor": 0
      },
      "text/plain": [
       "  0%|          | 0/50 [00:00<?, ?it/s]"
      ]
     },
     "metadata": {},
     "output_type": "display_data"
    },
    {
     "data": {
      "application/vnd.jupyter.widget-view+json": {
       "model_id": "8fe40f9085b04d4289de06471f4d2d17",
       "version_major": 2,
       "version_minor": 0
      },
      "text/plain": [
       "  0%|          | 0/50 [00:00<?, ?it/s]"
      ]
     },
     "metadata": {},
     "output_type": "display_data"
    },
    {
     "data": {
      "application/vnd.jupyter.widget-view+json": {
       "model_id": "cf10e6b1bb7649559743152e96a319a7",
       "version_major": 2,
       "version_minor": 0
      },
      "text/plain": [
       "  0%|          | 0/50 [00:00<?, ?it/s]"
      ]
     },
     "metadata": {},
     "output_type": "display_data"
    },
    {
     "data": {
      "application/vnd.jupyter.widget-view+json": {
       "model_id": "b0e073335f3a47dc857f7f2306519a52",
       "version_major": 2,
       "version_minor": 0
      },
      "text/plain": [
       "  0%|          | 0/50 [00:00<?, ?it/s]"
      ]
     },
     "metadata": {},
     "output_type": "display_data"
    },
    {
     "data": {
      "application/vnd.jupyter.widget-view+json": {
       "model_id": "c421246cb6d843b18013d5b434c0421f",
       "version_major": 2,
       "version_minor": 0
      },
      "text/plain": [
       "  0%|          | 0/50 [00:00<?, ?it/s]"
      ]
     },
     "metadata": {},
     "output_type": "display_data"
    }
   ],
   "source": [
    "guidance_scale        = 0.7\n",
    "num_inference_steps   = 50\n",
    "num_images_per_prompt = 3\n",
    "image_height = 512\n",
    "image_width = 768\n",
    "\n",
    "for i,line in enumerate(json.loads(prompts_raw)):\n",
    "    prompt = line[\"prompt\"]\n",
    "    images = pipeline(\n",
    "        prompt=\"{} {}\".format(prompt, positive_prompt),\n",
    "        negative_prompt=negative_prompt,\n",
    "        height=image_height,\n",
    "        width=image_width,\n",
    "        num_images_per_prompt=num_images_per_prompt,\n",
    "        num_inference_steps=num_inference_steps,\n",
    "        #guidance_scale=guidance_scale,\n",
    "    ).images\n",
    "        \n",
    "    for j,image in enumerate(images):\n",
    "        image.save(\"{}/sentence_{}_{}.png\".format(utils.STORYBOARD_PATH, i+1, j+1))"
   ]
  },
  {
   "cell_type": "code",
   "execution_count": 12,
   "id": "54e964b5",
   "metadata": {},
   "outputs": [],
   "source": [
    "# Free GPU memory for upscaler\n",
    "del pipeline\n",
    "del images\n",
    "torch.cuda.empty_cache()"
   ]
  },
  {
   "cell_type": "code",
   "execution_count": 1,
   "id": "35ef9617",
   "metadata": {},
   "outputs": [
    {
     "name": "stderr",
     "output_type": "stream",
     "text": [
      "text_encoder/model.safetensors not found\n"
     ]
    }
   ],
   "source": [
    "from PIL import Image\n",
    "from diffusers import StableDiffusionUpscalePipeline\n",
    "\n",
    "import torch\n",
    "\n",
    "pipeline = StableDiffusionUpscalePipeline.from_pretrained(\n",
    "    \"stabilityai/stable-diffusion-x4-upscaler\",\n",
    "    revision=\"fp16\",\n",
    "    torch_dtype=torch.float16\n",
    ")"
   ]
  },
  {
   "cell_type": "code",
   "execution_count": 2,
   "id": "b8bfedca",
   "metadata": {},
   "outputs": [],
   "source": [
    "from xformers.ops import MemoryEfficientAttentionFlashAttentionOp\n",
    "\n",
    "pipeline = pipeline.to(\"cuda\")\n",
    "pipeline.enable_xformers_memory_efficient_attention(attention_op=MemoryEfficientAttentionFlashAttentionOp)\n",
    "# Workaround for not accepting attention shape using VAE for Flash Attention\n",
    "pipeline.vae.enable_xformers_memory_efficient_attention(attention_op=None)"
   ]
  },
  {
   "cell_type": "code",
   "execution_count": 3,
   "id": "1ae09c66",
   "metadata": {},
   "outputs": [
    {
     "data": {
      "text/plain": [
       "[diffusers.schedulers.scheduling_k_dpm_2_discrete.KDPM2DiscreteScheduler,\n",
       " diffusers.schedulers.scheduling_dpmsolver_multistep.DPMSolverMultistepScheduler,\n",
       " diffusers.schedulers.scheduling_ddim.DDIMScheduler,\n",
       " diffusers.schedulers.scheduling_lms_discrete.LMSDiscreteScheduler,\n",
       " diffusers.schedulers.scheduling_ddpm.DDPMScheduler,\n",
       " diffusers.schedulers.scheduling_pndm.PNDMScheduler,\n",
       " diffusers.schedulers.scheduling_dpmsolver_singlestep.DPMSolverSinglestepScheduler,\n",
       " diffusers.schedulers.scheduling_deis_multistep.DEISMultistepScheduler,\n",
       " diffusers.schedulers.scheduling_unipc_multistep.UniPCMultistepScheduler,\n",
       " diffusers.utils.dummy_torch_and_torchsde_objects.DPMSolverSDEScheduler,\n",
       " diffusers.schedulers.scheduling_euler_discrete.EulerDiscreteScheduler,\n",
       " diffusers.schedulers.scheduling_k_dpm_2_ancestral_discrete.KDPM2AncestralDiscreteScheduler,\n",
       " diffusers.schedulers.scheduling_euler_ancestral_discrete.EulerAncestralDiscreteScheduler,\n",
       " diffusers.schedulers.scheduling_heun_discrete.HeunDiscreteScheduler]"
      ]
     },
     "execution_count": 3,
     "metadata": {},
     "output_type": "execute_result"
    }
   ],
   "source": [
    "pipeline.scheduler.compatibles"
   ]
  },
  {
   "cell_type": "code",
   "execution_count": 4,
   "id": "c580e249",
   "metadata": {},
   "outputs": [],
   "source": [
    "from diffusers import DPMSolverMultistepScheduler\n",
    "\n",
    "pipeline.scheduler = DPMSolverMultistepScheduler.from_config(pipeline.scheduler.config)"
   ]
  },
  {
   "cell_type": "code",
   "execution_count": 12,
   "id": "8ce36e39",
   "metadata": {},
   "outputs": [
    {
     "data": {
      "application/vnd.jupyter.widget-view+json": {
       "model_id": "7abfcd5e1d5d4235843f97598c38ab5e",
       "version_major": 2,
       "version_minor": 0
      },
      "text/plain": [
       "  0%|          | 0/20 [00:00<?, ?it/s]"
      ]
     },
     "metadata": {},
     "output_type": "display_data"
    },
    {
     "data": {
      "application/vnd.jupyter.widget-view+json": {
       "model_id": "16a41a2458c0442bba7a479d8f7cb38f",
       "version_major": 2,
       "version_minor": 0
      },
      "text/plain": [
       "  0%|          | 0/20 [00:00<?, ?it/s]"
      ]
     },
     "metadata": {},
     "output_type": "display_data"
    },
    {
     "data": {
      "application/vnd.jupyter.widget-view+json": {
       "model_id": "13f3dc81701244c9b1d0bdbb00f1d45c",
       "version_major": 2,
       "version_minor": 0
      },
      "text/plain": [
       "  0%|          | 0/20 [00:00<?, ?it/s]"
      ]
     },
     "metadata": {},
     "output_type": "display_data"
    },
    {
     "data": {
      "application/vnd.jupyter.widget-view+json": {
       "model_id": "dd791bbbff874fb996ce625fceb23d69",
       "version_major": 2,
       "version_minor": 0
      },
      "text/plain": [
       "  0%|          | 0/20 [00:00<?, ?it/s]"
      ]
     },
     "metadata": {},
     "output_type": "display_data"
    },
    {
     "data": {
      "application/vnd.jupyter.widget-view+json": {
       "model_id": "64653cbf6a524829af994f634e9b8205",
       "version_major": 2,
       "version_minor": 0
      },
      "text/plain": [
       "  0%|          | 0/20 [00:00<?, ?it/s]"
      ]
     },
     "metadata": {},
     "output_type": "display_data"
    },
    {
     "data": {
      "application/vnd.jupyter.widget-view+json": {
       "model_id": "541e2f41ddbc4a21b48f0f7bd0b2c629",
       "version_major": 2,
       "version_minor": 0
      },
      "text/plain": [
       "  0%|          | 0/20 [00:00<?, ?it/s]"
      ]
     },
     "metadata": {},
     "output_type": "display_data"
    },
    {
     "data": {
      "application/vnd.jupyter.widget-view+json": {
       "model_id": "53745c50970242b6916bbdd7aeece57b",
       "version_major": 2,
       "version_minor": 0
      },
      "text/plain": [
       "  0%|          | 0/20 [00:00<?, ?it/s]"
      ]
     },
     "metadata": {},
     "output_type": "display_data"
    },
    {
     "data": {
      "application/vnd.jupyter.widget-view+json": {
       "model_id": "f8031a708b86419e8f7d4d545ac9853a",
       "version_major": 2,
       "version_minor": 0
      },
      "text/plain": [
       "  0%|          | 0/20 [00:00<?, ?it/s]"
      ]
     },
     "metadata": {},
     "output_type": "display_data"
    },
    {
     "data": {
      "application/vnd.jupyter.widget-view+json": {
       "model_id": "59b31ce562af456dbac359bc25e6b6b8",
       "version_major": 2,
       "version_minor": 0
      },
      "text/plain": [
       "  0%|          | 0/20 [00:00<?, ?it/s]"
      ]
     },
     "metadata": {},
     "output_type": "display_data"
    },
    {
     "data": {
      "application/vnd.jupyter.widget-view+json": {
       "model_id": "7ab6f9fe48d94502a8662fb3c68b5185",
       "version_major": 2,
       "version_minor": 0
      },
      "text/plain": [
       "  0%|          | 0/20 [00:00<?, ?it/s]"
      ]
     },
     "metadata": {},
     "output_type": "display_data"
    },
    {
     "data": {
      "application/vnd.jupyter.widget-view+json": {
       "model_id": "501c8a8c2a054d368c5482ab0237233a",
       "version_major": 2,
       "version_minor": 0
      },
      "text/plain": [
       "  0%|          | 0/20 [00:00<?, ?it/s]"
      ]
     },
     "metadata": {},
     "output_type": "display_data"
    },
    {
     "data": {
      "application/vnd.jupyter.widget-view+json": {
       "model_id": "003d652951714a30838764482c9879c5",
       "version_major": 2,
       "version_minor": 0
      },
      "text/plain": [
       "  0%|          | 0/20 [00:00<?, ?it/s]"
      ]
     },
     "metadata": {},
     "output_type": "display_data"
    },
    {
     "data": {
      "application/vnd.jupyter.widget-view+json": {
       "model_id": "037624c8f35d481184c6c574f4e009d2",
       "version_major": 2,
       "version_minor": 0
      },
      "text/plain": [
       "  0%|          | 0/20 [00:00<?, ?it/s]"
      ]
     },
     "metadata": {},
     "output_type": "display_data"
    },
    {
     "data": {
      "application/vnd.jupyter.widget-view+json": {
       "model_id": "94151037c5a946b0b9317cf8a529b701",
       "version_major": 2,
       "version_minor": 0
      },
      "text/plain": [
       "  0%|          | 0/20 [00:00<?, ?it/s]"
      ]
     },
     "metadata": {},
     "output_type": "display_data"
    },
    {
     "data": {
      "application/vnd.jupyter.widget-view+json": {
       "model_id": "118990165e9446e99765485cdbcdc0ca",
       "version_major": 2,
       "version_minor": 0
      },
      "text/plain": [
       "  0%|          | 0/20 [00:00<?, ?it/s]"
      ]
     },
     "metadata": {},
     "output_type": "display_data"
    },
    {
     "data": {
      "application/vnd.jupyter.widget-view+json": {
       "model_id": "4f7a415ab24d41dfb45598188e7017d2",
       "version_major": 2,
       "version_minor": 0
      },
      "text/plain": [
       "  0%|          | 0/20 [00:00<?, ?it/s]"
      ]
     },
     "metadata": {},
     "output_type": "display_data"
    },
    {
     "data": {
      "application/vnd.jupyter.widget-view+json": {
       "model_id": "ae16af3e732c4cdd9f0fcb3aaf312a4a",
       "version_major": 2,
       "version_minor": 0
      },
      "text/plain": [
       "  0%|          | 0/20 [00:00<?, ?it/s]"
      ]
     },
     "metadata": {},
     "output_type": "display_data"
    },
    {
     "data": {
      "application/vnd.jupyter.widget-view+json": {
       "model_id": "7b4b1502a2e94e51b2ec761991fe35af",
       "version_major": 2,
       "version_minor": 0
      },
      "text/plain": [
       "  0%|          | 0/20 [00:00<?, ?it/s]"
      ]
     },
     "metadata": {},
     "output_type": "display_data"
    },
    {
     "data": {
      "application/vnd.jupyter.widget-view+json": {
       "model_id": "e8b1ae4c6e794cb8b28fe7e7ec9815a6",
       "version_major": 2,
       "version_minor": 0
      },
      "text/plain": [
       "  0%|          | 0/20 [00:00<?, ?it/s]"
      ]
     },
     "metadata": {},
     "output_type": "display_data"
    },
    {
     "data": {
      "application/vnd.jupyter.widget-view+json": {
       "model_id": "d27101cdae6342d48499c498b2ec1ebb",
       "version_major": 2,
       "version_minor": 0
      },
      "text/plain": [
       "  0%|          | 0/20 [00:00<?, ?it/s]"
      ]
     },
     "metadata": {},
     "output_type": "display_data"
    },
    {
     "data": {
      "application/vnd.jupyter.widget-view+json": {
       "model_id": "6027f83d397a40ef987366feacb0d63c",
       "version_major": 2,
       "version_minor": 0
      },
      "text/plain": [
       "  0%|          | 0/20 [00:00<?, ?it/s]"
      ]
     },
     "metadata": {},
     "output_type": "display_data"
    },
    {
     "data": {
      "application/vnd.jupyter.widget-view+json": {
       "model_id": "d0bb55717a0242cfa10795b95f129c7f",
       "version_major": 2,
       "version_minor": 0
      },
      "text/plain": [
       "  0%|          | 0/20 [00:00<?, ?it/s]"
      ]
     },
     "metadata": {},
     "output_type": "display_data"
    },
    {
     "data": {
      "application/vnd.jupyter.widget-view+json": {
       "model_id": "f375b5d778304a9cb170d840e001a029",
       "version_major": 2,
       "version_minor": 0
      },
      "text/plain": [
       "  0%|          | 0/20 [00:00<?, ?it/s]"
      ]
     },
     "metadata": {},
     "output_type": "display_data"
    },
    {
     "data": {
      "application/vnd.jupyter.widget-view+json": {
       "model_id": "36b840a258ed4850988c5c973fd46446",
       "version_major": 2,
       "version_minor": 0
      },
      "text/plain": [
       "  0%|          | 0/20 [00:00<?, ?it/s]"
      ]
     },
     "metadata": {},
     "output_type": "display_data"
    },
    {
     "data": {
      "application/vnd.jupyter.widget-view+json": {
       "model_id": "f5f51c76f0f4481e90f153c57fe72a71",
       "version_major": 2,
       "version_minor": 0
      },
      "text/plain": [
       "  0%|          | 0/20 [00:00<?, ?it/s]"
      ]
     },
     "metadata": {},
     "output_type": "display_data"
    },
    {
     "data": {
      "application/vnd.jupyter.widget-view+json": {
       "model_id": "28aeac74e23b44d6938c17600d0371e8",
       "version_major": 2,
       "version_minor": 0
      },
      "text/plain": [
       "  0%|          | 0/20 [00:00<?, ?it/s]"
      ]
     },
     "metadata": {},
     "output_type": "display_data"
    },
    {
     "data": {
      "application/vnd.jupyter.widget-view+json": {
       "model_id": "9b5b6fab26e14425947852129021328e",
       "version_major": 2,
       "version_minor": 0
      },
      "text/plain": [
       "  0%|          | 0/20 [00:00<?, ?it/s]"
      ]
     },
     "metadata": {},
     "output_type": "display_data"
    },
    {
     "data": {
      "application/vnd.jupyter.widget-view+json": {
       "model_id": "05ae712663734a5cacd04e201f3b9b41",
       "version_major": 2,
       "version_minor": 0
      },
      "text/plain": [
       "  0%|          | 0/20 [00:00<?, ?it/s]"
      ]
     },
     "metadata": {},
     "output_type": "display_data"
    },
    {
     "data": {
      "application/vnd.jupyter.widget-view+json": {
       "model_id": "d3227b32e3b24f40bb311c0d42e46caf",
       "version_major": 2,
       "version_minor": 0
      },
      "text/plain": [
       "  0%|          | 0/20 [00:00<?, ?it/s]"
      ]
     },
     "metadata": {},
     "output_type": "display_data"
    },
    {
     "data": {
      "application/vnd.jupyter.widget-view+json": {
       "model_id": "09e4cf9491614562bafae0b1b5a6bc34",
       "version_major": 2,
       "version_minor": 0
      },
      "text/plain": [
       "  0%|          | 0/20 [00:00<?, ?it/s]"
      ]
     },
     "metadata": {},
     "output_type": "display_data"
    },
    {
     "data": {
      "application/vnd.jupyter.widget-view+json": {
       "model_id": "1d154daf01824ca2a133db44a7f15b66",
       "version_major": 2,
       "version_minor": 0
      },
      "text/plain": [
       "  0%|          | 0/20 [00:00<?, ?it/s]"
      ]
     },
     "metadata": {},
     "output_type": "display_data"
    },
    {
     "data": {
      "application/vnd.jupyter.widget-view+json": {
       "model_id": "92f33f7a8fad48a289d31f83b1e90903",
       "version_major": 2,
       "version_minor": 0
      },
      "text/plain": [
       "  0%|          | 0/20 [00:00<?, ?it/s]"
      ]
     },
     "metadata": {},
     "output_type": "display_data"
    },
    {
     "data": {
      "application/vnd.jupyter.widget-view+json": {
       "model_id": "f94b70992b1d4b4d88200f6f00492391",
       "version_major": 2,
       "version_minor": 0
      },
      "text/plain": [
       "  0%|          | 0/20 [00:00<?, ?it/s]"
      ]
     },
     "metadata": {},
     "output_type": "display_data"
    },
    {
     "data": {
      "application/vnd.jupyter.widget-view+json": {
       "model_id": "0a2b7134e2514b26955058dd05cf03c7",
       "version_major": 2,
       "version_minor": 0
      },
      "text/plain": [
       "  0%|          | 0/20 [00:00<?, ?it/s]"
      ]
     },
     "metadata": {},
     "output_type": "display_data"
    },
    {
     "data": {
      "application/vnd.jupyter.widget-view+json": {
       "model_id": "464c2f263f0c405eaf0a2d5a9d74ec88",
       "version_major": 2,
       "version_minor": 0
      },
      "text/plain": [
       "  0%|          | 0/20 [00:00<?, ?it/s]"
      ]
     },
     "metadata": {},
     "output_type": "display_data"
    },
    {
     "data": {
      "application/vnd.jupyter.widget-view+json": {
       "model_id": "148d12467267464b908355521920c715",
       "version_major": 2,
       "version_minor": 0
      },
      "text/plain": [
       "  0%|          | 0/20 [00:00<?, ?it/s]"
      ]
     },
     "metadata": {},
     "output_type": "display_data"
    },
    {
     "data": {
      "application/vnd.jupyter.widget-view+json": {
       "model_id": "1bfb3724c6094f9fbad64e6e6acef8e5",
       "version_major": 2,
       "version_minor": 0
      },
      "text/plain": [
       "  0%|          | 0/20 [00:00<?, ?it/s]"
      ]
     },
     "metadata": {},
     "output_type": "display_data"
    },
    {
     "data": {
      "application/vnd.jupyter.widget-view+json": {
       "model_id": "42166e0a5cf84f6db287593c201f836c",
       "version_major": 2,
       "version_minor": 0
      },
      "text/plain": [
       "  0%|          | 0/20 [00:00<?, ?it/s]"
      ]
     },
     "metadata": {},
     "output_type": "display_data"
    },
    {
     "data": {
      "application/vnd.jupyter.widget-view+json": {
       "model_id": "d832ef11e13a4bbba31f20165709ae08",
       "version_major": 2,
       "version_minor": 0
      },
      "text/plain": [
       "  0%|          | 0/20 [00:00<?, ?it/s]"
      ]
     },
     "metadata": {},
     "output_type": "display_data"
    },
    {
     "data": {
      "application/vnd.jupyter.widget-view+json": {
       "model_id": "7b0acadb77ca4ffaa70b119439081d6f",
       "version_major": 2,
       "version_minor": 0
      },
      "text/plain": [
       "  0%|          | 0/20 [00:00<?, ?it/s]"
      ]
     },
     "metadata": {},
     "output_type": "display_data"
    }
   ],
   "source": [
    "guidance_scale        = 0.7\n",
    "num_inference_steps   = 20\n",
    "num_images_per_prompt = 1\n",
    "n = 5\n",
    "\n",
    "for i,prompt in enumerate(scene_lines):\n",
    "    for j in range(1,n+1):\n",
    "        low_res_image = Image.open(\"outputs/robertson/scene_{}_{}.png\".format(i+1,j)).convert(\"RGB\")\n",
    "        low_res_image = low_res_image.resize((256,256))\n",
    "\n",
    "        image = pipeline(\n",
    "            prompt=\"{} {}\".format(prompt, positive_prompt),\n",
    "            negative_prompt=negative_prompt,\n",
    "            image=low_res_image,\n",
    "            num_images_per_prompt=num_images_per_prompt,\n",
    "            num_inference_steps=num_inference_steps,\n",
    "            #guidance_scale=guidance_scale,    \n",
    "        ).images[0]\n",
    "\n",
    "        image.save(\"outputs/robertson/scene_{}_{}_upscaled.png\".format(i+1,j))"
   ]
  },
  {
   "cell_type": "code",
   "execution_count": null,
   "id": "9bca0c18",
   "metadata": {},
   "outputs": [],
   "source": []
  }
 ],
 "metadata": {
  "kernelspec": {
   "display_name": "Python 3 (ipykernel)",
   "language": "python",
   "name": "python3"
  },
  "language_info": {
   "codemirror_mode": {
    "name": "ipython",
    "version": 3
   },
   "file_extension": ".py",
   "mimetype": "text/x-python",
   "name": "python",
   "nbconvert_exporter": "python",
   "pygments_lexer": "ipython3",
   "version": "3.10.6"
  }
 },
 "nbformat": 4,
 "nbformat_minor": 5
}
