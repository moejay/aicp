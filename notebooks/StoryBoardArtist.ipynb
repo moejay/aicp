{
 "cells": [
  {
   "cell_type": "markdown",
   "id": "5e81f6a5",
   "metadata": {},
   "source": [
    "### Given a topic research the latest news"
   ]
  },
  {
   "cell_type": "code",
   "execution_count": 9,
   "id": "7ba322a5",
   "metadata": {},
   "outputs": [
    {
     "data": {
      "text/plain": [
       "True"
      ]
     },
     "execution_count": 9,
     "metadata": {},
     "output_type": "execute_result"
    }
   ],
   "source": [
    "from dotenv import load_dotenv\n",
    "load_dotenv()"
   ]
  },
  {
   "cell_type": "code",
   "execution_count": 10,
   "id": "a1502a2c",
   "metadata": {},
   "outputs": [
    {
     "data": {
      "text/plain": [
       "['A simple, somber room with a portrait of Silvio Berlusconi on the wall. The camera slowly zooms in on the portrait.',\n",
       " \"A montage of clips showcasing Berlusconi's political career and business achievements. Images of newspaper headlines detailing his scandals are interspersed.\",\n",
       " 'Footage of lowered flags across Italy and Europe. A crowd gathered for the funeral at Milan Cathedral.',\n",
       " 'A series of photos and clips of world leaders offering tributes.',\n",
       " \"Clips of Berlusconi's center-right party, Forza Italia, and its activities under Giorgia Meloni's leadership. Images of Berlusconi's public appearances before his death.\"]"
      ]
     },
     "execution_count": 10,
     "metadata": {},
     "output_type": "execute_result"
    }
   ],
   "source": [
    "with open(\"outputs/silvio/scriptwriter_out.txt\", \"r\") as file:\n",
    "    # Read all lines from the file\n",
    "    lines = file.readlines()\n",
    "\n",
    "# Extract lines starting with \"[Scene\"\n",
    "scene_lines = [line[13:-2].strip() for line in lines if line.startswith(\"[Scene\")]\n",
    "scene_lines"
   ]
  },
  {
   "cell_type": "code",
   "execution_count": 4,
   "id": "d6c69e6d",
   "metadata": {},
   "outputs": [
    {
     "name": "stderr",
     "output_type": "stream",
     "text": [
      "safety_checker/model.safetensors not found\n",
      "`text_config_dict` is provided which will be used to initialize `CLIPTextConfig`. The value `text_config[\"id2label\"]` will be overriden.\n"
     ]
    }
   ],
   "source": [
    "import torch\n",
    "from diffusers import StableDiffusionPipeline\n",
    "\n",
    "pipeline = StableDiffusionPipeline.from_pretrained(\"SG161222/Realistic_Vision_V2.0\", torch_dtype=torch.float16)  "
   ]
  },
  {
   "cell_type": "code",
   "execution_count": 5,
   "id": "d016f806",
   "metadata": {},
   "outputs": [],
   "source": [
    "pipeline = pipeline.to(\"cuda\")\n",
    "pipeline.enable_xformers_memory_efficient_attention()"
   ]
  },
  {
   "cell_type": "code",
   "execution_count": 6,
   "id": "1b58b568",
   "metadata": {},
   "outputs": [
    {
     "data": {
      "text/plain": [
       "[diffusers.schedulers.scheduling_k_dpm_2_ancestral_discrete.KDPM2AncestralDiscreteScheduler,\n",
       " diffusers.schedulers.scheduling_pndm.PNDMScheduler,\n",
       " diffusers.schedulers.scheduling_heun_discrete.HeunDiscreteScheduler,\n",
       " diffusers.schedulers.scheduling_deis_multistep.DEISMultistepScheduler,\n",
       " diffusers.schedulers.scheduling_k_dpm_2_discrete.KDPM2DiscreteScheduler,\n",
       " diffusers.schedulers.scheduling_ddpm.DDPMScheduler,\n",
       " diffusers.schedulers.scheduling_euler_ancestral_discrete.EulerAncestralDiscreteScheduler,\n",
       " diffusers.schedulers.scheduling_ddim.DDIMScheduler,\n",
       " diffusers.schedulers.scheduling_euler_discrete.EulerDiscreteScheduler,\n",
       " diffusers.schedulers.scheduling_lms_discrete.LMSDiscreteScheduler,\n",
       " diffusers.schedulers.scheduling_dpmsolver_multistep.DPMSolverMultistepScheduler,\n",
       " diffusers.utils.dummy_torch_and_torchsde_objects.DPMSolverSDEScheduler,\n",
       " diffusers.schedulers.scheduling_dpmsolver_singlestep.DPMSolverSinglestepScheduler,\n",
       " diffusers.schedulers.scheduling_unipc_multistep.UniPCMultistepScheduler]"
      ]
     },
     "execution_count": 6,
     "metadata": {},
     "output_type": "execute_result"
    }
   ],
   "source": [
    "pipeline.scheduler.compatibles"
   ]
  },
  {
   "cell_type": "code",
   "execution_count": 7,
   "id": "b73d9bbd",
   "metadata": {},
   "outputs": [],
   "source": [
    "from diffusers import DPMSolverMultistepScheduler\n",
    "\n",
    "pipeline.scheduler = DPMSolverMultistepScheduler.from_config(pipeline.scheduler.config)"
   ]
  },
  {
   "cell_type": "code",
   "execution_count": 11,
   "id": "07844b3b",
   "metadata": {},
   "outputs": [],
   "source": [
    "positive_prompt = \"\"\"\n",
    "(high detailed skin:1.2), 8k uhd, dslr, soft lighting, (high quality), film grain, Fujifilm XT3, (reportage, journalism)\n",
    "\"\"\"\n",
    "\n",
    "negative_prompt=\"\"\"\n",
    "((text:1.4, deformed iris, deformed pupils, semi-realistic, cgi, 3d, render, sketch, cartoon, drawing, anime:1.4, nudity)),\n",
    "close up, cropped, out of frame, worst quality, low quality, jpeg artifacts, ugly, duplicate,\n",
    "morbid, mutilated, extra fingers, mutated hands, poorly drawn hands, poorly drawn face, mutation,\n",
    "deformed, blurry, burns, dehydrated, bad anatomy, bad proportions, extra limbs, cloned face, disfigured,\n",
    "gross proportions, malformed limbs, missing arms, missing legs, extra arms, extra legs, fused fingers,\n",
    "too many fingers, long neck\n",
    "\"\"\""
   ]
  },
  {
   "cell_type": "code",
   "execution_count": 9,
   "id": "78a44865",
   "metadata": {},
   "outputs": [
    {
     "data": {
      "application/vnd.jupyter.widget-view+json": {
       "model_id": "280ce6283750417cab012bb886312658",
       "version_major": 2,
       "version_minor": 0
      },
      "text/plain": [
       "  0%|          | 0/50 [00:00<?, ?it/s]"
      ]
     },
     "metadata": {},
     "output_type": "display_data"
    },
    {
     "data": {
      "application/vnd.jupyter.widget-view+json": {
       "model_id": "29941e14348c4bd3a469469e992dba7e",
       "version_major": 2,
       "version_minor": 0
      },
      "text/plain": [
       "  0%|          | 0/50 [00:00<?, ?it/s]"
      ]
     },
     "metadata": {},
     "output_type": "display_data"
    },
    {
     "data": {
      "application/vnd.jupyter.widget-view+json": {
       "model_id": "a16030515a5040b2b71f94e2178db92a",
       "version_major": 2,
       "version_minor": 0
      },
      "text/plain": [
       "  0%|          | 0/50 [00:00<?, ?it/s]"
      ]
     },
     "metadata": {},
     "output_type": "display_data"
    },
    {
     "data": {
      "application/vnd.jupyter.widget-view+json": {
       "model_id": "d0c472c049c648aeb06cdce7f70b92ba",
       "version_major": 2,
       "version_minor": 0
      },
      "text/plain": [
       "  0%|          | 0/50 [00:00<?, ?it/s]"
      ]
     },
     "metadata": {},
     "output_type": "display_data"
    },
    {
     "data": {
      "application/vnd.jupyter.widget-view+json": {
       "model_id": "78cc00c91ec6479d8cc7b62bcac7cffd",
       "version_major": 2,
       "version_minor": 0
      },
      "text/plain": [
       "  0%|          | 0/50 [00:00<?, ?it/s]"
      ]
     },
     "metadata": {},
     "output_type": "display_data"
    }
   ],
   "source": [
    "guidance_scale        = 0.7\n",
    "num_inference_steps   = 50\n",
    "num_images_per_prompt = 5\n",
    "\n",
    "for i,line in enumerate(scene_lines):\n",
    "    prompt = line\n",
    "    images = pipeline(\n",
    "        prompt=\"{} {}\".format(prompt, positive_prompt),\n",
    "        negative_prompt=negative_prompt,\n",
    "        num_images_per_prompt=num_images_per_prompt,\n",
    "        num_inference_steps=num_inference_steps,\n",
    "        #guidance_scale=guidance_scale,\n",
    "    ).images\n",
    "        \n",
    "    for j,image in enumerate(images):\n",
    "        image.save(\"outputs/silvio/scene_{}_{}.png\".format(i+1, j+1))"
   ]
  },
  {
   "cell_type": "code",
   "execution_count": 20,
   "id": "54e964b5",
   "metadata": {},
   "outputs": [],
   "source": [
    "# Free GPU memory for upscaler\n",
    "del pipeline\n",
    "del images\n",
    "torch.cuda.empty_cache()"
   ]
  },
  {
   "cell_type": "code",
   "execution_count": 12,
   "id": "35ef9617",
   "metadata": {},
   "outputs": [
    {
     "name": "stderr",
     "output_type": "stream",
     "text": [
      "vae/diffusion_pytorch_model.safetensors not found\n"
     ]
    }
   ],
   "source": [
    "from PIL import Image\n",
    "from diffusers import StableDiffusionUpscalePipeline\n",
    "\n",
    "import torch\n",
    "\n",
    "pipeline = StableDiffusionUpscalePipeline.from_pretrained(\n",
    "    \"stabilityai/stable-diffusion-x4-upscaler\",\n",
    "    revision=\"fp16\",\n",
    "    torch_dtype=torch.float16\n",
    ")"
   ]
  },
  {
   "cell_type": "code",
   "execution_count": 13,
   "id": "b8bfedca",
   "metadata": {},
   "outputs": [],
   "source": [
    "from xformers.ops import MemoryEfficientAttentionFlashAttentionOp\n",
    "\n",
    "pipeline = pipeline.to(\"cuda\")\n",
    "pipeline.enable_xformers_memory_efficient_attention(attention_op=MemoryEfficientAttentionFlashAttentionOp)\n",
    "# Workaround for not accepting attention shape using VAE for Flash Attention\n",
    "pipeline.vae.enable_xformers_memory_efficient_attention(attention_op=None)"
   ]
  },
  {
   "cell_type": "code",
   "execution_count": 14,
   "id": "8ce36e39",
   "metadata": {},
   "outputs": [
    {
     "data": {
      "application/vnd.jupyter.widget-view+json": {
       "model_id": "7c88a88372704c7cb87ee523933e25e3",
       "version_major": 2,
       "version_minor": 0
      },
      "text/plain": [
       "  0%|          | 0/20 [00:00<?, ?it/s]"
      ]
     },
     "metadata": {},
     "output_type": "display_data"
    },
    {
     "data": {
      "application/vnd.jupyter.widget-view+json": {
       "model_id": "467e2c9f887c4bdda7e18391f9a3c93b",
       "version_major": 2,
       "version_minor": 0
      },
      "text/plain": [
       "  0%|          | 0/20 [00:00<?, ?it/s]"
      ]
     },
     "metadata": {},
     "output_type": "display_data"
    },
    {
     "data": {
      "application/vnd.jupyter.widget-view+json": {
       "model_id": "ecba04eda45942b4a3f9c3d96cc0a8e1",
       "version_major": 2,
       "version_minor": 0
      },
      "text/plain": [
       "  0%|          | 0/20 [00:00<?, ?it/s]"
      ]
     },
     "metadata": {},
     "output_type": "display_data"
    },
    {
     "data": {
      "application/vnd.jupyter.widget-view+json": {
       "model_id": "32582383d02e49cbbe1401b1c966f184",
       "version_major": 2,
       "version_minor": 0
      },
      "text/plain": [
       "  0%|          | 0/20 [00:00<?, ?it/s]"
      ]
     },
     "metadata": {},
     "output_type": "display_data"
    },
    {
     "data": {
      "application/vnd.jupyter.widget-view+json": {
       "model_id": "37f8b98400864c22a097411f05f8b650",
       "version_major": 2,
       "version_minor": 0
      },
      "text/plain": [
       "  0%|          | 0/20 [00:00<?, ?it/s]"
      ]
     },
     "metadata": {},
     "output_type": "display_data"
    }
   ],
   "source": [
    "guidance_scale        = 0.7\n",
    "num_inference_steps   = 20\n",
    "num_images_per_prompt = 1\n",
    "\n",
    "for i,prompt in enumerate(scene_lines):\n",
    "    low_res_image = Image.open(\"outputs/silvio/scene_{}_2.png\".format(i+1)).convert(\"RGB\")\n",
    "    low_res_image = low_res_image.resize((256,256))\n",
    "\n",
    "    image = pipeline(\n",
    "        prompt=\"{} {}\".format(prompt, positive_prompt),\n",
    "        negative_prompt=negative_prompt,\n",
    "        image=low_res_image,\n",
    "        num_images_per_prompt=num_images_per_prompt,\n",
    "        num_inference_steps=num_inference_steps,\n",
    "        #guidance_scale=guidance_scale,    \n",
    "    ).images[0]\n",
    "\n",
    "    image.save(\"outputs/silvio/scene_{}_2_upscaled.png\".format(i+1))"
   ]
  },
  {
   "cell_type": "code",
   "execution_count": null,
   "id": "d9b699dc",
   "metadata": {},
   "outputs": [],
   "source": []
  }
 ],
 "metadata": {
  "kernelspec": {
   "display_name": "Python 3 (ipykernel)",
   "language": "python",
   "name": "python3"
  },
  "language_info": {
   "codemirror_mode": {
    "name": "ipython",
    "version": 3
   },
   "file_extension": ".py",
   "mimetype": "text/x-python",
   "name": "python",
   "nbconvert_exporter": "python",
   "pygments_lexer": "ipython3",
   "version": "3.10.10"
  }
 },
 "nbformat": 4,
 "nbformat_minor": 5
}
